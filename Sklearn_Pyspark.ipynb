{
  "nbformat": 4,
  "nbformat_minor": 0,
  "metadata": {
    "colab": {
      "name": "Sklearn_Pyspark.ipynb",
      "provenance": [],
      "collapsed_sections": [
        "qBVdMbDuuLHv"
      ]
    },
    "kernelspec": {
      "display_name": "Python 3",
      "name": "python3"
    },
    "language_info": {
      "name": "python"
    }
  },
  "cells": [
    {
      "cell_type": "markdown",
      "metadata": {
        "id": "ETZ9CDIDLYHp"
      },
      "source": [
        "## Libraries and Setup Jargon\n",
        "Run the following cells to set up the notebook.\n",
        "\n",
        "When prompted for a selection, select the number that is associated with java 8 (this should be option 2)"
      ]
    },
    {
      "cell_type": "code",
      "metadata": {
        "id": "KLatjcDhLUIy",
        "colab": {
          "base_uri": "https://localhost:8080/"
        },
        "outputId": "f08e09eb-a149-4250-eb13-50e9fb1da498"
      },
      "source": [
        "! sudo apt install openjdk-8-jdk\n",
        "! sudo update-alternatives --config java"
      ],
      "execution_count": null,
      "outputs": [
        {
          "output_type": "stream",
          "name": "stdout",
          "text": [
            "Reading package lists... Done\n",
            "Building dependency tree       \n",
            "Reading state information... Done\n",
            "The following additional packages will be installed:\n",
            "  fonts-dejavu-core fonts-dejavu-extra libatk-wrapper-java\n",
            "  libatk-wrapper-java-jni libgail-common libgail18 libgtk2.0-0 libgtk2.0-bin\n",
            "  libgtk2.0-common libxxf86dga1 openjdk-8-jdk-headless openjdk-8-jre\n",
            "  openjdk-8-jre-headless x11-utils\n",
            "Suggested packages:\n",
            "  gvfs openjdk-8-demo openjdk-8-source visualvm icedtea-8-plugin libnss-mdns\n",
            "  fonts-ipafont-gothic fonts-ipafont-mincho fonts-wqy-microhei\n",
            "  fonts-wqy-zenhei fonts-indic mesa-utils\n",
            "The following NEW packages will be installed:\n",
            "  fonts-dejavu-core fonts-dejavu-extra libatk-wrapper-java\n",
            "  libatk-wrapper-java-jni libgail-common libgail18 libgtk2.0-0 libgtk2.0-bin\n",
            "  libgtk2.0-common libxxf86dga1 openjdk-8-jdk openjdk-8-jdk-headless\n",
            "  openjdk-8-jre openjdk-8-jre-headless x11-utils\n",
            "0 upgraded, 15 newly installed, 0 to remove and 37 not upgraded.\n",
            "Need to get 43.5 MB of archives.\n",
            "After this operation, 163 MB of additional disk space will be used.\n",
            "Get:1 http://archive.ubuntu.com/ubuntu bionic/main amd64 libxxf86dga1 amd64 2:1.1.4-1 [13.7 kB]\n",
            "Get:2 http://archive.ubuntu.com/ubuntu bionic/main amd64 fonts-dejavu-core all 2.37-1 [1,041 kB]\n",
            "Get:3 http://archive.ubuntu.com/ubuntu bionic/main amd64 fonts-dejavu-extra all 2.37-1 [1,953 kB]\n",
            "Get:4 http://archive.ubuntu.com/ubuntu bionic/main amd64 x11-utils amd64 7.7+3build1 [196 kB]\n",
            "Get:5 http://archive.ubuntu.com/ubuntu bionic/main amd64 libatk-wrapper-java all 0.33.3-20ubuntu0.1 [34.7 kB]\n",
            "Get:6 http://archive.ubuntu.com/ubuntu bionic/main amd64 libatk-wrapper-java-jni amd64 0.33.3-20ubuntu0.1 [28.3 kB]\n",
            "Get:7 http://archive.ubuntu.com/ubuntu bionic/main amd64 libgtk2.0-common all 2.24.32-1ubuntu1 [125 kB]\n",
            "Get:8 http://archive.ubuntu.com/ubuntu bionic/main amd64 libgtk2.0-0 amd64 2.24.32-1ubuntu1 [1,769 kB]\n",
            "Get:9 http://archive.ubuntu.com/ubuntu bionic/main amd64 libgail18 amd64 2.24.32-1ubuntu1 [14.2 kB]\n",
            "Get:10 http://archive.ubuntu.com/ubuntu bionic/main amd64 libgail-common amd64 2.24.32-1ubuntu1 [112 kB]\n",
            "Get:11 http://archive.ubuntu.com/ubuntu bionic/main amd64 libgtk2.0-bin amd64 2.24.32-1ubuntu1 [7,536 B]\n",
            "Get:12 http://archive.ubuntu.com/ubuntu bionic-updates/universe amd64 openjdk-8-jre-headless amd64 8u292-b10-0ubuntu1~18.04 [28.2 MB]\n",
            "Get:13 http://archive.ubuntu.com/ubuntu bionic-updates/universe amd64 openjdk-8-jre amd64 8u292-b10-0ubuntu1~18.04 [69.6 kB]\n",
            "Get:14 http://archive.ubuntu.com/ubuntu bionic-updates/universe amd64 openjdk-8-jdk-headless amd64 8u292-b10-0ubuntu1~18.04 [8,284 kB]\n",
            "Get:15 http://archive.ubuntu.com/ubuntu bionic-updates/universe amd64 openjdk-8-jdk amd64 8u292-b10-0ubuntu1~18.04 [1,644 kB]\n",
            "Fetched 43.5 MB in 2s (22.0 MB/s)\n",
            "debconf: unable to initialize frontend: Dialog\n",
            "debconf: (No usable dialog-like program is installed, so the dialog based frontend cannot be used. at /usr/share/perl5/Debconf/FrontEnd/Dialog.pm line 76, <> line 15.)\n",
            "debconf: falling back to frontend: Readline\n",
            "debconf: unable to initialize frontend: Readline\n",
            "debconf: (This frontend requires a controlling tty.)\n",
            "debconf: falling back to frontend: Teletype\n",
            "dpkg-preconfigure: unable to re-open stdin: \n",
            "Selecting previously unselected package libxxf86dga1:amd64.\n",
            "(Reading database ... 155219 files and directories currently installed.)\n",
            "Preparing to unpack .../00-libxxf86dga1_2%3a1.1.4-1_amd64.deb ...\n",
            "Unpacking libxxf86dga1:amd64 (2:1.1.4-1) ...\n",
            "Selecting previously unselected package fonts-dejavu-core.\n",
            "Preparing to unpack .../01-fonts-dejavu-core_2.37-1_all.deb ...\n",
            "Unpacking fonts-dejavu-core (2.37-1) ...\n",
            "Selecting previously unselected package fonts-dejavu-extra.\n",
            "Preparing to unpack .../02-fonts-dejavu-extra_2.37-1_all.deb ...\n",
            "Unpacking fonts-dejavu-extra (2.37-1) ...\n",
            "Selecting previously unselected package x11-utils.\n",
            "Preparing to unpack .../03-x11-utils_7.7+3build1_amd64.deb ...\n",
            "Unpacking x11-utils (7.7+3build1) ...\n",
            "Selecting previously unselected package libatk-wrapper-java.\n",
            "Preparing to unpack .../04-libatk-wrapper-java_0.33.3-20ubuntu0.1_all.deb ...\n",
            "Unpacking libatk-wrapper-java (0.33.3-20ubuntu0.1) ...\n",
            "Selecting previously unselected package libatk-wrapper-java-jni:amd64.\n",
            "Preparing to unpack .../05-libatk-wrapper-java-jni_0.33.3-20ubuntu0.1_amd64.deb ...\n",
            "Unpacking libatk-wrapper-java-jni:amd64 (0.33.3-20ubuntu0.1) ...\n",
            "Selecting previously unselected package libgtk2.0-common.\n",
            "Preparing to unpack .../06-libgtk2.0-common_2.24.32-1ubuntu1_all.deb ...\n",
            "Unpacking libgtk2.0-common (2.24.32-1ubuntu1) ...\n",
            "Selecting previously unselected package libgtk2.0-0:amd64.\n",
            "Preparing to unpack .../07-libgtk2.0-0_2.24.32-1ubuntu1_amd64.deb ...\n",
            "Unpacking libgtk2.0-0:amd64 (2.24.32-1ubuntu1) ...\n",
            "Selecting previously unselected package libgail18:amd64.\n",
            "Preparing to unpack .../08-libgail18_2.24.32-1ubuntu1_amd64.deb ...\n",
            "Unpacking libgail18:amd64 (2.24.32-1ubuntu1) ...\n",
            "Selecting previously unselected package libgail-common:amd64.\n",
            "Preparing to unpack .../09-libgail-common_2.24.32-1ubuntu1_amd64.deb ...\n",
            "Unpacking libgail-common:amd64 (2.24.32-1ubuntu1) ...\n",
            "Selecting previously unselected package libgtk2.0-bin.\n",
            "Preparing to unpack .../10-libgtk2.0-bin_2.24.32-1ubuntu1_amd64.deb ...\n",
            "Unpacking libgtk2.0-bin (2.24.32-1ubuntu1) ...\n",
            "Selecting previously unselected package openjdk-8-jre-headless:amd64.\n",
            "Preparing to unpack .../11-openjdk-8-jre-headless_8u292-b10-0ubuntu1~18.04_amd64.deb ...\n",
            "Unpacking openjdk-8-jre-headless:amd64 (8u292-b10-0ubuntu1~18.04) ...\n",
            "Selecting previously unselected package openjdk-8-jre:amd64.\n",
            "Preparing to unpack .../12-openjdk-8-jre_8u292-b10-0ubuntu1~18.04_amd64.deb ...\n",
            "Unpacking openjdk-8-jre:amd64 (8u292-b10-0ubuntu1~18.04) ...\n",
            "Selecting previously unselected package openjdk-8-jdk-headless:amd64.\n",
            "Preparing to unpack .../13-openjdk-8-jdk-headless_8u292-b10-0ubuntu1~18.04_amd64.deb ...\n",
            "Unpacking openjdk-8-jdk-headless:amd64 (8u292-b10-0ubuntu1~18.04) ...\n",
            "Selecting previously unselected package openjdk-8-jdk:amd64.\n",
            "Preparing to unpack .../14-openjdk-8-jdk_8u292-b10-0ubuntu1~18.04_amd64.deb ...\n",
            "Unpacking openjdk-8-jdk:amd64 (8u292-b10-0ubuntu1~18.04) ...\n",
            "Setting up libgtk2.0-common (2.24.32-1ubuntu1) ...\n",
            "Setting up fonts-dejavu-core (2.37-1) ...\n",
            "Setting up libxxf86dga1:amd64 (2:1.1.4-1) ...\n",
            "Setting up fonts-dejavu-extra (2.37-1) ...\n",
            "Setting up openjdk-8-jre-headless:amd64 (8u292-b10-0ubuntu1~18.04) ...\n",
            "update-alternatives: using /usr/lib/jvm/java-8-openjdk-amd64/jre/bin/orbd to provide /usr/bin/orbd (orbd) in auto mode\n",
            "update-alternatives: using /usr/lib/jvm/java-8-openjdk-amd64/jre/bin/servertool to provide /usr/bin/servertool (servertool) in auto mode\n",
            "update-alternatives: using /usr/lib/jvm/java-8-openjdk-amd64/jre/bin/tnameserv to provide /usr/bin/tnameserv (tnameserv) in auto mode\n",
            "Setting up libgtk2.0-0:amd64 (2.24.32-1ubuntu1) ...\n",
            "Setting up libgail18:amd64 (2.24.32-1ubuntu1) ...\n",
            "Setting up openjdk-8-jdk-headless:amd64 (8u292-b10-0ubuntu1~18.04) ...\n",
            "update-alternatives: using /usr/lib/jvm/java-8-openjdk-amd64/bin/idlj to provide /usr/bin/idlj (idlj) in auto mode\n",
            "update-alternatives: using /usr/lib/jvm/java-8-openjdk-amd64/bin/wsimport to provide /usr/bin/wsimport (wsimport) in auto mode\n",
            "update-alternatives: using /usr/lib/jvm/java-8-openjdk-amd64/bin/jsadebugd to provide /usr/bin/jsadebugd (jsadebugd) in auto mode\n",
            "update-alternatives: using /usr/lib/jvm/java-8-openjdk-amd64/bin/native2ascii to provide /usr/bin/native2ascii (native2ascii) in auto mode\n",
            "update-alternatives: using /usr/lib/jvm/java-8-openjdk-amd64/bin/javah to provide /usr/bin/javah (javah) in auto mode\n",
            "update-alternatives: using /usr/lib/jvm/java-8-openjdk-amd64/bin/hsdb to provide /usr/bin/hsdb (hsdb) in auto mode\n",
            "update-alternatives: using /usr/lib/jvm/java-8-openjdk-amd64/bin/clhsdb to provide /usr/bin/clhsdb (clhsdb) in auto mode\n",
            "update-alternatives: using /usr/lib/jvm/java-8-openjdk-amd64/bin/extcheck to provide /usr/bin/extcheck (extcheck) in auto mode\n",
            "update-alternatives: using /usr/lib/jvm/java-8-openjdk-amd64/bin/schemagen to provide /usr/bin/schemagen (schemagen) in auto mode\n",
            "update-alternatives: using /usr/lib/jvm/java-8-openjdk-amd64/bin/xjc to provide /usr/bin/xjc (xjc) in auto mode\n",
            "update-alternatives: using /usr/lib/jvm/java-8-openjdk-amd64/bin/jhat to provide /usr/bin/jhat (jhat) in auto mode\n",
            "update-alternatives: using /usr/lib/jvm/java-8-openjdk-amd64/bin/wsgen to provide /usr/bin/wsgen (wsgen) in auto mode\n",
            "Setting up x11-utils (7.7+3build1) ...\n",
            "Setting up libgail-common:amd64 (2.24.32-1ubuntu1) ...\n",
            "Setting up libatk-wrapper-java (0.33.3-20ubuntu0.1) ...\n",
            "Setting up libgtk2.0-bin (2.24.32-1ubuntu1) ...\n",
            "Setting up libatk-wrapper-java-jni:amd64 (0.33.3-20ubuntu0.1) ...\n",
            "Setting up openjdk-8-jre:amd64 (8u292-b10-0ubuntu1~18.04) ...\n",
            "update-alternatives: using /usr/lib/jvm/java-8-openjdk-amd64/jre/bin/policytool to provide /usr/bin/policytool (policytool) in auto mode\n",
            "Setting up openjdk-8-jdk:amd64 (8u292-b10-0ubuntu1~18.04) ...\n",
            "update-alternatives: using /usr/lib/jvm/java-8-openjdk-amd64/bin/appletviewer to provide /usr/bin/appletviewer (appletviewer) in auto mode\n",
            "update-alternatives: using /usr/lib/jvm/java-8-openjdk-amd64/bin/jconsole to provide /usr/bin/jconsole (jconsole) in auto mode\n",
            "Processing triggers for man-db (2.8.3-2ubuntu0.1) ...\n",
            "Processing triggers for hicolor-icon-theme (0.17-2) ...\n",
            "Processing triggers for fontconfig (2.12.6-0ubuntu2) ...\n",
            "Processing triggers for mime-support (3.60ubuntu1) ...\n",
            "Processing triggers for libc-bin (2.27-3ubuntu1.3) ...\n",
            "/sbin/ldconfig.real: /usr/local/lib/python3.7/dist-packages/ideep4py/lib/libmkldnn.so.0 is not a symbolic link\n",
            "\n",
            "There are 2 choices for the alternative java (providing /usr/bin/java).\n",
            "\n",
            "  Selection    Path                                            Priority   Status\n",
            "------------------------------------------------------------\n",
            "* 0            /usr/lib/jvm/java-11-openjdk-amd64/bin/java      1111      auto mode\n",
            "  1            /usr/lib/jvm/java-11-openjdk-amd64/bin/java      1111      manual mode\n",
            "  2            /usr/lib/jvm/java-8-openjdk-amd64/jre/bin/java   1081      manual mode\n",
            "\n",
            "Press <enter> to keep the current choice[*], or type selection number: 2\n",
            "update-alternatives: using /usr/lib/jvm/java-8-openjdk-amd64/jre/bin/java to provide /usr/bin/java (java) in manual mode\n"
          ]
        }
      ]
    },
    {
      "cell_type": "code",
      "metadata": {
        "id": "TBTaESEdMmiU",
        "colab": {
          "base_uri": "https://localhost:8080/"
        },
        "outputId": "abc785a8-9734-4a54-f370-dc7eb9141f5f"
      },
      "source": [
        "# Sklearn and Pandas Setup\n",
        "\n",
        "import pandas as pd\n",
        "print(pd.__version__ == '1.1.5')\n",
        "import numpy as np \n",
        "import json\n",
        "import matplotlib\n",
        "import matplotlib.pyplot as plt\n",
        "from matplotlib import cm\n",
        "from datetime import datetime\n",
        "import glob\n",
        "import seaborn as sns\n",
        "import re\n",
        "import os"
      ],
      "execution_count": null,
      "outputs": [
        {
          "output_type": "stream",
          "name": "stdout",
          "text": [
            "True\n"
          ]
        }
      ]
    },
    {
      "cell_type": "code",
      "metadata": {
        "id": "tA6oTIZtRjf7",
        "colab": {
          "base_uri": "https://localhost:8080/"
        },
        "outputId": "6ff64218-0e2b-46c7-a289-393ac3bb4d9f"
      },
      "source": [
        "!apt update\n",
        "!apt install gcc python-dev libkrb5-dev"
      ],
      "execution_count": null,
      "outputs": [
        {
          "output_type": "stream",
          "name": "stdout",
          "text": [
            "\u001b[33m\r0% [Working]\u001b[0m\r            \rGet:1 http://security.ubuntu.com/ubuntu bionic-security InRelease [88.7 kB]\n",
            "\u001b[33m\r0% [Connecting to archive.ubuntu.com (91.189.88.142)] [1 InRelease 14.2 kB/88.7\u001b[0m\r                                                                               \rGet:2 https://cloud.r-project.org/bin/linux/ubuntu bionic-cran40/ InRelease [3,626 B]\n",
            "\u001b[33m\r0% [Connecting to archive.ubuntu.com (91.189.88.142)] [1 InRelease 40.2 kB/88.7\u001b[0m\u001b[33m\r0% [Connecting to archive.ubuntu.com (91.189.88.142)] [1 InRelease 59.1 kB/88.7\u001b[0m\u001b[33m\r0% [2 InRelease gpgv 3,626 B] [Connecting to archive.ubuntu.com (91.189.88.142)\u001b[0m\u001b[33m\r0% [2 InRelease gpgv 3,626 B] [Connecting to archive.ubuntu.com (91.189.88.142)\u001b[0m\r                                                                               \rHit:3 http://archive.ubuntu.com/ubuntu bionic InRelease\n",
            "Get:4 http://ppa.launchpad.net/c2d4u.team/c2d4u4.0+/ubuntu bionic InRelease [15.9 kB]\n",
            "Get:5 http://archive.ubuntu.com/ubuntu bionic-updates InRelease [88.7 kB]\n",
            "Get:6 https://cloud.r-project.org/bin/linux/ubuntu bionic-cran40/ Packages [73.0 kB]\n",
            "Ign:7 https://developer.download.nvidia.com/compute/cuda/repos/ubuntu1804/x86_64  InRelease\n",
            "Hit:8 http://ppa.launchpad.net/cran/libgit2/ubuntu bionic InRelease\n",
            "Get:9 http://security.ubuntu.com/ubuntu bionic-security/multiverse amd64 Packages [26.8 kB]\n",
            "Get:10 http://archive.ubuntu.com/ubuntu bionic-backports InRelease [74.6 kB]\n",
            "Get:11 http://security.ubuntu.com/ubuntu bionic-security/main amd64 Packages [2,430 kB]\n",
            "Hit:12 http://ppa.launchpad.net/deadsnakes/ppa/ubuntu bionic InRelease\n",
            "Get:13 http://security.ubuntu.com/ubuntu bionic-security/restricted amd64 Packages [666 kB]\n",
            "Get:14 http://security.ubuntu.com/ubuntu bionic-security/universe amd64 Packages [1,439 kB]\n",
            "Hit:15 http://ppa.launchpad.net/graphics-drivers/ppa/ubuntu bionic InRelease\n",
            "Ign:16 https://developer.download.nvidia.com/compute/machine-learning/repos/ubuntu1804/x86_64  InRelease\n",
            "Get:17 https://developer.download.nvidia.com/compute/cuda/repos/ubuntu1804/x86_64  Release [696 B]\n",
            "Hit:18 https://developer.download.nvidia.com/compute/machine-learning/repos/ubuntu1804/x86_64  Release\n",
            "Get:19 https://developer.download.nvidia.com/compute/cuda/repos/ubuntu1804/x86_64  Release.gpg [836 B]\n",
            "Get:20 http://ppa.launchpad.net/c2d4u.team/c2d4u4.0+/ubuntu bionic/main Sources [1,812 kB]\n",
            "Get:21 http://archive.ubuntu.com/ubuntu bionic-updates/universe amd64 Packages [2,220 kB]\n",
            "Get:22 http://ppa.launchpad.net/c2d4u.team/c2d4u4.0+/ubuntu bionic/main amd64 Packages [928 kB]\n",
            "Get:23 http://archive.ubuntu.com/ubuntu bionic-updates/restricted amd64 Packages [699 kB]\n",
            "Get:24 http://archive.ubuntu.com/ubuntu bionic-updates/main amd64 Packages [2,868 kB]\n",
            "Get:25 http://archive.ubuntu.com/ubuntu bionic-updates/multiverse amd64 Packages [34.4 kB]\n",
            "Get:27 https://developer.download.nvidia.com/compute/cuda/repos/ubuntu1804/x86_64  Packages [808 kB]\n",
            "Fetched 14.3 MB in 3s (4,839 kB/s)\n",
            "Reading package lists... Done\n",
            "Building dependency tree       \n",
            "Reading state information... Done\n",
            "61 packages can be upgraded. Run 'apt list --upgradable' to see them.\n",
            "Reading package lists... Done\n",
            "Building dependency tree       \n",
            "Reading state information... Done\n",
            "python-dev is already the newest version (2.7.15~rc1-1).\n",
            "gcc is already the newest version (4:7.4.0-1ubuntu2.3).\n",
            "gcc set to manually installed.\n",
            "The following additional packages will be installed:\n",
            "  comerr-dev krb5-multidev libgssrpc4 libkadm5clnt-mit11 libkadm5srv-mit11\n",
            "  libkdb5-9\n",
            "Suggested packages:\n",
            "  doc-base krb5-doc krb5-user\n",
            "The following NEW packages will be installed:\n",
            "  comerr-dev krb5-multidev libgssrpc4 libkadm5clnt-mit11 libkadm5srv-mit11\n",
            "  libkdb5-9 libkrb5-dev\n",
            "0 upgraded, 7 newly installed, 0 to remove and 61 not upgraded.\n",
            "Need to get 349 kB of archives.\n",
            "After this operation, 1,992 kB of additional disk space will be used.\n",
            "Get:1 http://archive.ubuntu.com/ubuntu bionic-updates/main amd64 libgssrpc4 amd64 1.16-2ubuntu0.2 [54.4 kB]\n",
            "Get:2 http://archive.ubuntu.com/ubuntu bionic-updates/main amd64 libkdb5-9 amd64 1.16-2ubuntu0.2 [37.3 kB]\n",
            "Get:3 http://archive.ubuntu.com/ubuntu bionic-updates/main amd64 libkadm5srv-mit11 amd64 1.16-2ubuntu0.2 [49.7 kB]\n",
            "Get:4 http://archive.ubuntu.com/ubuntu bionic-updates/main amd64 libkadm5clnt-mit11 amd64 1.16-2ubuntu0.2 [38.0 kB]\n",
            "Get:5 http://archive.ubuntu.com/ubuntu bionic-updates/main amd64 comerr-dev amd64 2.1-1.44.1-1ubuntu1.3 [38.5 kB]\n",
            "Get:6 http://archive.ubuntu.com/ubuntu bionic-updates/main amd64 krb5-multidev amd64 1.16-2ubuntu0.2 [120 kB]\n",
            "Get:7 http://archive.ubuntu.com/ubuntu bionic-updates/main amd64 libkrb5-dev amd64 1.16-2ubuntu0.2 [11.7 kB]\n",
            "Fetched 349 kB in 1s (604 kB/s)\n",
            "Selecting previously unselected package libgssrpc4:amd64.\n",
            "(Reading database ... 155795 files and directories currently installed.)\n",
            "Preparing to unpack .../0-libgssrpc4_1.16-2ubuntu0.2_amd64.deb ...\n",
            "Unpacking libgssrpc4:amd64 (1.16-2ubuntu0.2) ...\n",
            "Selecting previously unselected package libkdb5-9:amd64.\n",
            "Preparing to unpack .../1-libkdb5-9_1.16-2ubuntu0.2_amd64.deb ...\n",
            "Unpacking libkdb5-9:amd64 (1.16-2ubuntu0.2) ...\n",
            "Selecting previously unselected package libkadm5srv-mit11:amd64.\n",
            "Preparing to unpack .../2-libkadm5srv-mit11_1.16-2ubuntu0.2_amd64.deb ...\n",
            "Unpacking libkadm5srv-mit11:amd64 (1.16-2ubuntu0.2) ...\n",
            "Selecting previously unselected package libkadm5clnt-mit11:amd64.\n",
            "Preparing to unpack .../3-libkadm5clnt-mit11_1.16-2ubuntu0.2_amd64.deb ...\n",
            "Unpacking libkadm5clnt-mit11:amd64 (1.16-2ubuntu0.2) ...\n",
            "Selecting previously unselected package comerr-dev:amd64.\n",
            "Preparing to unpack .../4-comerr-dev_2.1-1.44.1-1ubuntu1.3_amd64.deb ...\n",
            "Unpacking comerr-dev:amd64 (2.1-1.44.1-1ubuntu1.3) ...\n",
            "Selecting previously unselected package krb5-multidev:amd64.\n",
            "Preparing to unpack .../5-krb5-multidev_1.16-2ubuntu0.2_amd64.deb ...\n",
            "Unpacking krb5-multidev:amd64 (1.16-2ubuntu0.2) ...\n",
            "Selecting previously unselected package libkrb5-dev:amd64.\n",
            "Preparing to unpack .../6-libkrb5-dev_1.16-2ubuntu0.2_amd64.deb ...\n",
            "Unpacking libkrb5-dev:amd64 (1.16-2ubuntu0.2) ...\n",
            "Setting up libgssrpc4:amd64 (1.16-2ubuntu0.2) ...\n",
            "Setting up comerr-dev:amd64 (2.1-1.44.1-1ubuntu1.3) ...\n",
            "Setting up libkdb5-9:amd64 (1.16-2ubuntu0.2) ...\n",
            "Setting up libkadm5srv-mit11:amd64 (1.16-2ubuntu0.2) ...\n",
            "Setting up libkadm5clnt-mit11:amd64 (1.16-2ubuntu0.2) ...\n",
            "Setting up krb5-multidev:amd64 (1.16-2ubuntu0.2) ...\n",
            "Setting up libkrb5-dev:amd64 (1.16-2ubuntu0.2) ...\n",
            "Processing triggers for man-db (2.8.3-2ubuntu0.1) ...\n",
            "Processing triggers for libc-bin (2.27-3ubuntu1.3) ...\n",
            "/sbin/ldconfig.real: /usr/local/lib/python3.7/dist-packages/ideep4py/lib/libmkldnn.so.0 is not a symbolic link\n",
            "\n"
          ]
        }
      ]
    },
    {
      "cell_type": "code",
      "metadata": {
        "id": "rttpwQVSOKI-",
        "colab": {
          "base_uri": "https://localhost:8080/"
        },
        "outputId": "67211a13-5eb5-449f-f831-ed50abf459c6"
      },
      "source": [
        "from google_drive_downloader import GoogleDriveDownloader as gdd\n",
        "\n",
        "!wget -nc https://storage.googleapis.com/penn-cis545/combined_anime.csv -O anime.csv"
      ],
      "execution_count": null,
      "outputs": [
        {
          "output_type": "stream",
          "name": "stdout",
          "text": [
            "--2021-11-12 09:31:19--  https://storage.googleapis.com/penn-cis545/combined_anime.csv\n",
            "Resolving storage.googleapis.com (storage.googleapis.com)... 172.217.2.112, 172.217.1.208, 172.217.0.48, ...\n",
            "Connecting to storage.googleapis.com (storage.googleapis.com)|172.217.2.112|:443... connected.\n",
            "HTTP request sent, awaiting response... 200 OK\n",
            "Length: 448845499 (428M) [text/csv]\n",
            "Saving to: ‘anime.csv’\n",
            "\n",
            "anime.csv           100%[===================>] 428.05M   185MB/s    in 2.3s    \n",
            "\n",
            "2021-11-12 09:31:22 (185 MB/s) - ‘anime.csv’ saved [448845499/448845499]\n",
            "\n"
          ]
        }
      ]
    },
    {
      "cell_type": "markdown",
      "metadata": {
        "id": "_CdqLzD1NFsr"
      },
      "source": [
        "## **1** Machine Learning with Sklearn\n"
      ]
    },
    {
      "cell_type": "markdown",
      "metadata": {
        "id": "IwS-2VV_obEL"
      },
      "source": [
        "### **1.1** Data Loading and Preprocessing"
      ]
    },
    {
      "cell_type": "markdown",
      "metadata": {
        "id": "UPVlV454ocsZ"
      },
      "source": [
        "#### **1.1.1** Loading Combined CSVs\n",
        "We are using two CSVs for this homework, `anime.csv` and `anime_ratings.csv` from the [MyAnimeList](https://www.kaggle.com/azathoth42/myanimelist?select=animelists_cleaned.csv) dataset.. The ratings correspond to each anime and can be joined on the shared column, `anime_id`. Since the files are very large, we went ahead and joined the files for you and took a random sample of 1% (this will give ~300000 rows, which is sufficient) using the sample function in Pandas.\n",
        "\n",
        "Load `anime.csv` as `anime_df`."
      ]
    },
    {
      "cell_type": "code",
      "metadata": {
        "id": "CZxszFNuNVft",
        "colab": {
          "base_uri": "https://localhost:8080/",
          "height": 1000
        },
        "outputId": "6790f092-5780-4433-ed03-ef65a8d8443e"
      },
      "source": [
        "anime_df = pd.read_csv('/content/anime.csv')\n",
        "anime_df"
      ],
      "execution_count": null,
      "outputs": [
        {
          "output_type": "execute_result",
          "data": {
            "text/html": [
              "<div>\n",
              "<style scoped>\n",
              "    .dataframe tbody tr th:only-of-type {\n",
              "        vertical-align: middle;\n",
              "    }\n",
              "\n",
              "    .dataframe tbody tr th {\n",
              "        vertical-align: top;\n",
              "    }\n",
              "\n",
              "    .dataframe thead th {\n",
              "        text-align: right;\n",
              "    }\n",
              "</style>\n",
              "<table border=\"1\" class=\"dataframe\">\n",
              "  <thead>\n",
              "    <tr style=\"text-align: right;\">\n",
              "      <th></th>\n",
              "      <th>Unnamed: 0</th>\n",
              "      <th>username</th>\n",
              "      <th>anime_id</th>\n",
              "      <th>my_watched_episodes</th>\n",
              "      <th>my_start_date</th>\n",
              "      <th>my_finish_date</th>\n",
              "      <th>my_score</th>\n",
              "      <th>my_status</th>\n",
              "      <th>my_rewatching</th>\n",
              "      <th>my_rewatching_ep</th>\n",
              "      <th>my_last_updated</th>\n",
              "      <th>my_tags</th>\n",
              "      <th>title</th>\n",
              "      <th>title_english</th>\n",
              "      <th>title_japanese</th>\n",
              "      <th>title_synonyms</th>\n",
              "      <th>image_url</th>\n",
              "      <th>type</th>\n",
              "      <th>source</th>\n",
              "      <th>episodes</th>\n",
              "      <th>status</th>\n",
              "      <th>airing</th>\n",
              "      <th>aired_string</th>\n",
              "      <th>aired</th>\n",
              "      <th>duration</th>\n",
              "      <th>rating</th>\n",
              "      <th>score</th>\n",
              "      <th>scored_by</th>\n",
              "      <th>rank</th>\n",
              "      <th>popularity</th>\n",
              "      <th>members</th>\n",
              "      <th>favorites</th>\n",
              "      <th>background</th>\n",
              "      <th>premiered</th>\n",
              "      <th>broadcast</th>\n",
              "      <th>related</th>\n",
              "      <th>producer</th>\n",
              "      <th>licensor</th>\n",
              "      <th>studio</th>\n",
              "      <th>genre</th>\n",
              "      <th>opening_theme</th>\n",
              "      <th>ending_theme</th>\n",
              "      <th>duration_min</th>\n",
              "      <th>aired_from_year</th>\n",
              "    </tr>\n",
              "  </thead>\n",
              "  <tbody>\n",
              "    <tr>\n",
              "      <th>0</th>\n",
              "      <td>28282899</td>\n",
              "      <td>Zukin-Man</td>\n",
              "      <td>10020</td>\n",
              "      <td>4</td>\n",
              "      <td>2013-01-29</td>\n",
              "      <td>2013-01-29</td>\n",
              "      <td>9</td>\n",
              "      <td>2</td>\n",
              "      <td>NaN</td>\n",
              "      <td>0</td>\n",
              "      <td>2013-01-30 05:06:16</td>\n",
              "      <td>comedy, school, otaku humor, romance, WIN</td>\n",
              "      <td>Ore no Imouto ga Konnani Kawaii Wake ga Nai Sp...</td>\n",
              "      <td>OreImo Specials</td>\n",
              "      <td>俺の妹がこんなに可愛いわけがない</td>\n",
              "      <td>My Little Sister Can&amp;#039;t Be This Cute Specials</td>\n",
              "      <td>https://myanimelist.cdn-dena.com/images/anime/...</td>\n",
              "      <td>ONA</td>\n",
              "      <td>Light novel</td>\n",
              "      <td>4</td>\n",
              "      <td>Finished Airing</td>\n",
              "      <td>False</td>\n",
              "      <td>Feb 22, 2011 to May 31, 2011</td>\n",
              "      <td>{'from': '2011-02-22', 'to': '2011-05-31'}</td>\n",
              "      <td>28 min. per ep.</td>\n",
              "      <td>PG-13 - Teens 13 or older</td>\n",
              "      <td>7.57</td>\n",
              "      <td>83849</td>\n",
              "      <td>1435.0</td>\n",
              "      <td>658</td>\n",
              "      <td>127176</td>\n",
              "      <td>176</td>\n",
              "      <td>NaN</td>\n",
              "      <td>NaN</td>\n",
              "      <td>NaN</td>\n",
              "      <td>{'Adaptation': [{'mal_id': 13667, 'type': 'man...</td>\n",
              "      <td>Aniplex</td>\n",
              "      <td>Aniplex of America</td>\n",
              "      <td>AIC Build</td>\n",
              "      <td>Slice of Life, Comedy</td>\n",
              "      <td>['\"irony\" by ClariS']</td>\n",
              "      <td>['#1: \"READY\" by Ayana Taketatsu (ep 1)', '#2:...</td>\n",
              "      <td>28.0</td>\n",
              "      <td>2011.0</td>\n",
              "    </tr>\n",
              "    <tr>\n",
              "      <th>1</th>\n",
              "      <td>19028665</td>\n",
              "      <td>AluPachi</td>\n",
              "      <td>19111</td>\n",
              "      <td>13</td>\n",
              "      <td>2014-09-11</td>\n",
              "      <td>2014-09-17</td>\n",
              "      <td>9</td>\n",
              "      <td>2</td>\n",
              "      <td>NaN</td>\n",
              "      <td>0</td>\n",
              "      <td>2014-09-17 21:26:52</td>\n",
              "      <td>NaN</td>\n",
              "      <td>Love Live! School Idol Project 2nd Season</td>\n",
              "      <td>Love Live! School Idol Project 2</td>\n",
              "      <td>ラブライブ! School idol project 2期</td>\n",
              "      <td>NaN</td>\n",
              "      <td>https://myanimelist.cdn-dena.com/images/anime/...</td>\n",
              "      <td>TV</td>\n",
              "      <td>Other</td>\n",
              "      <td>13</td>\n",
              "      <td>Finished Airing</td>\n",
              "      <td>False</td>\n",
              "      <td>Apr 6, 2014 to Jun 29, 2014</td>\n",
              "      <td>{'from': '2014-04-06', 'to': '2014-06-29'}</td>\n",
              "      <td>23 min. per ep.</td>\n",
              "      <td>PG-13 - Teens 13 or older</td>\n",
              "      <td>7.99</td>\n",
              "      <td>79740</td>\n",
              "      <td>570.0</td>\n",
              "      <td>599</td>\n",
              "      <td>138715</td>\n",
              "      <td>2475</td>\n",
              "      <td>The series also has released a mobile rhythm g...</td>\n",
              "      <td>Spring 2014</td>\n",
              "      <td>Sundays at 22:30 (JST)</td>\n",
              "      <td>{'Prequel': [{'mal_id': 15051, 'type': 'anime'...</td>\n",
              "      <td>Bandai Visual, Lantis, Bushiroad</td>\n",
              "      <td>NIS America, Inc.</td>\n",
              "      <td>Sunrise</td>\n",
              "      <td>Music, School, Slice of Life</td>\n",
              "      <td>['\"Sore wa Bokutachi no Kiseki (それは僕たちの奇跡)\" by...</td>\n",
              "      <td>['#01: \"Sore wa Bokutachi no Kiseki (それは僕たちの奇跡...</td>\n",
              "      <td>23.0</td>\n",
              "      <td>2014.0</td>\n",
              "    </tr>\n",
              "    <tr>\n",
              "      <th>2</th>\n",
              "      <td>19491144</td>\n",
              "      <td>huop</td>\n",
              "      <td>30484</td>\n",
              "      <td>4</td>\n",
              "      <td>2018-04-11</td>\n",
              "      <td>0000-00-00</td>\n",
              "      <td>10</td>\n",
              "      <td>1</td>\n",
              "      <td>0.0</td>\n",
              "      <td>0</td>\n",
              "      <td>2018-05-08 15:55:41</td>\n",
              "      <td>NaN</td>\n",
              "      <td>Steins;Gate 0</td>\n",
              "      <td>NaN</td>\n",
              "      <td>シュタインズ・ゲート ゼロ</td>\n",
              "      <td>Steins,Gate Zero</td>\n",
              "      <td>https://myanimelist.cdn-dena.com/images/anime/...</td>\n",
              "      <td>TV</td>\n",
              "      <td>Visual novel</td>\n",
              "      <td>23</td>\n",
              "      <td>Currently Airing</td>\n",
              "      <td>True</td>\n",
              "      <td>Apr 12, 2018 to ?</td>\n",
              "      <td>{'from': '2018-04-12', 'to': None}</td>\n",
              "      <td>23 min. per ep.</td>\n",
              "      <td>PG-13 - Teens 13 or older</td>\n",
              "      <td>9.15</td>\n",
              "      <td>26739</td>\n",
              "      <td>4.0</td>\n",
              "      <td>323</td>\n",
              "      <td>223989</td>\n",
              "      <td>1882</td>\n",
              "      <td>NaN</td>\n",
              "      <td>Spring 2018</td>\n",
              "      <td>Thursdays at 01:35 (JST)</td>\n",
              "      <td>{'Adaptation': [{'mal_id': 107548, 'type': 'ma...</td>\n",
              "      <td>Nitroplus</td>\n",
              "      <td>Funimation</td>\n",
              "      <td>White Fox</td>\n",
              "      <td>Sci-Fi, Thriller</td>\n",
              "      <td>['\"Fatima (ファティマ)\" by Kanako Itou']</td>\n",
              "      <td>['\"LAST GAME\" by Zwei']</td>\n",
              "      <td>23.0</td>\n",
              "      <td>2018.0</td>\n",
              "    </tr>\n",
              "    <tr>\n",
              "      <th>3</th>\n",
              "      <td>15480301</td>\n",
              "      <td>aL1v3</td>\n",
              "      <td>8888</td>\n",
              "      <td>1</td>\n",
              "      <td>2012-10-09</td>\n",
              "      <td>2012-10-09</td>\n",
              "      <td>7</td>\n",
              "      <td>2</td>\n",
              "      <td>NaN</td>\n",
              "      <td>0</td>\n",
              "      <td>2012-10-09 17:52:55</td>\n",
              "      <td>NaN</td>\n",
              "      <td>Code Geass: Boukoku no Akito 1 - Yokuryuu wa M...</td>\n",
              "      <td>Code Geass: Akito the Exiled - The Wyvern Arrives</td>\n",
              "      <td>コードギアス 亡国のアキト 第１章「翼竜は舞い降りた」</td>\n",
              "      <td>NaN</td>\n",
              "      <td>https://myanimelist.cdn-dena.com/images/anime/...</td>\n",
              "      <td>Movie</td>\n",
              "      <td>Original</td>\n",
              "      <td>1</td>\n",
              "      <td>Finished Airing</td>\n",
              "      <td>False</td>\n",
              "      <td>Jul 16, 2012</td>\n",
              "      <td>{'from': '2012-07-16', 'to': '2012-07-16'}</td>\n",
              "      <td>51 min.</td>\n",
              "      <td>R - 17+ (violence &amp; profanity)</td>\n",
              "      <td>7.56</td>\n",
              "      <td>57690</td>\n",
              "      <td>1459.0</td>\n",
              "      <td>756</td>\n",
              "      <td>114530</td>\n",
              "      <td>483</td>\n",
              "      <td>The first episode was pre-aired on July 16 and...</td>\n",
              "      <td>NaN</td>\n",
              "      <td>NaN</td>\n",
              "      <td>{'Adaptation': [{'mal_id': 95655, 'type': 'man...</td>\n",
              "      <td>Bandai Visual, Bandai, Bandai Namco Entertainm...</td>\n",
              "      <td>Funimation</td>\n",
              "      <td>Sunrise</td>\n",
              "      <td>Action, Mecha, Military, Sci-Fi</td>\n",
              "      <td>[]</td>\n",
              "      <td>['\"More Than Words\" by Maaya Sakamoto']</td>\n",
              "      <td>51.0</td>\n",
              "      <td>2012.0</td>\n",
              "    </tr>\n",
              "    <tr>\n",
              "      <th>4</th>\n",
              "      <td>16428114</td>\n",
              "      <td>LNA_Ichiro</td>\n",
              "      <td>15225</td>\n",
              "      <td>12</td>\n",
              "      <td>0000-00-00</td>\n",
              "      <td>0000-00-00</td>\n",
              "      <td>7</td>\n",
              "      <td>2</td>\n",
              "      <td>0.0</td>\n",
              "      <td>0</td>\n",
              "      <td>2017-03-05 15:54:16</td>\n",
              "      <td>NaN</td>\n",
              "      <td>Hentai Ouji to Warawanai Neko.</td>\n",
              "      <td>The \"Hentai\" Prince and the Stony Cat.</td>\n",
              "      <td>変態王子と笑わない猫。</td>\n",
              "      <td>HenNeko</td>\n",
              "      <td>https://myanimelist.cdn-dena.com/images/anime/...</td>\n",
              "      <td>TV</td>\n",
              "      <td>Light novel</td>\n",
              "      <td>12</td>\n",
              "      <td>Finished Airing</td>\n",
              "      <td>False</td>\n",
              "      <td>Apr 13, 2013 to Jun 29, 2013</td>\n",
              "      <td>{'from': '2013-04-13', 'to': '2013-06-29'}</td>\n",
              "      <td>24 min. per ep.</td>\n",
              "      <td>PG-13 - Teens 13 or older</td>\n",
              "      <td>7.39</td>\n",
              "      <td>148188</td>\n",
              "      <td>2068.0</td>\n",
              "      <td>255</td>\n",
              "      <td>268962</td>\n",
              "      <td>1464</td>\n",
              "      <td>NaN</td>\n",
              "      <td>Spring 2013</td>\n",
              "      <td>Saturdays at 22:30 (JST)</td>\n",
              "      <td>{'Adaptation': [{'mal_id': 25876, 'type': 'man...</td>\n",
              "      <td>Frontier Works, Media Factory, Furyu</td>\n",
              "      <td>Sentai Filmworks</td>\n",
              "      <td>J.C.Staff</td>\n",
              "      <td>Harem, Comedy, Supernatural, Romance, School</td>\n",
              "      <td>['\"Fantastic future\" by Yukari Tamura']</td>\n",
              "      <td>['\"Baby Sweet Berry Love\" by Yui Ogura']</td>\n",
              "      <td>24.0</td>\n",
              "      <td>2013.0</td>\n",
              "    </tr>\n",
              "    <tr>\n",
              "      <th>...</th>\n",
              "      <td>...</td>\n",
              "      <td>...</td>\n",
              "      <td>...</td>\n",
              "      <td>...</td>\n",
              "      <td>...</td>\n",
              "      <td>...</td>\n",
              "      <td>...</td>\n",
              "      <td>...</td>\n",
              "      <td>...</td>\n",
              "      <td>...</td>\n",
              "      <td>...</td>\n",
              "      <td>...</td>\n",
              "      <td>...</td>\n",
              "      <td>...</td>\n",
              "      <td>...</td>\n",
              "      <td>...</td>\n",
              "      <td>...</td>\n",
              "      <td>...</td>\n",
              "      <td>...</td>\n",
              "      <td>...</td>\n",
              "      <td>...</td>\n",
              "      <td>...</td>\n",
              "      <td>...</td>\n",
              "      <td>...</td>\n",
              "      <td>...</td>\n",
              "      <td>...</td>\n",
              "      <td>...</td>\n",
              "      <td>...</td>\n",
              "      <td>...</td>\n",
              "      <td>...</td>\n",
              "      <td>...</td>\n",
              "      <td>...</td>\n",
              "      <td>...</td>\n",
              "      <td>...</td>\n",
              "      <td>...</td>\n",
              "      <td>...</td>\n",
              "      <td>...</td>\n",
              "      <td>...</td>\n",
              "      <td>...</td>\n",
              "      <td>...</td>\n",
              "      <td>...</td>\n",
              "      <td>...</td>\n",
              "      <td>...</td>\n",
              "      <td>...</td>\n",
              "    </tr>\n",
              "    <tr>\n",
              "      <th>312835</th>\n",
              "      <td>13574413</td>\n",
              "      <td>Laila_Rurouni</td>\n",
              "      <td>886</td>\n",
              "      <td>1</td>\n",
              "      <td>0000-00-00</td>\n",
              "      <td>0000-00-00</td>\n",
              "      <td>0</td>\n",
              "      <td>4</td>\n",
              "      <td>0.0</td>\n",
              "      <td>0</td>\n",
              "      <td>2009-01-11 22:23:43</td>\n",
              "      <td>NaN</td>\n",
              "      <td>Amaenaide yo!! Katsu!!</td>\n",
              "      <td>Ah My Buddha Katsu</td>\n",
              "      <td>あまえないでよっ!! 喝!!</td>\n",
              "      <td>Amaenaideyo!! 2, Amaenaideyo!! Katsu</td>\n",
              "      <td>https://myanimelist.cdn-dena.com/images/anime/...</td>\n",
              "      <td>TV</td>\n",
              "      <td>Manga</td>\n",
              "      <td>12</td>\n",
              "      <td>Finished Airing</td>\n",
              "      <td>False</td>\n",
              "      <td>Jan 4, 2006 to Mar 22, 2006</td>\n",
              "      <td>{'from': '2006-01-04', 'to': '2006-03-22'}</td>\n",
              "      <td>24 min. per ep.</td>\n",
              "      <td>R+ - Mild Nudity</td>\n",
              "      <td>6.83</td>\n",
              "      <td>20652</td>\n",
              "      <td>4173.0</td>\n",
              "      <td>1834</td>\n",
              "      <td>38159</td>\n",
              "      <td>44</td>\n",
              "      <td>NaN</td>\n",
              "      <td>Winter 2006</td>\n",
              "      <td>Unknown</td>\n",
              "      <td>{'Prequel': [{'mal_id': 591, 'type': 'anime', ...</td>\n",
              "      <td>NaN</td>\n",
              "      <td>Nozomi Entertainment, Media Blasters</td>\n",
              "      <td>Studio Deen</td>\n",
              "      <td>Comedy, Ecchi, Harem, Romance, Supernatural</td>\n",
              "      <td>['\"Amaenaideyotsu!!\" by Amae-tai']</td>\n",
              "      <td>['\"Lonesome Traveler\" by Mai Nakahara']</td>\n",
              "      <td>24.0</td>\n",
              "      <td>2006.0</td>\n",
              "    </tr>\n",
              "    <tr>\n",
              "      <th>312836</th>\n",
              "      <td>4048019</td>\n",
              "      <td>EXYA</td>\n",
              "      <td>9253</td>\n",
              "      <td>24</td>\n",
              "      <td>0000-00-00</td>\n",
              "      <td>0000-00-00</td>\n",
              "      <td>10</td>\n",
              "      <td>2</td>\n",
              "      <td>NaN</td>\n",
              "      <td>0</td>\n",
              "      <td>2013-05-19 16:40:14</td>\n",
              "      <td>NaN</td>\n",
              "      <td>Steins;Gate</td>\n",
              "      <td>Steins;Gate</td>\n",
              "      <td>STEINS;GATE</td>\n",
              "      <td>NaN</td>\n",
              "      <td>https://myanimelist.cdn-dena.com/images/anime/...</td>\n",
              "      <td>TV</td>\n",
              "      <td>Visual novel</td>\n",
              "      <td>24</td>\n",
              "      <td>Finished Airing</td>\n",
              "      <td>False</td>\n",
              "      <td>Apr 6, 2011 to Sep 14, 2011</td>\n",
              "      <td>{'from': '2011-04-06', 'to': '2011-09-14'}</td>\n",
              "      <td>24 min. per ep.</td>\n",
              "      <td>PG-13 - Teens 13 or older</td>\n",
              "      <td>9.14</td>\n",
              "      <td>563857</td>\n",
              "      <td>5.0</td>\n",
              "      <td>8</td>\n",
              "      <td>1010330</td>\n",
              "      <td>92423</td>\n",
              "      <td>Steins;Gate is based on 5pb. and Nitroplus&amp;#03...</td>\n",
              "      <td>Spring 2011</td>\n",
              "      <td>Wednesdays at 02:05 (JST)</td>\n",
              "      <td>{'Adaptation': [{'mal_id': 17517, 'type': 'man...</td>\n",
              "      <td>Frontier Works, Media Factory, Movic, AT-X, Ka...</td>\n",
              "      <td>Funimation</td>\n",
              "      <td>White Fox</td>\n",
              "      <td>Thriller, Sci-Fi</td>\n",
              "      <td>['\"Hacking to the Gate\" by Kanako Itou']</td>\n",
              "      <td>['#1: \"Toki Tsukasadoru Juuni no Meiyaku (刻司ル十...</td>\n",
              "      <td>24.0</td>\n",
              "      <td>2011.0</td>\n",
              "    </tr>\n",
              "    <tr>\n",
              "      <th>312837</th>\n",
              "      <td>15783517</td>\n",
              "      <td>kotee</td>\n",
              "      <td>10721</td>\n",
              "      <td>24</td>\n",
              "      <td>0000-00-00</td>\n",
              "      <td>2012-09-01</td>\n",
              "      <td>5</td>\n",
              "      <td>2</td>\n",
              "      <td>NaN</td>\n",
              "      <td>0</td>\n",
              "      <td>2012-09-01 23:17:12</td>\n",
              "      <td>NaN</td>\n",
              "      <td>Mawaru Penguindrum</td>\n",
              "      <td>Penguindrum</td>\n",
              "      <td>輪るピングドラム</td>\n",
              "      <td>NaN</td>\n",
              "      <td>https://myanimelist.cdn-dena.com/images/anime/...</td>\n",
              "      <td>TV</td>\n",
              "      <td>Original</td>\n",
              "      <td>24</td>\n",
              "      <td>Finished Airing</td>\n",
              "      <td>False</td>\n",
              "      <td>Jul 8, 2011 to Dec 23, 2011</td>\n",
              "      <td>{'from': '2011-07-08', 'to': '2011-12-23'}</td>\n",
              "      <td>24 min. per ep.</td>\n",
              "      <td>R - 17+ (violence &amp; profanity)</td>\n",
              "      <td>8.03</td>\n",
              "      <td>72599</td>\n",
              "      <td>520.0</td>\n",
              "      <td>394</td>\n",
              "      <td>191584</td>\n",
              "      <td>5519</td>\n",
              "      <td>NaN</td>\n",
              "      <td>Summer 2011</td>\n",
              "      <td>Fridays at 02:10 (JST)</td>\n",
              "      <td>{'Adaptation': [{'mal_id': 26474, 'type': 'man...</td>\n",
              "      <td>Starchild Records, Mainichi Broadcasting System</td>\n",
              "      <td>Sentai Filmworks</td>\n",
              "      <td>Brain&amp;#039;s Base</td>\n",
              "      <td>Mystery, Comedy, Dementia, Psychological, Drama</td>\n",
              "      <td>['#1: \"Nornir (ノルニル)\" by Etsuko Yakushimaru Me...</td>\n",
              "      <td>['#01: \"DEAR FUTURE\" by coaltar of the deepers...</td>\n",
              "      <td>24.0</td>\n",
              "      <td>2011.0</td>\n",
              "    </tr>\n",
              "    <tr>\n",
              "      <th>312838</th>\n",
              "      <td>3675087</td>\n",
              "      <td>Serzhunya_Baka</td>\n",
              "      <td>5630</td>\n",
              "      <td>11</td>\n",
              "      <td>2011-02-14</td>\n",
              "      <td>2011-02-14</td>\n",
              "      <td>8</td>\n",
              "      <td>2</td>\n",
              "      <td>0.0</td>\n",
              "      <td>0</td>\n",
              "      <td>2011-09-23 15:56:34</td>\n",
              "      <td>NaN</td>\n",
              "      <td>Higashi no Eden</td>\n",
              "      <td>Eden of The East</td>\n",
              "      <td>東のエデン</td>\n",
              "      <td>Higashi no Eden</td>\n",
              "      <td>https://myanimelist.cdn-dena.com/images/anime/...</td>\n",
              "      <td>TV</td>\n",
              "      <td>Original</td>\n",
              "      <td>11</td>\n",
              "      <td>Finished Airing</td>\n",
              "      <td>False</td>\n",
              "      <td>Apr 10, 2009 to Jun 19, 2009</td>\n",
              "      <td>{'from': '2009-04-10', 'to': '2009-06-19'}</td>\n",
              "      <td>23 min. per ep.</td>\n",
              "      <td>R - 17+ (violence &amp; profanity)</td>\n",
              "      <td>7.96</td>\n",
              "      <td>173942</td>\n",
              "      <td>599.0</td>\n",
              "      <td>156</td>\n",
              "      <td>346202</td>\n",
              "      <td>3733</td>\n",
              "      <td>Higashi no Eden won the Animation Kobe Award i...</td>\n",
              "      <td>Spring 2009</td>\n",
              "      <td>Fridays at 00:45 (JST)</td>\n",
              "      <td>{'Adaptation': [{'mal_id': 67765, 'type': 'man...</td>\n",
              "      <td>Fuji TV, Asmik Ace Entertainment, Sony Music E...</td>\n",
              "      <td>Funimation</td>\n",
              "      <td>Production I.G</td>\n",
              "      <td>Action, Sci-Fi, Mystery, Comedy, Drama, Romanc...</td>\n",
              "      <td>['#1: \"FALLING DOWN\" by Oasis', '#2: \"Michael ...</td>\n",
              "      <td>['\"futuristic imagination\" by school food puni...</td>\n",
              "      <td>23.0</td>\n",
              "      <td>2009.0</td>\n",
              "    </tr>\n",
              "    <tr>\n",
              "      <th>312839</th>\n",
              "      <td>22444655</td>\n",
              "      <td>TigreDemon</td>\n",
              "      <td>32902</td>\n",
              "      <td>3</td>\n",
              "      <td>2016-09-18</td>\n",
              "      <td>2017-09-10</td>\n",
              "      <td>8</td>\n",
              "      <td>2</td>\n",
              "      <td>0.0</td>\n",
              "      <td>0</td>\n",
              "      <td>2017-09-10 17:57:45</td>\n",
              "      <td>NaN</td>\n",
              "      <td>Mahoutsukai no Yome: Hoshi Matsu Hito</td>\n",
              "      <td>The Ancient Magus&amp;#039; Bride: Those Awaiting ...</td>\n",
              "      <td>魔法使いの嫁 星待つひと</td>\n",
              "      <td>The Magician&amp;#039;s Bride</td>\n",
              "      <td>https://myanimelist.cdn-dena.com/images/anime/...</td>\n",
              "      <td>OVA</td>\n",
              "      <td>Manga</td>\n",
              "      <td>3</td>\n",
              "      <td>Finished Airing</td>\n",
              "      <td>False</td>\n",
              "      <td>Sep 10, 2016 to Sep 9, 2017</td>\n",
              "      <td>{'from': '2016-09-10', 'to': '2017-09-09'}</td>\n",
              "      <td>23 min. per ep.</td>\n",
              "      <td>PG-13 - Teens 13 or older</td>\n",
              "      <td>8.26</td>\n",
              "      <td>61403</td>\n",
              "      <td>270.0</td>\n",
              "      <td>536</td>\n",
              "      <td>150617</td>\n",
              "      <td>553</td>\n",
              "      <td>Mahoutsukai no Yome: Hoshi Matsu Hito is a pre...</td>\n",
              "      <td>NaN</td>\n",
              "      <td>NaN</td>\n",
              "      <td>{'Adaptation': [{'mal_id': 61189, 'type': 'man...</td>\n",
              "      <td>Production I.G, flying DOG</td>\n",
              "      <td>Crunchyroll</td>\n",
              "      <td>Wit Studio</td>\n",
              "      <td>Slice of Life, Magic, Fantasy, Shounen</td>\n",
              "      <td>[]</td>\n",
              "      <td>['\"CLOCKWORK QUICK AND LIGHTNING SLOW\" by Juli...</td>\n",
              "      <td>23.0</td>\n",
              "      <td>2016.0</td>\n",
              "    </tr>\n",
              "  </tbody>\n",
              "</table>\n",
              "<p>312840 rows × 44 columns</p>\n",
              "</div>"
            ],
            "text/plain": [
              "        Unnamed: 0        username  ...  duration_min  aired_from_year\n",
              "0         28282899       Zukin-Man  ...          28.0           2011.0\n",
              "1         19028665        AluPachi  ...          23.0           2014.0\n",
              "2         19491144            huop  ...          23.0           2018.0\n",
              "3         15480301           aL1v3  ...          51.0           2012.0\n",
              "4         16428114      LNA_Ichiro  ...          24.0           2013.0\n",
              "...            ...             ...  ...           ...              ...\n",
              "312835    13574413   Laila_Rurouni  ...          24.0           2006.0\n",
              "312836     4048019            EXYA  ...          24.0           2011.0\n",
              "312837    15783517           kotee  ...          24.0           2011.0\n",
              "312838     3675087  Serzhunya_Baka  ...          23.0           2009.0\n",
              "312839    22444655      TigreDemon  ...          23.0           2016.0\n",
              "\n",
              "[312840 rows x 44 columns]"
            ]
          },
          "metadata": {},
          "execution_count": 7
        }
      ]
    },
    {
      "cell_type": "markdown",
      "metadata": {
        "id": "vp6E8huImvXr"
      },
      "source": [
        "#### **1.1.2** Drop NaN Values\n",
        "Remove all the rows that have NaN in `anime_id` or `genre` and drop the column `Unnamed: 0` as well. Store this into anime_df."
      ]
    },
    {
      "cell_type": "code",
      "metadata": {
        "id": "PeuasCwJm1xh"
      },
      "source": [
        "anime_df = anime_df.dropna(subset=['anime_id','genre'])\n",
        "anime_df= anime_df.drop(columns=['Unnamed: 0'])"
      ],
      "execution_count": null,
      "outputs": []
    },
    {
      "cell_type": "code",
      "metadata": {
        "id": "nSvOdKUfeoch",
        "colab": {
          "base_uri": "https://localhost:8080/",
          "height": 1000
        },
        "outputId": "8d9174e7-d22b-491d-9eb8-42126a5b57c5"
      },
      "source": [
        "anime_df"
      ],
      "execution_count": null,
      "outputs": [
        {
          "output_type": "execute_result",
          "data": {
            "text/html": [
              "<div>\n",
              "<style scoped>\n",
              "    .dataframe tbody tr th:only-of-type {\n",
              "        vertical-align: middle;\n",
              "    }\n",
              "\n",
              "    .dataframe tbody tr th {\n",
              "        vertical-align: top;\n",
              "    }\n",
              "\n",
              "    .dataframe thead th {\n",
              "        text-align: right;\n",
              "    }\n",
              "</style>\n",
              "<table border=\"1\" class=\"dataframe\">\n",
              "  <thead>\n",
              "    <tr style=\"text-align: right;\">\n",
              "      <th></th>\n",
              "      <th>username</th>\n",
              "      <th>anime_id</th>\n",
              "      <th>my_watched_episodes</th>\n",
              "      <th>my_start_date</th>\n",
              "      <th>my_finish_date</th>\n",
              "      <th>my_score</th>\n",
              "      <th>my_status</th>\n",
              "      <th>my_rewatching</th>\n",
              "      <th>my_rewatching_ep</th>\n",
              "      <th>my_last_updated</th>\n",
              "      <th>my_tags</th>\n",
              "      <th>title</th>\n",
              "      <th>title_english</th>\n",
              "      <th>title_japanese</th>\n",
              "      <th>title_synonyms</th>\n",
              "      <th>image_url</th>\n",
              "      <th>type</th>\n",
              "      <th>source</th>\n",
              "      <th>episodes</th>\n",
              "      <th>status</th>\n",
              "      <th>airing</th>\n",
              "      <th>aired_string</th>\n",
              "      <th>aired</th>\n",
              "      <th>duration</th>\n",
              "      <th>rating</th>\n",
              "      <th>score</th>\n",
              "      <th>scored_by</th>\n",
              "      <th>rank</th>\n",
              "      <th>popularity</th>\n",
              "      <th>members</th>\n",
              "      <th>favorites</th>\n",
              "      <th>background</th>\n",
              "      <th>premiered</th>\n",
              "      <th>broadcast</th>\n",
              "      <th>related</th>\n",
              "      <th>producer</th>\n",
              "      <th>licensor</th>\n",
              "      <th>studio</th>\n",
              "      <th>genre</th>\n",
              "      <th>opening_theme</th>\n",
              "      <th>ending_theme</th>\n",
              "      <th>duration_min</th>\n",
              "      <th>aired_from_year</th>\n",
              "    </tr>\n",
              "  </thead>\n",
              "  <tbody>\n",
              "    <tr>\n",
              "      <th>0</th>\n",
              "      <td>Zukin-Man</td>\n",
              "      <td>10020</td>\n",
              "      <td>4</td>\n",
              "      <td>2013-01-29</td>\n",
              "      <td>2013-01-29</td>\n",
              "      <td>9</td>\n",
              "      <td>2</td>\n",
              "      <td>NaN</td>\n",
              "      <td>0</td>\n",
              "      <td>2013-01-30 05:06:16</td>\n",
              "      <td>comedy, school, otaku humor, romance, WIN</td>\n",
              "      <td>Ore no Imouto ga Konnani Kawaii Wake ga Nai Sp...</td>\n",
              "      <td>OreImo Specials</td>\n",
              "      <td>俺の妹がこんなに可愛いわけがない</td>\n",
              "      <td>My Little Sister Can&amp;#039;t Be This Cute Specials</td>\n",
              "      <td>https://myanimelist.cdn-dena.com/images/anime/...</td>\n",
              "      <td>ONA</td>\n",
              "      <td>Light novel</td>\n",
              "      <td>4</td>\n",
              "      <td>Finished Airing</td>\n",
              "      <td>False</td>\n",
              "      <td>Feb 22, 2011 to May 31, 2011</td>\n",
              "      <td>{'from': '2011-02-22', 'to': '2011-05-31'}</td>\n",
              "      <td>28 min. per ep.</td>\n",
              "      <td>PG-13 - Teens 13 or older</td>\n",
              "      <td>7.57</td>\n",
              "      <td>83849</td>\n",
              "      <td>1435.0</td>\n",
              "      <td>658</td>\n",
              "      <td>127176</td>\n",
              "      <td>176</td>\n",
              "      <td>NaN</td>\n",
              "      <td>NaN</td>\n",
              "      <td>NaN</td>\n",
              "      <td>{'Adaptation': [{'mal_id': 13667, 'type': 'man...</td>\n",
              "      <td>Aniplex</td>\n",
              "      <td>Aniplex of America</td>\n",
              "      <td>AIC Build</td>\n",
              "      <td>Slice of Life, Comedy</td>\n",
              "      <td>['\"irony\" by ClariS']</td>\n",
              "      <td>['#1: \"READY\" by Ayana Taketatsu (ep 1)', '#2:...</td>\n",
              "      <td>28.0</td>\n",
              "      <td>2011.0</td>\n",
              "    </tr>\n",
              "    <tr>\n",
              "      <th>1</th>\n",
              "      <td>AluPachi</td>\n",
              "      <td>19111</td>\n",
              "      <td>13</td>\n",
              "      <td>2014-09-11</td>\n",
              "      <td>2014-09-17</td>\n",
              "      <td>9</td>\n",
              "      <td>2</td>\n",
              "      <td>NaN</td>\n",
              "      <td>0</td>\n",
              "      <td>2014-09-17 21:26:52</td>\n",
              "      <td>NaN</td>\n",
              "      <td>Love Live! School Idol Project 2nd Season</td>\n",
              "      <td>Love Live! School Idol Project 2</td>\n",
              "      <td>ラブライブ! School idol project 2期</td>\n",
              "      <td>NaN</td>\n",
              "      <td>https://myanimelist.cdn-dena.com/images/anime/...</td>\n",
              "      <td>TV</td>\n",
              "      <td>Other</td>\n",
              "      <td>13</td>\n",
              "      <td>Finished Airing</td>\n",
              "      <td>False</td>\n",
              "      <td>Apr 6, 2014 to Jun 29, 2014</td>\n",
              "      <td>{'from': '2014-04-06', 'to': '2014-06-29'}</td>\n",
              "      <td>23 min. per ep.</td>\n",
              "      <td>PG-13 - Teens 13 or older</td>\n",
              "      <td>7.99</td>\n",
              "      <td>79740</td>\n",
              "      <td>570.0</td>\n",
              "      <td>599</td>\n",
              "      <td>138715</td>\n",
              "      <td>2475</td>\n",
              "      <td>The series also has released a mobile rhythm g...</td>\n",
              "      <td>Spring 2014</td>\n",
              "      <td>Sundays at 22:30 (JST)</td>\n",
              "      <td>{'Prequel': [{'mal_id': 15051, 'type': 'anime'...</td>\n",
              "      <td>Bandai Visual, Lantis, Bushiroad</td>\n",
              "      <td>NIS America, Inc.</td>\n",
              "      <td>Sunrise</td>\n",
              "      <td>Music, School, Slice of Life</td>\n",
              "      <td>['\"Sore wa Bokutachi no Kiseki (それは僕たちの奇跡)\" by...</td>\n",
              "      <td>['#01: \"Sore wa Bokutachi no Kiseki (それは僕たちの奇跡...</td>\n",
              "      <td>23.0</td>\n",
              "      <td>2014.0</td>\n",
              "    </tr>\n",
              "    <tr>\n",
              "      <th>2</th>\n",
              "      <td>huop</td>\n",
              "      <td>30484</td>\n",
              "      <td>4</td>\n",
              "      <td>2018-04-11</td>\n",
              "      <td>0000-00-00</td>\n",
              "      <td>10</td>\n",
              "      <td>1</td>\n",
              "      <td>0.0</td>\n",
              "      <td>0</td>\n",
              "      <td>2018-05-08 15:55:41</td>\n",
              "      <td>NaN</td>\n",
              "      <td>Steins;Gate 0</td>\n",
              "      <td>NaN</td>\n",
              "      <td>シュタインズ・ゲート ゼロ</td>\n",
              "      <td>Steins,Gate Zero</td>\n",
              "      <td>https://myanimelist.cdn-dena.com/images/anime/...</td>\n",
              "      <td>TV</td>\n",
              "      <td>Visual novel</td>\n",
              "      <td>23</td>\n",
              "      <td>Currently Airing</td>\n",
              "      <td>True</td>\n",
              "      <td>Apr 12, 2018 to ?</td>\n",
              "      <td>{'from': '2018-04-12', 'to': None}</td>\n",
              "      <td>23 min. per ep.</td>\n",
              "      <td>PG-13 - Teens 13 or older</td>\n",
              "      <td>9.15</td>\n",
              "      <td>26739</td>\n",
              "      <td>4.0</td>\n",
              "      <td>323</td>\n",
              "      <td>223989</td>\n",
              "      <td>1882</td>\n",
              "      <td>NaN</td>\n",
              "      <td>Spring 2018</td>\n",
              "      <td>Thursdays at 01:35 (JST)</td>\n",
              "      <td>{'Adaptation': [{'mal_id': 107548, 'type': 'ma...</td>\n",
              "      <td>Nitroplus</td>\n",
              "      <td>Funimation</td>\n",
              "      <td>White Fox</td>\n",
              "      <td>Sci-Fi, Thriller</td>\n",
              "      <td>['\"Fatima (ファティマ)\" by Kanako Itou']</td>\n",
              "      <td>['\"LAST GAME\" by Zwei']</td>\n",
              "      <td>23.0</td>\n",
              "      <td>2018.0</td>\n",
              "    </tr>\n",
              "    <tr>\n",
              "      <th>3</th>\n",
              "      <td>aL1v3</td>\n",
              "      <td>8888</td>\n",
              "      <td>1</td>\n",
              "      <td>2012-10-09</td>\n",
              "      <td>2012-10-09</td>\n",
              "      <td>7</td>\n",
              "      <td>2</td>\n",
              "      <td>NaN</td>\n",
              "      <td>0</td>\n",
              "      <td>2012-10-09 17:52:55</td>\n",
              "      <td>NaN</td>\n",
              "      <td>Code Geass: Boukoku no Akito 1 - Yokuryuu wa M...</td>\n",
              "      <td>Code Geass: Akito the Exiled - The Wyvern Arrives</td>\n",
              "      <td>コードギアス 亡国のアキト 第１章「翼竜は舞い降りた」</td>\n",
              "      <td>NaN</td>\n",
              "      <td>https://myanimelist.cdn-dena.com/images/anime/...</td>\n",
              "      <td>Movie</td>\n",
              "      <td>Original</td>\n",
              "      <td>1</td>\n",
              "      <td>Finished Airing</td>\n",
              "      <td>False</td>\n",
              "      <td>Jul 16, 2012</td>\n",
              "      <td>{'from': '2012-07-16', 'to': '2012-07-16'}</td>\n",
              "      <td>51 min.</td>\n",
              "      <td>R - 17+ (violence &amp; profanity)</td>\n",
              "      <td>7.56</td>\n",
              "      <td>57690</td>\n",
              "      <td>1459.0</td>\n",
              "      <td>756</td>\n",
              "      <td>114530</td>\n",
              "      <td>483</td>\n",
              "      <td>The first episode was pre-aired on July 16 and...</td>\n",
              "      <td>NaN</td>\n",
              "      <td>NaN</td>\n",
              "      <td>{'Adaptation': [{'mal_id': 95655, 'type': 'man...</td>\n",
              "      <td>Bandai Visual, Bandai, Bandai Namco Entertainm...</td>\n",
              "      <td>Funimation</td>\n",
              "      <td>Sunrise</td>\n",
              "      <td>Action, Mecha, Military, Sci-Fi</td>\n",
              "      <td>[]</td>\n",
              "      <td>['\"More Than Words\" by Maaya Sakamoto']</td>\n",
              "      <td>51.0</td>\n",
              "      <td>2012.0</td>\n",
              "    </tr>\n",
              "    <tr>\n",
              "      <th>4</th>\n",
              "      <td>LNA_Ichiro</td>\n",
              "      <td>15225</td>\n",
              "      <td>12</td>\n",
              "      <td>0000-00-00</td>\n",
              "      <td>0000-00-00</td>\n",
              "      <td>7</td>\n",
              "      <td>2</td>\n",
              "      <td>0.0</td>\n",
              "      <td>0</td>\n",
              "      <td>2017-03-05 15:54:16</td>\n",
              "      <td>NaN</td>\n",
              "      <td>Hentai Ouji to Warawanai Neko.</td>\n",
              "      <td>The \"Hentai\" Prince and the Stony Cat.</td>\n",
              "      <td>変態王子と笑わない猫。</td>\n",
              "      <td>HenNeko</td>\n",
              "      <td>https://myanimelist.cdn-dena.com/images/anime/...</td>\n",
              "      <td>TV</td>\n",
              "      <td>Light novel</td>\n",
              "      <td>12</td>\n",
              "      <td>Finished Airing</td>\n",
              "      <td>False</td>\n",
              "      <td>Apr 13, 2013 to Jun 29, 2013</td>\n",
              "      <td>{'from': '2013-04-13', 'to': '2013-06-29'}</td>\n",
              "      <td>24 min. per ep.</td>\n",
              "      <td>PG-13 - Teens 13 or older</td>\n",
              "      <td>7.39</td>\n",
              "      <td>148188</td>\n",
              "      <td>2068.0</td>\n",
              "      <td>255</td>\n",
              "      <td>268962</td>\n",
              "      <td>1464</td>\n",
              "      <td>NaN</td>\n",
              "      <td>Spring 2013</td>\n",
              "      <td>Saturdays at 22:30 (JST)</td>\n",
              "      <td>{'Adaptation': [{'mal_id': 25876, 'type': 'man...</td>\n",
              "      <td>Frontier Works, Media Factory, Furyu</td>\n",
              "      <td>Sentai Filmworks</td>\n",
              "      <td>J.C.Staff</td>\n",
              "      <td>Harem, Comedy, Supernatural, Romance, School</td>\n",
              "      <td>['\"Fantastic future\" by Yukari Tamura']</td>\n",
              "      <td>['\"Baby Sweet Berry Love\" by Yui Ogura']</td>\n",
              "      <td>24.0</td>\n",
              "      <td>2013.0</td>\n",
              "    </tr>\n",
              "    <tr>\n",
              "      <th>...</th>\n",
              "      <td>...</td>\n",
              "      <td>...</td>\n",
              "      <td>...</td>\n",
              "      <td>...</td>\n",
              "      <td>...</td>\n",
              "      <td>...</td>\n",
              "      <td>...</td>\n",
              "      <td>...</td>\n",
              "      <td>...</td>\n",
              "      <td>...</td>\n",
              "      <td>...</td>\n",
              "      <td>...</td>\n",
              "      <td>...</td>\n",
              "      <td>...</td>\n",
              "      <td>...</td>\n",
              "      <td>...</td>\n",
              "      <td>...</td>\n",
              "      <td>...</td>\n",
              "      <td>...</td>\n",
              "      <td>...</td>\n",
              "      <td>...</td>\n",
              "      <td>...</td>\n",
              "      <td>...</td>\n",
              "      <td>...</td>\n",
              "      <td>...</td>\n",
              "      <td>...</td>\n",
              "      <td>...</td>\n",
              "      <td>...</td>\n",
              "      <td>...</td>\n",
              "      <td>...</td>\n",
              "      <td>...</td>\n",
              "      <td>...</td>\n",
              "      <td>...</td>\n",
              "      <td>...</td>\n",
              "      <td>...</td>\n",
              "      <td>...</td>\n",
              "      <td>...</td>\n",
              "      <td>...</td>\n",
              "      <td>...</td>\n",
              "      <td>...</td>\n",
              "      <td>...</td>\n",
              "      <td>...</td>\n",
              "      <td>...</td>\n",
              "    </tr>\n",
              "    <tr>\n",
              "      <th>312835</th>\n",
              "      <td>Laila_Rurouni</td>\n",
              "      <td>886</td>\n",
              "      <td>1</td>\n",
              "      <td>0000-00-00</td>\n",
              "      <td>0000-00-00</td>\n",
              "      <td>0</td>\n",
              "      <td>4</td>\n",
              "      <td>0.0</td>\n",
              "      <td>0</td>\n",
              "      <td>2009-01-11 22:23:43</td>\n",
              "      <td>NaN</td>\n",
              "      <td>Amaenaide yo!! Katsu!!</td>\n",
              "      <td>Ah My Buddha Katsu</td>\n",
              "      <td>あまえないでよっ!! 喝!!</td>\n",
              "      <td>Amaenaideyo!! 2, Amaenaideyo!! Katsu</td>\n",
              "      <td>https://myanimelist.cdn-dena.com/images/anime/...</td>\n",
              "      <td>TV</td>\n",
              "      <td>Manga</td>\n",
              "      <td>12</td>\n",
              "      <td>Finished Airing</td>\n",
              "      <td>False</td>\n",
              "      <td>Jan 4, 2006 to Mar 22, 2006</td>\n",
              "      <td>{'from': '2006-01-04', 'to': '2006-03-22'}</td>\n",
              "      <td>24 min. per ep.</td>\n",
              "      <td>R+ - Mild Nudity</td>\n",
              "      <td>6.83</td>\n",
              "      <td>20652</td>\n",
              "      <td>4173.0</td>\n",
              "      <td>1834</td>\n",
              "      <td>38159</td>\n",
              "      <td>44</td>\n",
              "      <td>NaN</td>\n",
              "      <td>Winter 2006</td>\n",
              "      <td>Unknown</td>\n",
              "      <td>{'Prequel': [{'mal_id': 591, 'type': 'anime', ...</td>\n",
              "      <td>NaN</td>\n",
              "      <td>Nozomi Entertainment, Media Blasters</td>\n",
              "      <td>Studio Deen</td>\n",
              "      <td>Comedy, Ecchi, Harem, Romance, Supernatural</td>\n",
              "      <td>['\"Amaenaideyotsu!!\" by Amae-tai']</td>\n",
              "      <td>['\"Lonesome Traveler\" by Mai Nakahara']</td>\n",
              "      <td>24.0</td>\n",
              "      <td>2006.0</td>\n",
              "    </tr>\n",
              "    <tr>\n",
              "      <th>312836</th>\n",
              "      <td>EXYA</td>\n",
              "      <td>9253</td>\n",
              "      <td>24</td>\n",
              "      <td>0000-00-00</td>\n",
              "      <td>0000-00-00</td>\n",
              "      <td>10</td>\n",
              "      <td>2</td>\n",
              "      <td>NaN</td>\n",
              "      <td>0</td>\n",
              "      <td>2013-05-19 16:40:14</td>\n",
              "      <td>NaN</td>\n",
              "      <td>Steins;Gate</td>\n",
              "      <td>Steins;Gate</td>\n",
              "      <td>STEINS;GATE</td>\n",
              "      <td>NaN</td>\n",
              "      <td>https://myanimelist.cdn-dena.com/images/anime/...</td>\n",
              "      <td>TV</td>\n",
              "      <td>Visual novel</td>\n",
              "      <td>24</td>\n",
              "      <td>Finished Airing</td>\n",
              "      <td>False</td>\n",
              "      <td>Apr 6, 2011 to Sep 14, 2011</td>\n",
              "      <td>{'from': '2011-04-06', 'to': '2011-09-14'}</td>\n",
              "      <td>24 min. per ep.</td>\n",
              "      <td>PG-13 - Teens 13 or older</td>\n",
              "      <td>9.14</td>\n",
              "      <td>563857</td>\n",
              "      <td>5.0</td>\n",
              "      <td>8</td>\n",
              "      <td>1010330</td>\n",
              "      <td>92423</td>\n",
              "      <td>Steins;Gate is based on 5pb. and Nitroplus&amp;#03...</td>\n",
              "      <td>Spring 2011</td>\n",
              "      <td>Wednesdays at 02:05 (JST)</td>\n",
              "      <td>{'Adaptation': [{'mal_id': 17517, 'type': 'man...</td>\n",
              "      <td>Frontier Works, Media Factory, Movic, AT-X, Ka...</td>\n",
              "      <td>Funimation</td>\n",
              "      <td>White Fox</td>\n",
              "      <td>Thriller, Sci-Fi</td>\n",
              "      <td>['\"Hacking to the Gate\" by Kanako Itou']</td>\n",
              "      <td>['#1: \"Toki Tsukasadoru Juuni no Meiyaku (刻司ル十...</td>\n",
              "      <td>24.0</td>\n",
              "      <td>2011.0</td>\n",
              "    </tr>\n",
              "    <tr>\n",
              "      <th>312837</th>\n",
              "      <td>kotee</td>\n",
              "      <td>10721</td>\n",
              "      <td>24</td>\n",
              "      <td>0000-00-00</td>\n",
              "      <td>2012-09-01</td>\n",
              "      <td>5</td>\n",
              "      <td>2</td>\n",
              "      <td>NaN</td>\n",
              "      <td>0</td>\n",
              "      <td>2012-09-01 23:17:12</td>\n",
              "      <td>NaN</td>\n",
              "      <td>Mawaru Penguindrum</td>\n",
              "      <td>Penguindrum</td>\n",
              "      <td>輪るピングドラム</td>\n",
              "      <td>NaN</td>\n",
              "      <td>https://myanimelist.cdn-dena.com/images/anime/...</td>\n",
              "      <td>TV</td>\n",
              "      <td>Original</td>\n",
              "      <td>24</td>\n",
              "      <td>Finished Airing</td>\n",
              "      <td>False</td>\n",
              "      <td>Jul 8, 2011 to Dec 23, 2011</td>\n",
              "      <td>{'from': '2011-07-08', 'to': '2011-12-23'}</td>\n",
              "      <td>24 min. per ep.</td>\n",
              "      <td>R - 17+ (violence &amp; profanity)</td>\n",
              "      <td>8.03</td>\n",
              "      <td>72599</td>\n",
              "      <td>520.0</td>\n",
              "      <td>394</td>\n",
              "      <td>191584</td>\n",
              "      <td>5519</td>\n",
              "      <td>NaN</td>\n",
              "      <td>Summer 2011</td>\n",
              "      <td>Fridays at 02:10 (JST)</td>\n",
              "      <td>{'Adaptation': [{'mal_id': 26474, 'type': 'man...</td>\n",
              "      <td>Starchild Records, Mainichi Broadcasting System</td>\n",
              "      <td>Sentai Filmworks</td>\n",
              "      <td>Brain&amp;#039;s Base</td>\n",
              "      <td>Mystery, Comedy, Dementia, Psychological, Drama</td>\n",
              "      <td>['#1: \"Nornir (ノルニル)\" by Etsuko Yakushimaru Me...</td>\n",
              "      <td>['#01: \"DEAR FUTURE\" by coaltar of the deepers...</td>\n",
              "      <td>24.0</td>\n",
              "      <td>2011.0</td>\n",
              "    </tr>\n",
              "    <tr>\n",
              "      <th>312838</th>\n",
              "      <td>Serzhunya_Baka</td>\n",
              "      <td>5630</td>\n",
              "      <td>11</td>\n",
              "      <td>2011-02-14</td>\n",
              "      <td>2011-02-14</td>\n",
              "      <td>8</td>\n",
              "      <td>2</td>\n",
              "      <td>0.0</td>\n",
              "      <td>0</td>\n",
              "      <td>2011-09-23 15:56:34</td>\n",
              "      <td>NaN</td>\n",
              "      <td>Higashi no Eden</td>\n",
              "      <td>Eden of The East</td>\n",
              "      <td>東のエデン</td>\n",
              "      <td>Higashi no Eden</td>\n",
              "      <td>https://myanimelist.cdn-dena.com/images/anime/...</td>\n",
              "      <td>TV</td>\n",
              "      <td>Original</td>\n",
              "      <td>11</td>\n",
              "      <td>Finished Airing</td>\n",
              "      <td>False</td>\n",
              "      <td>Apr 10, 2009 to Jun 19, 2009</td>\n",
              "      <td>{'from': '2009-04-10', 'to': '2009-06-19'}</td>\n",
              "      <td>23 min. per ep.</td>\n",
              "      <td>R - 17+ (violence &amp; profanity)</td>\n",
              "      <td>7.96</td>\n",
              "      <td>173942</td>\n",
              "      <td>599.0</td>\n",
              "      <td>156</td>\n",
              "      <td>346202</td>\n",
              "      <td>3733</td>\n",
              "      <td>Higashi no Eden won the Animation Kobe Award i...</td>\n",
              "      <td>Spring 2009</td>\n",
              "      <td>Fridays at 00:45 (JST)</td>\n",
              "      <td>{'Adaptation': [{'mal_id': 67765, 'type': 'man...</td>\n",
              "      <td>Fuji TV, Asmik Ace Entertainment, Sony Music E...</td>\n",
              "      <td>Funimation</td>\n",
              "      <td>Production I.G</td>\n",
              "      <td>Action, Sci-Fi, Mystery, Comedy, Drama, Romanc...</td>\n",
              "      <td>['#1: \"FALLING DOWN\" by Oasis', '#2: \"Michael ...</td>\n",
              "      <td>['\"futuristic imagination\" by school food puni...</td>\n",
              "      <td>23.0</td>\n",
              "      <td>2009.0</td>\n",
              "    </tr>\n",
              "    <tr>\n",
              "      <th>312839</th>\n",
              "      <td>TigreDemon</td>\n",
              "      <td>32902</td>\n",
              "      <td>3</td>\n",
              "      <td>2016-09-18</td>\n",
              "      <td>2017-09-10</td>\n",
              "      <td>8</td>\n",
              "      <td>2</td>\n",
              "      <td>0.0</td>\n",
              "      <td>0</td>\n",
              "      <td>2017-09-10 17:57:45</td>\n",
              "      <td>NaN</td>\n",
              "      <td>Mahoutsukai no Yome: Hoshi Matsu Hito</td>\n",
              "      <td>The Ancient Magus&amp;#039; Bride: Those Awaiting ...</td>\n",
              "      <td>魔法使いの嫁 星待つひと</td>\n",
              "      <td>The Magician&amp;#039;s Bride</td>\n",
              "      <td>https://myanimelist.cdn-dena.com/images/anime/...</td>\n",
              "      <td>OVA</td>\n",
              "      <td>Manga</td>\n",
              "      <td>3</td>\n",
              "      <td>Finished Airing</td>\n",
              "      <td>False</td>\n",
              "      <td>Sep 10, 2016 to Sep 9, 2017</td>\n",
              "      <td>{'from': '2016-09-10', 'to': '2017-09-09'}</td>\n",
              "      <td>23 min. per ep.</td>\n",
              "      <td>PG-13 - Teens 13 or older</td>\n",
              "      <td>8.26</td>\n",
              "      <td>61403</td>\n",
              "      <td>270.0</td>\n",
              "      <td>536</td>\n",
              "      <td>150617</td>\n",
              "      <td>553</td>\n",
              "      <td>Mahoutsukai no Yome: Hoshi Matsu Hito is a pre...</td>\n",
              "      <td>NaN</td>\n",
              "      <td>NaN</td>\n",
              "      <td>{'Adaptation': [{'mal_id': 61189, 'type': 'man...</td>\n",
              "      <td>Production I.G, flying DOG</td>\n",
              "      <td>Crunchyroll</td>\n",
              "      <td>Wit Studio</td>\n",
              "      <td>Slice of Life, Magic, Fantasy, Shounen</td>\n",
              "      <td>[]</td>\n",
              "      <td>['\"CLOCKWORK QUICK AND LIGHTNING SLOW\" by Juli...</td>\n",
              "      <td>23.0</td>\n",
              "      <td>2016.0</td>\n",
              "    </tr>\n",
              "  </tbody>\n",
              "</table>\n",
              "<p>312820 rows × 43 columns</p>\n",
              "</div>"
            ],
            "text/plain": [
              "              username  anime_id  ...  duration_min aired_from_year\n",
              "0            Zukin-Man     10020  ...          28.0          2011.0\n",
              "1             AluPachi     19111  ...          23.0          2014.0\n",
              "2                 huop     30484  ...          23.0          2018.0\n",
              "3                aL1v3      8888  ...          51.0          2012.0\n",
              "4           LNA_Ichiro     15225  ...          24.0          2013.0\n",
              "...                ...       ...  ...           ...             ...\n",
              "312835   Laila_Rurouni       886  ...          24.0          2006.0\n",
              "312836            EXYA      9253  ...          24.0          2011.0\n",
              "312837           kotee     10721  ...          24.0          2011.0\n",
              "312838  Serzhunya_Baka      5630  ...          23.0          2009.0\n",
              "312839      TigreDemon     32902  ...          23.0          2016.0\n",
              "\n",
              "[312820 rows x 43 columns]"
            ]
          },
          "metadata": {},
          "execution_count": 9
        }
      ]
    },
    {
      "cell_type": "markdown",
      "metadata": {
        "id": "NI6rqASdoWOU"
      },
      "source": [
        "### **1.2** EDA\n",
        "\n",
        "**EDA:** Exploratory data analysis is an approach to analyzing data sets to summarize their main characteristics, often with visual methods. A statistical model can be used or not, but primarily EDA is for seeing what the data can tell us beyond the formal modeling or hypothesis testing task.\n"
      ]
    },
    {
      "cell_type": "markdown",
      "metadata": {
        "id": "cYMZ3qzLta23"
      },
      "source": [
        "#### **1.2.1** Mean, Standard Deviation, Min, and Max\n",
        "\n",
        "Compute some simple statistics like mean, standard deviation, min and max for each of the following numerical features in the dataset and store them into lists in order `[episodes, duration_min, score, popularity]`\n",
        "\n",
        "means = `[episodes_mean, duration_min_mean, score_mean, popularity_mean]` and similarly for mins, maxes and stds."
      ]
    },
    {
      "cell_type": "code",
      "metadata": {
        "id": "MKgiJ4AdCuQu",
        "colab": {
          "base_uri": "https://localhost:8080/"
        },
        "outputId": "d3abc492-5474-493d-b2cf-5316c5fbcbef"
      },
      "source": [
        "anime_df['episodes'].std()"
      ],
      "execution_count": null,
      "outputs": [
        {
          "output_type": "execute_result",
          "data": {
            "text/plain": [
              "39.553831772491144"
            ]
          },
          "metadata": {},
          "execution_count": 11
        }
      ]
    },
    {
      "cell_type": "code",
      "metadata": {
        "id": "EvQRYgtFoTEk",
        "colab": {
          "base_uri": "https://localhost:8080/"
        },
        "outputId": "06573250-9d08-413e-9ea2-d828d4b28d29"
      },
      "source": [
        "means=[anime_df['episodes'].mean(), anime_df['duration_min'].mean(), anime_df['score'].mean(),anime_df['popularity'].mean()]\n",
        "stds=[anime_df['episodes'].std(), anime_df['duration_min'].std(), anime_df['score'].std(),anime_df['popularity'].std()]\n",
        "maxes=[anime_df['episodes'].max(), anime_df['duration_min'].max(), anime_df['score'].max(),anime_df['popularity'].max()]\n",
        "mins=[anime_df['episodes'].min(), anime_df['duration_min'].min(), anime_df['score'].min(),anime_df['popularity'].min()]\n",
        "print(maxes)\n",
        "print(mins)\n",
        "print(stds)\n",
        "print(means)"
      ],
      "execution_count": null,
      "outputs": [
        {
          "output_type": "stream",
          "name": "stdout",
          "text": [
            "[1787, 163.0, 9.25, 14429]\n",
            "[0, 0.0, 0.0, 1]\n",
            "[39.553831772491144, 24.362906828210985, 0.6919855132749758, 1309.4865053882259]\n",
            "[19.436704814270186, 31.22884459646653, 7.577791317689161, 1136.7504763122563]\n"
          ]
        }
      ]
    },
    {
      "cell_type": "markdown",
      "metadata": {
        "id": "AXoyDSVYuecv"
      },
      "source": [
        "#### **1.2.2** Rank and Popularity\n",
        "\n",
        "Note that the **rank** of an anime refers to its ranking based on score, whereas the **popularity** of an anime refers to how many people are watching the anime itself.\n",
        "\n",
        "We want to establish that anime with highest ratings tend to be the most popular. In other words, people tend to watch anime with high user scores.\n",
        "\n",
        "However, note that rank and popularity are correlated, but are not identical. As seen below, the most popular anime are not necessarily the highest rated, although there is overlap.\n"
      ]
    },
    {
      "cell_type": "code",
      "metadata": {
        "id": "blNwnM0Lt5AO",
        "colab": {
          "base_uri": "https://localhost:8080/",
          "height": 285
        },
        "outputId": "f32d610c-5a14-4d1e-f695-7c91e51e699b"
      },
      "source": [
        "sns.set(color_codes=True)\n",
        "ax = sns.regplot(x=\"popularity\", y=\"rank\", data=anime_df,line_kws={'color':'red'})"
      ],
      "execution_count": null,
      "outputs": [
        {
          "output_type": "display_data",
          "data": {
            "image/png": "[encoded data removed]",
            "text/plain": [
              "<Figure size 432x288 with 1 Axes>"
            ]
          },
          "metadata": {}
        }
      ]
    },
    {
      "cell_type": "markdown",
      "metadata": {
        "id": "VRwDsv5bvWcU"
      },
      "source": [
        "#### **1.2.3** Correlation of Feature Variables\n",
        "\n",
        "Create a correlation table **and** heatmap for the features in `anime_df`. Look into how to use seaborn library to do this (imported as sns above)!"
      ]
    },
    {
      "cell_type": "code",
      "metadata": {
        "id": "L2VwsCo5vUcw",
        "colab": {
          "base_uri": "https://localhost:8080/",
          "height": 386
        },
        "outputId": "b2e46421-d956-4da1-b94f-acf465d5228b"
      },
      "source": [
        "anime_corr = anime_df.corr()\n",
        "\n",
        "anime_heatmp=sns.heatmap(anime_corr)"
      ],
      "execution_count": null,
      "outputs": [
        {
          "output_type": "display_data",
          "data": {
            "image/png": "[encoded data removed]",
            "text/plain": [
              "<Figure size 432x288 with 2 Axes>"
            ]
          },
          "metadata": {}
        }
      ]
    },
    {
      "cell_type": "code",
      "metadata": {
        "id": "gGdQdZFfeNPa",
        "colab": {
          "base_uri": "https://localhost:8080/",
          "height": 562
        },
        "outputId": "709eab39-8259-41a6-80ca-81ff42c54c2f"
      },
      "source": [
        "anime_corr"
      ],
      "execution_count": null,
      "outputs": [
        {
          "output_type": "execute_result",
          "data": {
            "text/html": [
              "<div>\n",
              "<style scoped>\n",
              "    .dataframe tbody tr th:only-of-type {\n",
              "        vertical-align: middle;\n",
              "    }\n",
              "\n",
              "    .dataframe tbody tr th {\n",
              "        vertical-align: top;\n",
              "    }\n",
              "\n",
              "    .dataframe thead th {\n",
              "        text-align: right;\n",
              "    }\n",
              "</style>\n",
              "<table border=\"1\" class=\"dataframe\">\n",
              "  <thead>\n",
              "    <tr style=\"text-align: right;\">\n",
              "      <th></th>\n",
              "      <th>anime_id</th>\n",
              "      <th>my_watched_episodes</th>\n",
              "      <th>my_score</th>\n",
              "      <th>my_status</th>\n",
              "      <th>my_rewatching</th>\n",
              "      <th>my_rewatching_ep</th>\n",
              "      <th>episodes</th>\n",
              "      <th>airing</th>\n",
              "      <th>score</th>\n",
              "      <th>scored_by</th>\n",
              "      <th>rank</th>\n",
              "      <th>popularity</th>\n",
              "      <th>members</th>\n",
              "      <th>favorites</th>\n",
              "      <th>duration_min</th>\n",
              "      <th>aired_from_year</th>\n",
              "    </tr>\n",
              "  </thead>\n",
              "  <tbody>\n",
              "    <tr>\n",
              "      <th>anime_id</th>\n",
              "      <td>1.000000</td>\n",
              "      <td>-0.121743</td>\n",
              "      <td>-0.060025</td>\n",
              "      <td>0.003558</td>\n",
              "      <td>-0.011396</td>\n",
              "      <td>-0.007787</td>\n",
              "      <td>-0.159015</td>\n",
              "      <td>0.169760</td>\n",
              "      <td>-0.076832</td>\n",
              "      <td>-0.031955</td>\n",
              "      <td>0.103139</td>\n",
              "      <td>-0.024584</td>\n",
              "      <td>-0.019499</td>\n",
              "      <td>-0.105476</td>\n",
              "      <td>-0.134667</td>\n",
              "      <td>0.767988</td>\n",
              "    </tr>\n",
              "    <tr>\n",
              "      <th>my_watched_episodes</th>\n",
              "      <td>-0.121743</td>\n",
              "      <td>1.000000</td>\n",
              "      <td>0.180694</td>\n",
              "      <td>-0.188937</td>\n",
              "      <td>0.009553</td>\n",
              "      <td>0.004817</td>\n",
              "      <td>0.580564</td>\n",
              "      <td>0.123724</td>\n",
              "      <td>0.125203</td>\n",
              "      <td>0.202746</td>\n",
              "      <td>-0.111332</td>\n",
              "      <td>-0.119686</td>\n",
              "      <td>0.218533</td>\n",
              "      <td>0.279260</td>\n",
              "      <td>-0.102444</td>\n",
              "      <td>-0.154769</td>\n",
              "    </tr>\n",
              "    <tr>\n",
              "      <th>my_score</th>\n",
              "      <td>-0.060025</td>\n",
              "      <td>0.180694</td>\n",
              "      <td>1.000000</td>\n",
              "      <td>-0.649882</td>\n",
              "      <td>0.021068</td>\n",
              "      <td>0.008039</td>\n",
              "      <td>0.024849</td>\n",
              "      <td>-0.065521</td>\n",
              "      <td>0.170083</td>\n",
              "      <td>0.179136</td>\n",
              "      <td>-0.164626</td>\n",
              "      <td>-0.157709</td>\n",
              "      <td>0.171043</td>\n",
              "      <td>0.130092</td>\n",
              "      <td>0.051172</td>\n",
              "      <td>-0.029926</td>\n",
              "    </tr>\n",
              "    <tr>\n",
              "      <th>my_status</th>\n",
              "      <td>0.003558</td>\n",
              "      <td>-0.188937</td>\n",
              "      <td>-0.649882</td>\n",
              "      <td>1.000000</td>\n",
              "      <td>-0.017675</td>\n",
              "      <td>-0.004724</td>\n",
              "      <td>-0.016061</td>\n",
              "      <td>-0.009149</td>\n",
              "      <td>-0.055940</td>\n",
              "      <td>-0.123381</td>\n",
              "      <td>0.059068</td>\n",
              "      <td>0.111244</td>\n",
              "      <td>-0.115161</td>\n",
              "      <td>-0.075922</td>\n",
              "      <td>-0.009839</td>\n",
              "      <td>-0.002656</td>\n",
              "    </tr>\n",
              "    <tr>\n",
              "      <th>my_rewatching</th>\n",
              "      <td>-0.011396</td>\n",
              "      <td>0.009553</td>\n",
              "      <td>0.021068</td>\n",
              "      <td>-0.017675</td>\n",
              "      <td>1.000000</td>\n",
              "      <td>0.029231</td>\n",
              "      <td>0.020074</td>\n",
              "      <td>-0.000966</td>\n",
              "      <td>0.017468</td>\n",
              "      <td>0.023382</td>\n",
              "      <td>-0.014338</td>\n",
              "      <td>-0.013375</td>\n",
              "      <td>0.023969</td>\n",
              "      <td>0.030867</td>\n",
              "      <td>-0.004937</td>\n",
              "      <td>-0.009881</td>\n",
              "    </tr>\n",
              "    <tr>\n",
              "      <th>my_rewatching_ep</th>\n",
              "      <td>-0.007787</td>\n",
              "      <td>0.004817</td>\n",
              "      <td>0.008039</td>\n",
              "      <td>-0.004724</td>\n",
              "      <td>0.029231</td>\n",
              "      <td>1.000000</td>\n",
              "      <td>0.003700</td>\n",
              "      <td>-0.000887</td>\n",
              "      <td>0.003720</td>\n",
              "      <td>0.006834</td>\n",
              "      <td>-0.004122</td>\n",
              "      <td>-0.003216</td>\n",
              "      <td>0.006094</td>\n",
              "      <td>0.008091</td>\n",
              "      <td>-0.002467</td>\n",
              "      <td>-0.008366</td>\n",
              "    </tr>\n",
              "    <tr>\n",
              "      <th>episodes</th>\n",
              "      <td>-0.159015</td>\n",
              "      <td>0.580564</td>\n",
              "      <td>0.024849</td>\n",
              "      <td>-0.016061</td>\n",
              "      <td>0.020074</td>\n",
              "      <td>0.003700</td>\n",
              "      <td>1.000000</td>\n",
              "      <td>-0.022290</td>\n",
              "      <td>0.149656</td>\n",
              "      <td>0.206089</td>\n",
              "      <td>-0.135543</td>\n",
              "      <td>-0.126158</td>\n",
              "      <td>0.242032</td>\n",
              "      <td>0.286186</td>\n",
              "      <td>-0.155244</td>\n",
              "      <td>-0.196229</td>\n",
              "    </tr>\n",
              "    <tr>\n",
              "      <th>airing</th>\n",
              "      <td>0.169760</td>\n",
              "      <td>0.123724</td>\n",
              "      <td>-0.065521</td>\n",
              "      <td>-0.009149</td>\n",
              "      <td>-0.000966</td>\n",
              "      <td>-0.000887</td>\n",
              "      <td>-0.022290</td>\n",
              "      <td>1.000000</td>\n",
              "      <td>0.002271</td>\n",
              "      <td>-0.034875</td>\n",
              "      <td>0.019071</td>\n",
              "      <td>0.022716</td>\n",
              "      <td>-0.015783</td>\n",
              "      <td>0.036015</td>\n",
              "      <td>-0.040590</td>\n",
              "      <td>0.092207</td>\n",
              "    </tr>\n",
              "    <tr>\n",
              "      <th>score</th>\n",
              "      <td>-0.076832</td>\n",
              "      <td>0.125203</td>\n",
              "      <td>0.170083</td>\n",
              "      <td>-0.055940</td>\n",
              "      <td>0.017468</td>\n",
              "      <td>0.003720</td>\n",
              "      <td>0.149656</td>\n",
              "      <td>0.002271</td>\n",
              "      <td>1.000000</td>\n",
              "      <td>0.478973</td>\n",
              "      <td>-0.950244</td>\n",
              "      <td>-0.542743</td>\n",
              "      <td>0.512151</td>\n",
              "      <td>0.459681</td>\n",
              "      <td>0.198048</td>\n",
              "      <td>-0.028901</td>\n",
              "    </tr>\n",
              "    <tr>\n",
              "      <th>scored_by</th>\n",
              "      <td>-0.031955</td>\n",
              "      <td>0.202746</td>\n",
              "      <td>0.179136</td>\n",
              "      <td>-0.123381</td>\n",
              "      <td>0.023382</td>\n",
              "      <td>0.006834</td>\n",
              "      <td>0.206089</td>\n",
              "      <td>-0.034875</td>\n",
              "      <td>0.478973</td>\n",
              "      <td>1.000000</td>\n",
              "      <td>-0.404803</td>\n",
              "      <td>-0.514351</td>\n",
              "      <td>0.988397</td>\n",
              "      <td>0.829139</td>\n",
              "      <td>-0.035934</td>\n",
              "      <td>0.052701</td>\n",
              "    </tr>\n",
              "    <tr>\n",
              "      <th>rank</th>\n",
              "      <td>0.103139</td>\n",
              "      <td>-0.111332</td>\n",
              "      <td>-0.164626</td>\n",
              "      <td>0.059068</td>\n",
              "      <td>-0.014338</td>\n",
              "      <td>-0.004122</td>\n",
              "      <td>-0.135543</td>\n",
              "      <td>0.019071</td>\n",
              "      <td>-0.950244</td>\n",
              "      <td>-0.404803</td>\n",
              "      <td>1.000000</td>\n",
              "      <td>0.553360</td>\n",
              "      <td>-0.436994</td>\n",
              "      <td>-0.331167</td>\n",
              "      <td>-0.184102</td>\n",
              "      <td>0.037151</td>\n",
              "    </tr>\n",
              "    <tr>\n",
              "      <th>popularity</th>\n",
              "      <td>-0.024584</td>\n",
              "      <td>-0.119686</td>\n",
              "      <td>-0.157709</td>\n",
              "      <td>0.111244</td>\n",
              "      <td>-0.013375</td>\n",
              "      <td>-0.003216</td>\n",
              "      <td>-0.126158</td>\n",
              "      <td>0.022716</td>\n",
              "      <td>-0.542743</td>\n",
              "      <td>-0.514351</td>\n",
              "      <td>0.553360</td>\n",
              "      <td>1.000000</td>\n",
              "      <td>-0.561940</td>\n",
              "      <td>-0.319916</td>\n",
              "      <td>-0.018172</td>\n",
              "      <td>-0.195544</td>\n",
              "    </tr>\n",
              "    <tr>\n",
              "      <th>members</th>\n",
              "      <td>-0.019499</td>\n",
              "      <td>0.218533</td>\n",
              "      <td>0.171043</td>\n",
              "      <td>-0.115161</td>\n",
              "      <td>0.023969</td>\n",
              "      <td>0.006094</td>\n",
              "      <td>0.242032</td>\n",
              "      <td>-0.015783</td>\n",
              "      <td>0.512151</td>\n",
              "      <td>0.988397</td>\n",
              "      <td>-0.436994</td>\n",
              "      <td>-0.561940</td>\n",
              "      <td>1.000000</td>\n",
              "      <td>0.830822</td>\n",
              "      <td>-0.061098</td>\n",
              "      <td>0.073873</td>\n",
              "    </tr>\n",
              "    <tr>\n",
              "      <th>favorites</th>\n",
              "      <td>-0.105476</td>\n",
              "      <td>0.279260</td>\n",
              "      <td>0.130092</td>\n",
              "      <td>-0.075922</td>\n",
              "      <td>0.030867</td>\n",
              "      <td>0.008091</td>\n",
              "      <td>0.286186</td>\n",
              "      <td>0.036015</td>\n",
              "      <td>0.459681</td>\n",
              "      <td>0.829139</td>\n",
              "      <td>-0.331167</td>\n",
              "      <td>-0.319916</td>\n",
              "      <td>0.830822</td>\n",
              "      <td>1.000000</td>\n",
              "      <td>-0.062208</td>\n",
              "      <td>-0.035624</td>\n",
              "    </tr>\n",
              "    <tr>\n",
              "      <th>duration_min</th>\n",
              "      <td>-0.134667</td>\n",
              "      <td>-0.102444</td>\n",
              "      <td>0.051172</td>\n",
              "      <td>-0.009839</td>\n",
              "      <td>-0.004937</td>\n",
              "      <td>-0.002467</td>\n",
              "      <td>-0.155244</td>\n",
              "      <td>-0.040590</td>\n",
              "      <td>0.198048</td>\n",
              "      <td>-0.035934</td>\n",
              "      <td>-0.184102</td>\n",
              "      <td>-0.018172</td>\n",
              "      <td>-0.061098</td>\n",
              "      <td>-0.062208</td>\n",
              "      <td>1.000000</td>\n",
              "      <td>-0.177886</td>\n",
              "    </tr>\n",
              "    <tr>\n",
              "      <th>aired_from_year</th>\n",
              "      <td>0.767988</td>\n",
              "      <td>-0.154769</td>\n",
              "      <td>-0.029926</td>\n",
              "      <td>-0.002656</td>\n",
              "      <td>-0.009881</td>\n",
              "      <td>-0.008366</td>\n",
              "      <td>-0.196229</td>\n",
              "      <td>0.092207</td>\n",
              "      <td>-0.028901</td>\n",
              "      <td>0.052701</td>\n",
              "      <td>0.037151</td>\n",
              "      <td>-0.195544</td>\n",
              "      <td>0.073873</td>\n",
              "      <td>-0.035624</td>\n",
              "      <td>-0.177886</td>\n",
              "      <td>1.000000</td>\n",
              "    </tr>\n",
              "  </tbody>\n",
              "</table>\n",
              "</div>"
            ],
            "text/plain": [
              "                     anime_id  ...  aired_from_year\n",
              "anime_id             1.000000  ...         0.767988\n",
              "my_watched_episodes -0.121743  ...        -0.154769\n",
              "my_score            -0.060025  ...        -0.029926\n",
              "my_status            0.003558  ...        -0.002656\n",
              "my_rewatching       -0.011396  ...        -0.009881\n",
              "my_rewatching_ep    -0.007787  ...        -0.008366\n",
              "episodes            -0.159015  ...        -0.196229\n",
              "airing               0.169760  ...         0.092207\n",
              "score               -0.076832  ...        -0.028901\n",
              "scored_by           -0.031955  ...         0.052701\n",
              "rank                 0.103139  ...         0.037151\n",
              "popularity          -0.024584  ...        -0.195544\n",
              "members             -0.019499  ...         0.073873\n",
              "favorites           -0.105476  ...        -0.035624\n",
              "duration_min        -0.134667  ...        -0.177886\n",
              "aired_from_year      0.767988  ...         1.000000\n",
              "\n",
              "[16 rows x 16 columns]"
            ]
          },
          "metadata": {},
          "execution_count": 16
        }
      ]
    },
    {
      "cell_type": "markdown",
      "metadata": {
        "id": "akrDijzBwoRu"
      },
      "source": [
        "#### **1.2.4** Explore Other Features\n",
        "As a next step, we will try to gain insights into the data using some of the other attributes.\n",
        "Create a new dataframe, `popular_studio`, where you group by `studio` and `type` (in that order) and find the sum of `popularity`. Sort the values in decreasing order of popularity and create a bar plot with the first 30 rows of \n",
        "`popular_studio`. Plot  `studio` on the x-axis and `popularity` on y_axis and make sure that for each studio there is a bar for the popularity sum for each type of show produced by that studio.(for e.g if a studio has type TV and Movie, there should be 2 bars for that studio) Please use the seaborn library for this plot!"
      ]
    },
    {
      "cell_type": "code",
      "metadata": {
        "id": "25vdxa2CFr9L",
        "colab": {
          "base_uri": "https://localhost:8080/",
          "height": 369
        },
        "outputId": "78cbc29a-3844-4fa6-96ad-d606e366e619"
      },
      "source": [
        "popular_studio= anime_df[['studio','type','popularity']].groupby(by=['studio','type']).sum()\n",
        "popular_studio=popular_studio.reset_index()\n",
        "popular_studio=popular_studio.sort_values(by='popularity', ascending=False).head(30)\n",
        "popplot=sns.barplot(x='studio', y='popularity', hue='type', data=popular_studio)\n",
        "popplot.set_xticklabels(popplot.get_xticklabels(), rotation=45)\n",
        "sns.set(rc={'figure.figsize':(20,10)})"
      ],
      "execution_count": null,
      "outputs": [
        {
          "output_type": "display_data",
          "data": {
            "image/png": "[encoded data removed]",
            "text/plain": [
              "<Figure size 432x288 with 1 Axes>"
            ]
          },
          "metadata": {}
        }
      ]
    },
    {
      "cell_type": "markdown",
      "metadata": {
        "id": "ZDWNc38VyFLF"
      },
      "source": [
        "### **1.3** Feature Engineering\n",
        "\n",
        "**Feature Engineering:** Feature engineering is the process of using domain knowledge to extract features from raw data via data mining techniques. These features can be used to improve the performance of machine learning algorithms."
      ]
    },
    {
      "cell_type": "markdown",
      "metadata": {
        "id": "bjmPzOxAyqot"
      },
      "source": [
        "#### **1.3.1** Processing Genres\n",
        "\n",
        "As shown in the output of all the entries in the genre column, one anime can have multiple genres, of which are represented in the column separated by commas. As such, in order to make the data useful as feature variables, we will split the genres listed such that each row contains one listed genre. If a particular anime_id has 2 genres, that row will appear twice for each of the genres. \n",
        "\n",
        "Hint: See the `explode()` function"
      ]
    },
    {
      "cell_type": "code",
      "metadata": {
        "id": "u5DD7l7Vy2-d"
      },
      "source": [
        "anime_df['genre']=list(anime_df['genre'].str.split(\",\"))\n",
        "anime_df=anime_df.explode('genre')"
      ],
      "execution_count": null,
      "outputs": []
    },
    {
      "cell_type": "code",
      "metadata": {
        "id": "gQb1pBOChUry",
        "colab": {
          "base_uri": "https://localhost:8080/",
          "height": 1000
        },
        "outputId": "bc263505-9faa-438a-8524-09189450cfac"
      },
      "source": [
        "anime_df"
      ],
      "execution_count": null,
      "outputs": [
        {
          "output_type": "execute_result",
          "data": {
            "text/html": [
              "<div>\n",
              "<style scoped>\n",
              "    .dataframe tbody tr th:only-of-type {\n",
              "        vertical-align: middle;\n",
              "    }\n",
              "\n",
              "    .dataframe tbody tr th {\n",
              "        vertical-align: top;\n",
              "    }\n",
              "\n",
              "    .dataframe thead th {\n",
              "        text-align: right;\n",
              "    }\n",
              "</style>\n",
              "<table border=\"1\" class=\"dataframe\">\n",
              "  <thead>\n",
              "    <tr style=\"text-align: right;\">\n",
              "      <th></th>\n",
              "      <th>username</th>\n",
              "      <th>anime_id</th>\n",
              "      <th>my_watched_episodes</th>\n",
              "      <th>my_start_date</th>\n",
              "      <th>my_finish_date</th>\n",
              "      <th>my_score</th>\n",
              "      <th>my_status</th>\n",
              "      <th>my_rewatching</th>\n",
              "      <th>my_rewatching_ep</th>\n",
              "      <th>my_last_updated</th>\n",
              "      <th>my_tags</th>\n",
              "      <th>title</th>\n",
              "      <th>title_english</th>\n",
              "      <th>title_japanese</th>\n",
              "      <th>title_synonyms</th>\n",
              "      <th>image_url</th>\n",
              "      <th>type</th>\n",
              "      <th>source</th>\n",
              "      <th>episodes</th>\n",
              "      <th>status</th>\n",
              "      <th>airing</th>\n",
              "      <th>aired_string</th>\n",
              "      <th>aired</th>\n",
              "      <th>duration</th>\n",
              "      <th>rating</th>\n",
              "      <th>score</th>\n",
              "      <th>scored_by</th>\n",
              "      <th>rank</th>\n",
              "      <th>popularity</th>\n",
              "      <th>members</th>\n",
              "      <th>favorites</th>\n",
              "      <th>background</th>\n",
              "      <th>premiered</th>\n",
              "      <th>broadcast</th>\n",
              "      <th>related</th>\n",
              "      <th>producer</th>\n",
              "      <th>licensor</th>\n",
              "      <th>studio</th>\n",
              "      <th>genre</th>\n",
              "      <th>opening_theme</th>\n",
              "      <th>ending_theme</th>\n",
              "      <th>duration_min</th>\n",
              "      <th>aired_from_year</th>\n",
              "    </tr>\n",
              "  </thead>\n",
              "  <tbody>\n",
              "    <tr>\n",
              "      <th>0</th>\n",
              "      <td>Zukin-Man</td>\n",
              "      <td>10020</td>\n",
              "      <td>4</td>\n",
              "      <td>2013-01-29</td>\n",
              "      <td>2013-01-29</td>\n",
              "      <td>9</td>\n",
              "      <td>2</td>\n",
              "      <td>NaN</td>\n",
              "      <td>0</td>\n",
              "      <td>2013-01-30 05:06:16</td>\n",
              "      <td>comedy, school, otaku humor, romance, WIN</td>\n",
              "      <td>Ore no Imouto ga Konnani Kawaii Wake ga Nai Sp...</td>\n",
              "      <td>OreImo Specials</td>\n",
              "      <td>俺の妹がこんなに可愛いわけがない</td>\n",
              "      <td>My Little Sister Can&amp;#039;t Be This Cute Specials</td>\n",
              "      <td>https://myanimelist.cdn-dena.com/images/anime/...</td>\n",
              "      <td>ONA</td>\n",
              "      <td>Light novel</td>\n",
              "      <td>4</td>\n",
              "      <td>Finished Airing</td>\n",
              "      <td>False</td>\n",
              "      <td>Feb 22, 2011 to May 31, 2011</td>\n",
              "      <td>{'from': '2011-02-22', 'to': '2011-05-31'}</td>\n",
              "      <td>28 min. per ep.</td>\n",
              "      <td>PG-13 - Teens 13 or older</td>\n",
              "      <td>7.57</td>\n",
              "      <td>83849</td>\n",
              "      <td>1435.0</td>\n",
              "      <td>658</td>\n",
              "      <td>127176</td>\n",
              "      <td>176</td>\n",
              "      <td>NaN</td>\n",
              "      <td>NaN</td>\n",
              "      <td>NaN</td>\n",
              "      <td>{'Adaptation': [{'mal_id': 13667, 'type': 'man...</td>\n",
              "      <td>Aniplex</td>\n",
              "      <td>Aniplex of America</td>\n",
              "      <td>AIC Build</td>\n",
              "      <td>Slice of Life</td>\n",
              "      <td>['\"irony\" by ClariS']</td>\n",
              "      <td>['#1: \"READY\" by Ayana Taketatsu (ep 1)', '#2:...</td>\n",
              "      <td>28.0</td>\n",
              "      <td>2011.0</td>\n",
              "    </tr>\n",
              "    <tr>\n",
              "      <th>0</th>\n",
              "      <td>Zukin-Man</td>\n",
              "      <td>10020</td>\n",
              "      <td>4</td>\n",
              "      <td>2013-01-29</td>\n",
              "      <td>2013-01-29</td>\n",
              "      <td>9</td>\n",
              "      <td>2</td>\n",
              "      <td>NaN</td>\n",
              "      <td>0</td>\n",
              "      <td>2013-01-30 05:06:16</td>\n",
              "      <td>comedy, school, otaku humor, romance, WIN</td>\n",
              "      <td>Ore no Imouto ga Konnani Kawaii Wake ga Nai Sp...</td>\n",
              "      <td>OreImo Specials</td>\n",
              "      <td>俺の妹がこんなに可愛いわけがない</td>\n",
              "      <td>My Little Sister Can&amp;#039;t Be This Cute Specials</td>\n",
              "      <td>https://myanimelist.cdn-dena.com/images/anime/...</td>\n",
              "      <td>ONA</td>\n",
              "      <td>Light novel</td>\n",
              "      <td>4</td>\n",
              "      <td>Finished Airing</td>\n",
              "      <td>False</td>\n",
              "      <td>Feb 22, 2011 to May 31, 2011</td>\n",
              "      <td>{'from': '2011-02-22', 'to': '2011-05-31'}</td>\n",
              "      <td>28 min. per ep.</td>\n",
              "      <td>PG-13 - Teens 13 or older</td>\n",
              "      <td>7.57</td>\n",
              "      <td>83849</td>\n",
              "      <td>1435.0</td>\n",
              "      <td>658</td>\n",
              "      <td>127176</td>\n",
              "      <td>176</td>\n",
              "      <td>NaN</td>\n",
              "      <td>NaN</td>\n",
              "      <td>NaN</td>\n",
              "      <td>{'Adaptation': [{'mal_id': 13667, 'type': 'man...</td>\n",
              "      <td>Aniplex</td>\n",
              "      <td>Aniplex of America</td>\n",
              "      <td>AIC Build</td>\n",
              "      <td>Comedy</td>\n",
              "      <td>['\"irony\" by ClariS']</td>\n",
              "      <td>['#1: \"READY\" by Ayana Taketatsu (ep 1)', '#2:...</td>\n",
              "      <td>28.0</td>\n",
              "      <td>2011.0</td>\n",
              "    </tr>\n",
              "    <tr>\n",
              "      <th>1</th>\n",
              "      <td>AluPachi</td>\n",
              "      <td>19111</td>\n",
              "      <td>13</td>\n",
              "      <td>2014-09-11</td>\n",
              "      <td>2014-09-17</td>\n",
              "      <td>9</td>\n",
              "      <td>2</td>\n",
              "      <td>NaN</td>\n",
              "      <td>0</td>\n",
              "      <td>2014-09-17 21:26:52</td>\n",
              "      <td>NaN</td>\n",
              "      <td>Love Live! School Idol Project 2nd Season</td>\n",
              "      <td>Love Live! School Idol Project 2</td>\n",
              "      <td>ラブライブ! School idol project 2期</td>\n",
              "      <td>NaN</td>\n",
              "      <td>https://myanimelist.cdn-dena.com/images/anime/...</td>\n",
              "      <td>TV</td>\n",
              "      <td>Other</td>\n",
              "      <td>13</td>\n",
              "      <td>Finished Airing</td>\n",
              "      <td>False</td>\n",
              "      <td>Apr 6, 2014 to Jun 29, 2014</td>\n",
              "      <td>{'from': '2014-04-06', 'to': '2014-06-29'}</td>\n",
              "      <td>23 min. per ep.</td>\n",
              "      <td>PG-13 - Teens 13 or older</td>\n",
              "      <td>7.99</td>\n",
              "      <td>79740</td>\n",
              "      <td>570.0</td>\n",
              "      <td>599</td>\n",
              "      <td>138715</td>\n",
              "      <td>2475</td>\n",
              "      <td>The series also has released a mobile rhythm g...</td>\n",
              "      <td>Spring 2014</td>\n",
              "      <td>Sundays at 22:30 (JST)</td>\n",
              "      <td>{'Prequel': [{'mal_id': 15051, 'type': 'anime'...</td>\n",
              "      <td>Bandai Visual, Lantis, Bushiroad</td>\n",
              "      <td>NIS America, Inc.</td>\n",
              "      <td>Sunrise</td>\n",
              "      <td>Music</td>\n",
              "      <td>['\"Sore wa Bokutachi no Kiseki (それは僕たちの奇跡)\" by...</td>\n",
              "      <td>['#01: \"Sore wa Bokutachi no Kiseki (それは僕たちの奇跡...</td>\n",
              "      <td>23.0</td>\n",
              "      <td>2014.0</td>\n",
              "    </tr>\n",
              "    <tr>\n",
              "      <th>1</th>\n",
              "      <td>AluPachi</td>\n",
              "      <td>19111</td>\n",
              "      <td>13</td>\n",
              "      <td>2014-09-11</td>\n",
              "      <td>2014-09-17</td>\n",
              "      <td>9</td>\n",
              "      <td>2</td>\n",
              "      <td>NaN</td>\n",
              "      <td>0</td>\n",
              "      <td>2014-09-17 21:26:52</td>\n",
              "      <td>NaN</td>\n",
              "      <td>Love Live! School Idol Project 2nd Season</td>\n",
              "      <td>Love Live! School Idol Project 2</td>\n",
              "      <td>ラブライブ! School idol project 2期</td>\n",
              "      <td>NaN</td>\n",
              "      <td>https://myanimelist.cdn-dena.com/images/anime/...</td>\n",
              "      <td>TV</td>\n",
              "      <td>Other</td>\n",
              "      <td>13</td>\n",
              "      <td>Finished Airing</td>\n",
              "      <td>False</td>\n",
              "      <td>Apr 6, 2014 to Jun 29, 2014</td>\n",
              "      <td>{'from': '2014-04-06', 'to': '2014-06-29'}</td>\n",
              "      <td>23 min. per ep.</td>\n",
              "      <td>PG-13 - Teens 13 or older</td>\n",
              "      <td>7.99</td>\n",
              "      <td>79740</td>\n",
              "      <td>570.0</td>\n",
              "      <td>599</td>\n",
              "      <td>138715</td>\n",
              "      <td>2475</td>\n",
              "      <td>The series also has released a mobile rhythm g...</td>\n",
              "      <td>Spring 2014</td>\n",
              "      <td>Sundays at 22:30 (JST)</td>\n",
              "      <td>{'Prequel': [{'mal_id': 15051, 'type': 'anime'...</td>\n",
              "      <td>Bandai Visual, Lantis, Bushiroad</td>\n",
              "      <td>NIS America, Inc.</td>\n",
              "      <td>Sunrise</td>\n",
              "      <td>School</td>\n",
              "      <td>['\"Sore wa Bokutachi no Kiseki (それは僕たちの奇跡)\" by...</td>\n",
              "      <td>['#01: \"Sore wa Bokutachi no Kiseki (それは僕たちの奇跡...</td>\n",
              "      <td>23.0</td>\n",
              "      <td>2014.0</td>\n",
              "    </tr>\n",
              "    <tr>\n",
              "      <th>1</th>\n",
              "      <td>AluPachi</td>\n",
              "      <td>19111</td>\n",
              "      <td>13</td>\n",
              "      <td>2014-09-11</td>\n",
              "      <td>2014-09-17</td>\n",
              "      <td>9</td>\n",
              "      <td>2</td>\n",
              "      <td>NaN</td>\n",
              "      <td>0</td>\n",
              "      <td>2014-09-17 21:26:52</td>\n",
              "      <td>NaN</td>\n",
              "      <td>Love Live! School Idol Project 2nd Season</td>\n",
              "      <td>Love Live! School Idol Project 2</td>\n",
              "      <td>ラブライブ! School idol project 2期</td>\n",
              "      <td>NaN</td>\n",
              "      <td>https://myanimelist.cdn-dena.com/images/anime/...</td>\n",
              "      <td>TV</td>\n",
              "      <td>Other</td>\n",
              "      <td>13</td>\n",
              "      <td>Finished Airing</td>\n",
              "      <td>False</td>\n",
              "      <td>Apr 6, 2014 to Jun 29, 2014</td>\n",
              "      <td>{'from': '2014-04-06', 'to': '2014-06-29'}</td>\n",
              "      <td>23 min. per ep.</td>\n",
              "      <td>PG-13 - Teens 13 or older</td>\n",
              "      <td>7.99</td>\n",
              "      <td>79740</td>\n",
              "      <td>570.0</td>\n",
              "      <td>599</td>\n",
              "      <td>138715</td>\n",
              "      <td>2475</td>\n",
              "      <td>The series also has released a mobile rhythm g...</td>\n",
              "      <td>Spring 2014</td>\n",
              "      <td>Sundays at 22:30 (JST)</td>\n",
              "      <td>{'Prequel': [{'mal_id': 15051, 'type': 'anime'...</td>\n",
              "      <td>Bandai Visual, Lantis, Bushiroad</td>\n",
              "      <td>NIS America, Inc.</td>\n",
              "      <td>Sunrise</td>\n",
              "      <td>Slice of Life</td>\n",
              "      <td>['\"Sore wa Bokutachi no Kiseki (それは僕たちの奇跡)\" by...</td>\n",
              "      <td>['#01: \"Sore wa Bokutachi no Kiseki (それは僕たちの奇跡...</td>\n",
              "      <td>23.0</td>\n",
              "      <td>2014.0</td>\n",
              "    </tr>\n",
              "    <tr>\n",
              "      <th>...</th>\n",
              "      <td>...</td>\n",
              "      <td>...</td>\n",
              "      <td>...</td>\n",
              "      <td>...</td>\n",
              "      <td>...</td>\n",
              "      <td>...</td>\n",
              "      <td>...</td>\n",
              "      <td>...</td>\n",
              "      <td>...</td>\n",
              "      <td>...</td>\n",
              "      <td>...</td>\n",
              "      <td>...</td>\n",
              "      <td>...</td>\n",
              "      <td>...</td>\n",
              "      <td>...</td>\n",
              "      <td>...</td>\n",
              "      <td>...</td>\n",
              "      <td>...</td>\n",
              "      <td>...</td>\n",
              "      <td>...</td>\n",
              "      <td>...</td>\n",
              "      <td>...</td>\n",
              "      <td>...</td>\n",
              "      <td>...</td>\n",
              "      <td>...</td>\n",
              "      <td>...</td>\n",
              "      <td>...</td>\n",
              "      <td>...</td>\n",
              "      <td>...</td>\n",
              "      <td>...</td>\n",
              "      <td>...</td>\n",
              "      <td>...</td>\n",
              "      <td>...</td>\n",
              "      <td>...</td>\n",
              "      <td>...</td>\n",
              "      <td>...</td>\n",
              "      <td>...</td>\n",
              "      <td>...</td>\n",
              "      <td>...</td>\n",
              "      <td>...</td>\n",
              "      <td>...</td>\n",
              "      <td>...</td>\n",
              "      <td>...</td>\n",
              "    </tr>\n",
              "    <tr>\n",
              "      <th>312838</th>\n",
              "      <td>Serzhunya_Baka</td>\n",
              "      <td>5630</td>\n",
              "      <td>11</td>\n",
              "      <td>2011-02-14</td>\n",
              "      <td>2011-02-14</td>\n",
              "      <td>8</td>\n",
              "      <td>2</td>\n",
              "      <td>0.0</td>\n",
              "      <td>0</td>\n",
              "      <td>2011-09-23 15:56:34</td>\n",
              "      <td>NaN</td>\n",
              "      <td>Higashi no Eden</td>\n",
              "      <td>Eden of The East</td>\n",
              "      <td>東のエデン</td>\n",
              "      <td>Higashi no Eden</td>\n",
              "      <td>https://myanimelist.cdn-dena.com/images/anime/...</td>\n",
              "      <td>TV</td>\n",
              "      <td>Original</td>\n",
              "      <td>11</td>\n",
              "      <td>Finished Airing</td>\n",
              "      <td>False</td>\n",
              "      <td>Apr 10, 2009 to Jun 19, 2009</td>\n",
              "      <td>{'from': '2009-04-10', 'to': '2009-06-19'}</td>\n",
              "      <td>23 min. per ep.</td>\n",
              "      <td>R - 17+ (violence &amp; profanity)</td>\n",
              "      <td>7.96</td>\n",
              "      <td>173942</td>\n",
              "      <td>599.0</td>\n",
              "      <td>156</td>\n",
              "      <td>346202</td>\n",
              "      <td>3733</td>\n",
              "      <td>Higashi no Eden won the Animation Kobe Award i...</td>\n",
              "      <td>Spring 2009</td>\n",
              "      <td>Fridays at 00:45 (JST)</td>\n",
              "      <td>{'Adaptation': [{'mal_id': 67765, 'type': 'man...</td>\n",
              "      <td>Fuji TV, Asmik Ace Entertainment, Sony Music E...</td>\n",
              "      <td>Funimation</td>\n",
              "      <td>Production I.G</td>\n",
              "      <td>Thriller</td>\n",
              "      <td>['#1: \"FALLING DOWN\" by Oasis', '#2: \"Michael ...</td>\n",
              "      <td>['\"futuristic imagination\" by school food puni...</td>\n",
              "      <td>23.0</td>\n",
              "      <td>2009.0</td>\n",
              "    </tr>\n",
              "    <tr>\n",
              "      <th>312839</th>\n",
              "      <td>TigreDemon</td>\n",
              "      <td>32902</td>\n",
              "      <td>3</td>\n",
              "      <td>2016-09-18</td>\n",
              "      <td>2017-09-10</td>\n",
              "      <td>8</td>\n",
              "      <td>2</td>\n",
              "      <td>0.0</td>\n",
              "      <td>0</td>\n",
              "      <td>2017-09-10 17:57:45</td>\n",
              "      <td>NaN</td>\n",
              "      <td>Mahoutsukai no Yome: Hoshi Matsu Hito</td>\n",
              "      <td>The Ancient Magus&amp;#039; Bride: Those Awaiting ...</td>\n",
              "      <td>魔法使いの嫁 星待つひと</td>\n",
              "      <td>The Magician&amp;#039;s Bride</td>\n",
              "      <td>https://myanimelist.cdn-dena.com/images/anime/...</td>\n",
              "      <td>OVA</td>\n",
              "      <td>Manga</td>\n",
              "      <td>3</td>\n",
              "      <td>Finished Airing</td>\n",
              "      <td>False</td>\n",
              "      <td>Sep 10, 2016 to Sep 9, 2017</td>\n",
              "      <td>{'from': '2016-09-10', 'to': '2017-09-09'}</td>\n",
              "      <td>23 min. per ep.</td>\n",
              "      <td>PG-13 - Teens 13 or older</td>\n",
              "      <td>8.26</td>\n",
              "      <td>61403</td>\n",
              "      <td>270.0</td>\n",
              "      <td>536</td>\n",
              "      <td>150617</td>\n",
              "      <td>553</td>\n",
              "      <td>Mahoutsukai no Yome: Hoshi Matsu Hito is a pre...</td>\n",
              "      <td>NaN</td>\n",
              "      <td>NaN</td>\n",
              "      <td>{'Adaptation': [{'mal_id': 61189, 'type': 'man...</td>\n",
              "      <td>Production I.G, flying DOG</td>\n",
              "      <td>Crunchyroll</td>\n",
              "      <td>Wit Studio</td>\n",
              "      <td>Slice of Life</td>\n",
              "      <td>[]</td>\n",
              "      <td>['\"CLOCKWORK QUICK AND LIGHTNING SLOW\" by Juli...</td>\n",
              "      <td>23.0</td>\n",
              "      <td>2016.0</td>\n",
              "    </tr>\n",
              "    <tr>\n",
              "      <th>312839</th>\n",
              "      <td>TigreDemon</td>\n",
              "      <td>32902</td>\n",
              "      <td>3</td>\n",
              "      <td>2016-09-18</td>\n",
              "      <td>2017-09-10</td>\n",
              "      <td>8</td>\n",
              "      <td>2</td>\n",
              "      <td>0.0</td>\n",
              "      <td>0</td>\n",
              "      <td>2017-09-10 17:57:45</td>\n",
              "      <td>NaN</td>\n",
              "      <td>Mahoutsukai no Yome: Hoshi Matsu Hito</td>\n",
              "      <td>The Ancient Magus&amp;#039; Bride: Those Awaiting ...</td>\n",
              "      <td>魔法使いの嫁 星待つひと</td>\n",
              "      <td>The Magician&amp;#039;s Bride</td>\n",
              "      <td>https://myanimelist.cdn-dena.com/images/anime/...</td>\n",
              "      <td>OVA</td>\n",
              "      <td>Manga</td>\n",
              "      <td>3</td>\n",
              "      <td>Finished Airing</td>\n",
              "      <td>False</td>\n",
              "      <td>Sep 10, 2016 to Sep 9, 2017</td>\n",
              "      <td>{'from': '2016-09-10', 'to': '2017-09-09'}</td>\n",
              "      <td>23 min. per ep.</td>\n",
              "      <td>PG-13 - Teens 13 or older</td>\n",
              "      <td>8.26</td>\n",
              "      <td>61403</td>\n",
              "      <td>270.0</td>\n",
              "      <td>536</td>\n",
              "      <td>150617</td>\n",
              "      <td>553</td>\n",
              "      <td>Mahoutsukai no Yome: Hoshi Matsu Hito is a pre...</td>\n",
              "      <td>NaN</td>\n",
              "      <td>NaN</td>\n",
              "      <td>{'Adaptation': [{'mal_id': 61189, 'type': 'man...</td>\n",
              "      <td>Production I.G, flying DOG</td>\n",
              "      <td>Crunchyroll</td>\n",
              "      <td>Wit Studio</td>\n",
              "      <td>Magic</td>\n",
              "      <td>[]</td>\n",
              "      <td>['\"CLOCKWORK QUICK AND LIGHTNING SLOW\" by Juli...</td>\n",
              "      <td>23.0</td>\n",
              "      <td>2016.0</td>\n",
              "    </tr>\n",
              "    <tr>\n",
              "      <th>312839</th>\n",
              "      <td>TigreDemon</td>\n",
              "      <td>32902</td>\n",
              "      <td>3</td>\n",
              "      <td>2016-09-18</td>\n",
              "      <td>2017-09-10</td>\n",
              "      <td>8</td>\n",
              "      <td>2</td>\n",
              "      <td>0.0</td>\n",
              "      <td>0</td>\n",
              "      <td>2017-09-10 17:57:45</td>\n",
              "      <td>NaN</td>\n",
              "      <td>Mahoutsukai no Yome: Hoshi Matsu Hito</td>\n",
              "      <td>The Ancient Magus&amp;#039; Bride: Those Awaiting ...</td>\n",
              "      <td>魔法使いの嫁 星待つひと</td>\n",
              "      <td>The Magician&amp;#039;s Bride</td>\n",
              "      <td>https://myanimelist.cdn-dena.com/images/anime/...</td>\n",
              "      <td>OVA</td>\n",
              "      <td>Manga</td>\n",
              "      <td>3</td>\n",
              "      <td>Finished Airing</td>\n",
              "      <td>False</td>\n",
              "      <td>Sep 10, 2016 to Sep 9, 2017</td>\n",
              "      <td>{'from': '2016-09-10', 'to': '2017-09-09'}</td>\n",
              "      <td>23 min. per ep.</td>\n",
              "      <td>PG-13 - Teens 13 or older</td>\n",
              "      <td>8.26</td>\n",
              "      <td>61403</td>\n",
              "      <td>270.0</td>\n",
              "      <td>536</td>\n",
              "      <td>150617</td>\n",
              "      <td>553</td>\n",
              "      <td>Mahoutsukai no Yome: Hoshi Matsu Hito is a pre...</td>\n",
              "      <td>NaN</td>\n",
              "      <td>NaN</td>\n",
              "      <td>{'Adaptation': [{'mal_id': 61189, 'type': 'man...</td>\n",
              "      <td>Production I.G, flying DOG</td>\n",
              "      <td>Crunchyroll</td>\n",
              "      <td>Wit Studio</td>\n",
              "      <td>Fantasy</td>\n",
              "      <td>[]</td>\n",
              "      <td>['\"CLOCKWORK QUICK AND LIGHTNING SLOW\" by Juli...</td>\n",
              "      <td>23.0</td>\n",
              "      <td>2016.0</td>\n",
              "    </tr>\n",
              "    <tr>\n",
              "      <th>312839</th>\n",
              "      <td>TigreDemon</td>\n",
              "      <td>32902</td>\n",
              "      <td>3</td>\n",
              "      <td>2016-09-18</td>\n",
              "      <td>2017-09-10</td>\n",
              "      <td>8</td>\n",
              "      <td>2</td>\n",
              "      <td>0.0</td>\n",
              "      <td>0</td>\n",
              "      <td>2017-09-10 17:57:45</td>\n",
              "      <td>NaN</td>\n",
              "      <td>Mahoutsukai no Yome: Hoshi Matsu Hito</td>\n",
              "      <td>The Ancient Magus&amp;#039; Bride: Those Awaiting ...</td>\n",
              "      <td>魔法使いの嫁 星待つひと</td>\n",
              "      <td>The Magician&amp;#039;s Bride</td>\n",
              "      <td>https://myanimelist.cdn-dena.com/images/anime/...</td>\n",
              "      <td>OVA</td>\n",
              "      <td>Manga</td>\n",
              "      <td>3</td>\n",
              "      <td>Finished Airing</td>\n",
              "      <td>False</td>\n",
              "      <td>Sep 10, 2016 to Sep 9, 2017</td>\n",
              "      <td>{'from': '2016-09-10', 'to': '2017-09-09'}</td>\n",
              "      <td>23 min. per ep.</td>\n",
              "      <td>PG-13 - Teens 13 or older</td>\n",
              "      <td>8.26</td>\n",
              "      <td>61403</td>\n",
              "      <td>270.0</td>\n",
              "      <td>536</td>\n",
              "      <td>150617</td>\n",
              "      <td>553</td>\n",
              "      <td>Mahoutsukai no Yome: Hoshi Matsu Hito is a pre...</td>\n",
              "      <td>NaN</td>\n",
              "      <td>NaN</td>\n",
              "      <td>{'Adaptation': [{'mal_id': 61189, 'type': 'man...</td>\n",
              "      <td>Production I.G, flying DOG</td>\n",
              "      <td>Crunchyroll</td>\n",
              "      <td>Wit Studio</td>\n",
              "      <td>Shounen</td>\n",
              "      <td>[]</td>\n",
              "      <td>['\"CLOCKWORK QUICK AND LIGHTNING SLOW\" by Juli...</td>\n",
              "      <td>23.0</td>\n",
              "      <td>2016.0</td>\n",
              "    </tr>\n",
              "  </tbody>\n",
              "</table>\n",
              "<p>1394091 rows × 43 columns</p>\n",
              "</div>"
            ],
            "text/plain": [
              "              username  anime_id  ...  duration_min aired_from_year\n",
              "0            Zukin-Man     10020  ...          28.0          2011.0\n",
              "0            Zukin-Man     10020  ...          28.0          2011.0\n",
              "1             AluPachi     19111  ...          23.0          2014.0\n",
              "1             AluPachi     19111  ...          23.0          2014.0\n",
              "1             AluPachi     19111  ...          23.0          2014.0\n",
              "...                ...       ...  ...           ...             ...\n",
              "312838  Serzhunya_Baka      5630  ...          23.0          2009.0\n",
              "312839      TigreDemon     32902  ...          23.0          2016.0\n",
              "312839      TigreDemon     32902  ...          23.0          2016.0\n",
              "312839      TigreDemon     32902  ...          23.0          2016.0\n",
              "312839      TigreDemon     32902  ...          23.0          2016.0\n",
              "\n",
              "[1394091 rows x 43 columns]"
            ]
          },
          "metadata": {},
          "execution_count": 19
        }
      ]
    },
    {
      "cell_type": "markdown",
      "metadata": {
        "id": "t-eJIX-Cz_75"
      },
      "source": [
        "#### **1.3.2** Drop Some Columns\n",
        "\n",
        "Create a new dataframe, `new_anime_df` that contains only the following columns: anime_id, username, title, score, scored_by, rank, popularity, members, source, favorites, studio, genre. Then drop all the rows that contain NaN in new_anime_df."
      ]
    },
    {
      "cell_type": "code",
      "metadata": {
        "id": "k3mw2GqMn0I1"
      },
      "source": [
        "new_anime_df=anime_df[['anime_id','username','title','score','scored_by','rank','popularity','members', 'source', 'favorites', 'studio', 'genre']]\n",
        "new_anime_df=new_anime_df.dropna()"
      ],
      "execution_count": null,
      "outputs": []
    },
    {
      "cell_type": "markdown",
      "metadata": {
        "id": "5l7Gq7DA0uhD"
      },
      "source": [
        "####**1.3.3** Encode Categorical Variables using LabelEncoder\n",
        "\n",
        "Identify the remaining categorical features and convert them into one hot vectors. There are **4 categorical variables that need to be encoded**, `genre`, `studio`, `source`, and `title`.\n",
        "\n",
        "To do this, we use the [LabelEncoder](https://scikit-learn.org/stable/modules/generated/sklearn.preprocessing.LabelEncoder.html) in the sklearn package. Make sure you keep track of the mappings for reference.\n",
        "\n",
        "Assign all labels to `new_anime_df` as `genre_labels`, `studio_labels`, `source_labels`, and `title_labels`.\n",
        "\n",
        "Plot the correlation matrix again after assigning the labels and observe the  matrix to determine if there is signifcant linear relationships between some feature variables and others."
      ]
    },
    {
      "cell_type": "code",
      "metadata": {
        "id": "Y-zUVAiDoDJb"
      },
      "source": [
        "from sklearn.preprocessing import LabelEncoder\n",
        "labelen = LabelEncoder()\n",
        "\n",
        "labelen.fit(new_anime_df['genre'])\n",
        "genre=labelen.fit_transform(new_anime_df['genre'])\n",
        "genre_labels=labelen.classes_\n",
        "x=list(labelen.transform(genre_labels))\n",
        "\n",
        "# genre mappings\n",
        "genre_map=[]\n",
        "for i in range(len(x)):\n",
        "  genre_map.append([genre_labels[i],x[i]])\n",
        "\n",
        "labelen.fit(new_anime_df['studio'])\n",
        "studio=labelen.fit_transform(new_anime_df['studio'])\n",
        "studio_labels=labelen.classes_\n",
        "x=list(labelen.transform(studio_labels))\n",
        "# studio mappings\n",
        "studio_map=[]\n",
        "for i in range(len(x)):\n",
        "  studio_map.append([studio_labels[i],x[i]])\n",
        "\n",
        "source=labelen.fit(new_anime_df['source'])\n",
        "source=labelen.fit_transform(new_anime_df['source'])\n",
        "source_labels=labelen.classes_\n",
        "x=list(labelen.transform(source_labels))\n",
        "# source mappings\n",
        "source_map=[]\n",
        "for i in range(len(x)):\n",
        "  source_map.append([source_labels[i],x[i]])\n",
        "\n",
        "title=labelen.fit(new_anime_df['title'])\n",
        "title=labelen.fit_transform(new_anime_df['title'])\n",
        "title_labels=labelen.classes_\n",
        "x=list(labelen.transform(title_labels))\n",
        "# title mappings\n",
        "title_map=[]\n",
        "for i in range(len(x)):\n",
        "  title_map.append([title_labels[i],x[i]])"
      ],
      "execution_count": null,
      "outputs": []
    },
    {
      "cell_type": "code",
      "metadata": {
        "id": "yffOZmBFo72u"
      },
      "source": [
        "new_anime_df['genre_labels'] = genre\n",
        "new_anime_df['studio_labels'] = studio\n",
        "new_anime_df['source_labels'] = source\n",
        "new_anime_df['title_labels'] = title"
      ],
      "execution_count": null,
      "outputs": []
    },
    {
      "cell_type": "code",
      "metadata": {
        "id": "tWl5FlLNpWY6",
        "colab": {
          "base_uri": "https://localhost:8080/",
          "height": 599
        },
        "outputId": "d752cca6-fa5f-4c8a-bb93-0eca61a46cec"
      },
      "source": [
        "updated_anime_corr = new_anime_df.corr()\n",
        "# correlation matrix\n",
        "updated_anime_corr=sns.heatmap(updated_anime_corr)"
      ],
      "execution_count": null,
      "outputs": [
        {
          "output_type": "display_data",
          "data": {
            "image/png": "[encoded data removed]",
            "text/plain": [
              "<Figure size 1440x720 with 2 Axes>"
            ]
          },
          "metadata": {}
        }
      ]
    },
    {
      "cell_type": "markdown",
      "metadata": {
        "id": "Ef_RztqUpZQj"
      },
      "source": [
        "#### **1.3.4** Score Mean Threshold\n",
        "\n",
        "In the parts below, we will use machine learning to predict how good an anime is (high score or low score). As seen above, because the feature variables yielded little correlation to the outcome variable (ie. score), we are only going to investigate the anime whose rating pass a threshold. We denote these anime with a binary measure, denoted `above_average`. Add a new column `above_average` to `new_anime_df` where the value is 1  if an anime's score is above the threshhold. If not, assign it 0.\n",
        "\n",
        "Please use the original `anime_df` to calculate the threshold - the mean score (store it as mean_score)."
      ]
    },
    {
      "cell_type": "code",
      "metadata": {
        "id": "6mGjFu2ipog1",
        "colab": {
          "base_uri": "https://localhost:8080/"
        },
        "outputId": "dd7bdc86-f28c-4091-9f1f-bf6028149093"
      },
      "source": [
        "mean_score =anime_df['score'].mean()\n",
        "print(mean_score)"
      ],
      "execution_count": null,
      "outputs": [
        {
          "output_type": "stream",
          "name": "stdout",
          "text": [
            "7.6243390424349196\n"
          ]
        }
      ]
    },
    {
      "cell_type": "code",
      "metadata": {
        "id": "6nB7lHx9qAl2"
      },
      "source": [
        "# 1 for above average score, 0 for below\n",
        "pd.options.mode.chained_assignment = None\n",
        "new_anime_df['above_average']= np.where(new_anime_df['score']>mean_score, 1, 0)"
      ],
      "execution_count": null,
      "outputs": []
    },
    {
      "cell_type": "code",
      "metadata": {
        "id": "HyfqgczMzyWO",
        "colab": {
          "base_uri": "https://localhost:8080/",
          "height": 974
        },
        "outputId": "2708fb27-8556-4e2e-e681-e4c2e70ed536"
      },
      "source": [
        "new_anime_df"
      ],
      "execution_count": null,
      "outputs": [
        {
          "output_type": "execute_result",
          "data": {
            "text/html": [
              "<div>\n",
              "<style scoped>\n",
              "    .dataframe tbody tr th:only-of-type {\n",
              "        vertical-align: middle;\n",
              "    }\n",
              "\n",
              "    .dataframe tbody tr th {\n",
              "        vertical-align: top;\n",
              "    }\n",
              "\n",
              "    .dataframe thead th {\n",
              "        text-align: right;\n",
              "    }\n",
              "</style>\n",
              "<table border=\"1\" class=\"dataframe\">\n",
              "  <thead>\n",
              "    <tr style=\"text-align: right;\">\n",
              "      <th></th>\n",
              "      <th>anime_id</th>\n",
              "      <th>username</th>\n",
              "      <th>title</th>\n",
              "      <th>score</th>\n",
              "      <th>scored_by</th>\n",
              "      <th>rank</th>\n",
              "      <th>popularity</th>\n",
              "      <th>members</th>\n",
              "      <th>source</th>\n",
              "      <th>favorites</th>\n",
              "      <th>studio</th>\n",
              "      <th>genre</th>\n",
              "      <th>genre_labels</th>\n",
              "      <th>studio_labels</th>\n",
              "      <th>source_labels</th>\n",
              "      <th>title_labels</th>\n",
              "      <th>above_average</th>\n",
              "    </tr>\n",
              "  </thead>\n",
              "  <tbody>\n",
              "    <tr>\n",
              "      <th>0</th>\n",
              "      <td>10020</td>\n",
              "      <td>Zukin-Man</td>\n",
              "      <td>Ore no Imouto ga Konnani Kawaii Wake ga Nai Sp...</td>\n",
              "      <td>7.57</td>\n",
              "      <td>83849</td>\n",
              "      <td>1435.0</td>\n",
              "      <td>658</td>\n",
              "      <td>127176</td>\n",
              "      <td>Light novel</td>\n",
              "      <td>176</td>\n",
              "      <td>AIC Build</td>\n",
              "      <td>Slice of Life</td>\n",
              "      <td>69</td>\n",
              "      <td>14</td>\n",
              "      <td>5</td>\n",
              "      <td>3724</td>\n",
              "      <td>0</td>\n",
              "    </tr>\n",
              "    <tr>\n",
              "      <th>0</th>\n",
              "      <td>10020</td>\n",
              "      <td>Zukin-Man</td>\n",
              "      <td>Ore no Imouto ga Konnani Kawaii Wake ga Nai Sp...</td>\n",
              "      <td>7.57</td>\n",
              "      <td>83849</td>\n",
              "      <td>1435.0</td>\n",
              "      <td>658</td>\n",
              "      <td>127176</td>\n",
              "      <td>Light novel</td>\n",
              "      <td>176</td>\n",
              "      <td>AIC Build</td>\n",
              "      <td>Comedy</td>\n",
              "      <td>2</td>\n",
              "      <td>14</td>\n",
              "      <td>5</td>\n",
              "      <td>3724</td>\n",
              "      <td>0</td>\n",
              "    </tr>\n",
              "    <tr>\n",
              "      <th>1</th>\n",
              "      <td>19111</td>\n",
              "      <td>AluPachi</td>\n",
              "      <td>Love Live! School Idol Project 2nd Season</td>\n",
              "      <td>7.99</td>\n",
              "      <td>79740</td>\n",
              "      <td>570.0</td>\n",
              "      <td>599</td>\n",
              "      <td>138715</td>\n",
              "      <td>Other</td>\n",
              "      <td>2475</td>\n",
              "      <td>Sunrise</td>\n",
              "      <td>Music</td>\n",
              "      <td>57</td>\n",
              "      <td>480</td>\n",
              "      <td>10</td>\n",
              "      <td>2864</td>\n",
              "      <td>1</td>\n",
              "    </tr>\n",
              "    <tr>\n",
              "      <th>1</th>\n",
              "      <td>19111</td>\n",
              "      <td>AluPachi</td>\n",
              "      <td>Love Live! School Idol Project 2nd Season</td>\n",
              "      <td>7.99</td>\n",
              "      <td>79740</td>\n",
              "      <td>570.0</td>\n",
              "      <td>599</td>\n",
              "      <td>138715</td>\n",
              "      <td>Other</td>\n",
              "      <td>2475</td>\n",
              "      <td>Sunrise</td>\n",
              "      <td>School</td>\n",
              "      <td>25</td>\n",
              "      <td>480</td>\n",
              "      <td>10</td>\n",
              "      <td>2864</td>\n",
              "      <td>1</td>\n",
              "    </tr>\n",
              "    <tr>\n",
              "      <th>1</th>\n",
              "      <td>19111</td>\n",
              "      <td>AluPachi</td>\n",
              "      <td>Love Live! School Idol Project 2nd Season</td>\n",
              "      <td>7.99</td>\n",
              "      <td>79740</td>\n",
              "      <td>570.0</td>\n",
              "      <td>599</td>\n",
              "      <td>138715</td>\n",
              "      <td>Other</td>\n",
              "      <td>2475</td>\n",
              "      <td>Sunrise</td>\n",
              "      <td>Slice of Life</td>\n",
              "      <td>32</td>\n",
              "      <td>480</td>\n",
              "      <td>10</td>\n",
              "      <td>2864</td>\n",
              "      <td>1</td>\n",
              "    </tr>\n",
              "    <tr>\n",
              "      <th>...</th>\n",
              "      <td>...</td>\n",
              "      <td>...</td>\n",
              "      <td>...</td>\n",
              "      <td>...</td>\n",
              "      <td>...</td>\n",
              "      <td>...</td>\n",
              "      <td>...</td>\n",
              "      <td>...</td>\n",
              "      <td>...</td>\n",
              "      <td>...</td>\n",
              "      <td>...</td>\n",
              "      <td>...</td>\n",
              "      <td>...</td>\n",
              "      <td>...</td>\n",
              "      <td>...</td>\n",
              "      <td>...</td>\n",
              "      <td>...</td>\n",
              "    </tr>\n",
              "    <tr>\n",
              "      <th>312838</th>\n",
              "      <td>5630</td>\n",
              "      <td>Serzhunya_Baka</td>\n",
              "      <td>Higashi no Eden</td>\n",
              "      <td>7.96</td>\n",
              "      <td>173942</td>\n",
              "      <td>599.0</td>\n",
              "      <td>156</td>\n",
              "      <td>346202</td>\n",
              "      <td>Original</td>\n",
              "      <td>3733</td>\n",
              "      <td>Production I.G</td>\n",
              "      <td>Thriller</td>\n",
              "      <td>37</td>\n",
              "      <td>346</td>\n",
              "      <td>9</td>\n",
              "      <td>1959</td>\n",
              "      <td>1</td>\n",
              "    </tr>\n",
              "    <tr>\n",
              "      <th>312839</th>\n",
              "      <td>32902</td>\n",
              "      <td>TigreDemon</td>\n",
              "      <td>Mahoutsukai no Yome: Hoshi Matsu Hito</td>\n",
              "      <td>8.26</td>\n",
              "      <td>61403</td>\n",
              "      <td>270.0</td>\n",
              "      <td>536</td>\n",
              "      <td>150617</td>\n",
              "      <td>Manga</td>\n",
              "      <td>553</td>\n",
              "      <td>Wit Studio</td>\n",
              "      <td>Slice of Life</td>\n",
              "      <td>69</td>\n",
              "      <td>562</td>\n",
              "      <td>6</td>\n",
              "      <td>3024</td>\n",
              "      <td>1</td>\n",
              "    </tr>\n",
              "    <tr>\n",
              "      <th>312839</th>\n",
              "      <td>32902</td>\n",
              "      <td>TigreDemon</td>\n",
              "      <td>Mahoutsukai no Yome: Hoshi Matsu Hito</td>\n",
              "      <td>8.26</td>\n",
              "      <td>61403</td>\n",
              "      <td>270.0</td>\n",
              "      <td>536</td>\n",
              "      <td>150617</td>\n",
              "      <td>Manga</td>\n",
              "      <td>553</td>\n",
              "      <td>Wit Studio</td>\n",
              "      <td>Magic</td>\n",
              "      <td>14</td>\n",
              "      <td>562</td>\n",
              "      <td>6</td>\n",
              "      <td>3024</td>\n",
              "      <td>1</td>\n",
              "    </tr>\n",
              "    <tr>\n",
              "      <th>312839</th>\n",
              "      <td>32902</td>\n",
              "      <td>TigreDemon</td>\n",
              "      <td>Mahoutsukai no Yome: Hoshi Matsu Hito</td>\n",
              "      <td>8.26</td>\n",
              "      <td>61403</td>\n",
              "      <td>270.0</td>\n",
              "      <td>536</td>\n",
              "      <td>150617</td>\n",
              "      <td>Manga</td>\n",
              "      <td>553</td>\n",
              "      <td>Wit Studio</td>\n",
              "      <td>Fantasy</td>\n",
              "      <td>7</td>\n",
              "      <td>562</td>\n",
              "      <td>6</td>\n",
              "      <td>3024</td>\n",
              "      <td>1</td>\n",
              "    </tr>\n",
              "    <tr>\n",
              "      <th>312839</th>\n",
              "      <td>32902</td>\n",
              "      <td>TigreDemon</td>\n",
              "      <td>Mahoutsukai no Yome: Hoshi Matsu Hito</td>\n",
              "      <td>8.26</td>\n",
              "      <td>61403</td>\n",
              "      <td>270.0</td>\n",
              "      <td>536</td>\n",
              "      <td>150617</td>\n",
              "      <td>Manga</td>\n",
              "      <td>553</td>\n",
              "      <td>Wit Studio</td>\n",
              "      <td>Shounen</td>\n",
              "      <td>30</td>\n",
              "      <td>562</td>\n",
              "      <td>6</td>\n",
              "      <td>3024</td>\n",
              "      <td>1</td>\n",
              "    </tr>\n",
              "  </tbody>\n",
              "</table>\n",
              "<p>1386393 rows × 17 columns</p>\n",
              "</div>"
            ],
            "text/plain": [
              "        anime_id        username  ... title_labels  above_average\n",
              "0          10020       Zukin-Man  ...         3724              0\n",
              "0          10020       Zukin-Man  ...         3724              0\n",
              "1          19111        AluPachi  ...         2864              1\n",
              "1          19111        AluPachi  ...         2864              1\n",
              "1          19111        AluPachi  ...         2864              1\n",
              "...          ...             ...  ...          ...            ...\n",
              "312838      5630  Serzhunya_Baka  ...         1959              1\n",
              "312839     32902      TigreDemon  ...         3024              1\n",
              "312839     32902      TigreDemon  ...         3024              1\n",
              "312839     32902      TigreDemon  ...         3024              1\n",
              "312839     32902      TigreDemon  ...         3024              1\n",
              "\n",
              "[1386393 rows x 17 columns]"
            ]
          },
          "metadata": {},
          "execution_count": 29
        }
      ]
    },
    {
      "cell_type": "markdown",
      "metadata": {
        "id": "HQlJXuGPTeEb"
      },
      "source": [
        "Let's write out the modified data we created to a file so that we can reuse it in Section 2."
      ]
    },
    {
      "cell_type": "code",
      "metadata": {
        "id": "4uYmoyUcTfHM"
      },
      "source": [
        "combined_data_sec_2 = new_anime_df.copy()\n",
        "combined_data_sec_2.rename(columns = {'views_log':'label'}, inplace = True) \n",
        "combined_data_sec_2.to_csv('/content/combined_anime.csv')"
      ],
      "execution_count": null,
      "outputs": []
    },
    {
      "cell_type": "markdown",
      "metadata": {
        "id": "BJWEUDzb0-7_"
      },
      "source": [
        "#### **1.3.5** Split into Features and Label\n",
        "\n",
        "Now that we have explored and cleaned our dataset, let's prepare it for a machine learning task. In this homework, you will work with various models and attempt to predict the score of anime shows. Since we converted the scores to binary labels above, you will actually predict whether the anime show has high score (1) or low score(0) instead of the actual scores.\n",
        "\n",
        "The features will be the encoded variables together with the following attributes: `scored_by`, `popularity`, `members` and `favorites`. The label will be the binary indicator created in 1.3.6, indicating if an anime is above average. Store these two as features and labels, respectively."
      ]
    },
    {
      "cell_type": "code",
      "metadata": {
        "id": "S91GifH8qKxn"
      },
      "source": [
        "features = new_anime_df[['scored_by','popularity', 'members', 'favorites','genre_labels', 'studio_labels', 'source_labels', 'title_labels']]\n",
        "labels = new_anime_df['above_average']"
      ],
      "execution_count": null,
      "outputs": []
    },
    {
      "cell_type": "markdown",
      "metadata": {
        "id": "gtHq1Id8w20N"
      },
      "source": [
        "### **1.4** Modelling\n",
        "\n",
        "Now we will train some machine learning models using sklearn for the task defined above."
      ]
    },
    {
      "cell_type": "markdown",
      "metadata": {
        "id": "cL1tPEVbxXAj"
      },
      "source": [
        "#### **1.4.1** Split Data into Train and Test\n",
        "\n",
        "Use sklearn's `train_test_split` library and split data into train and test sets, the split should be 80-20 meaning 80% for training and rest for testing. **Please set the random_state parameter = 42** and store the resulting splits as x_train, x_test, y_train, and y_test."
      ]
    },
    {
      "cell_type": "code",
      "metadata": {
        "id": "PPa76WWwv-fr"
      },
      "source": [
        "from sklearn.model_selection import train_test_split\n",
        "x_train, x_test, y_train, y_test = train_test_split(features, labels, test_size=0.2, random_state=42)"
      ],
      "execution_count": null,
      "outputs": []
    },
    {
      "cell_type": "markdown",
      "metadata": {
        "id": "S-ePAgiwrSVH"
      },
      "source": [
        "#### **1.4.2** Train Machine Learning Models"
      ]
    },
    {
      "cell_type": "markdown",
      "metadata": {
        "id": "RlGQHV_DrbFY"
      },
      "source": [
        "##### **1.4.2.1** Naive Bayes Classifier\n",
        "\n",
        "Use the `GaussianNB` package in sklearn to perform Naive Bayes classification. Initialize the model with default parameters, train using the training data, and then make predictions on the test set. Save your predictions in an array named y_pred, and report your accuracy score (saved as a variable called naive_bayes_acc)."
      ]
    },
    {
      "cell_type": "code",
      "metadata": {
        "id": "OPAYin3Tx90y"
      },
      "source": [
        "from sklearn.naive_bayes import GaussianNB\n",
        "from sklearn.metrics import accuracy_score\n",
        "\n",
        "naivebay = GaussianNB()\n",
        "naivebay.fit(x_train, y_train)\n",
        "y_pred =naivebay.predict(x_test).reshape(-1,1)"
      ],
      "execution_count": null,
      "outputs": []
    },
    {
      "cell_type": "code",
      "metadata": {
        "id": "NwVH2fEB0MYL",
        "colab": {
          "base_uri": "https://localhost:8080/"
        },
        "outputId": "e1b4d426-963b-4b69-e88d-60d0c90e5030"
      },
      "source": [
        "naive_bayes_acc=accuracy_score(y_pred, y_test)*100\n",
        "print(naive_bayes_acc)"
      ],
      "execution_count": null,
      "outputs": [
        {
          "output_type": "stream",
          "name": "stdout",
          "text": [
            "69.81055182686032\n"
          ]
        }
      ]
    },
    {
      "cell_type": "markdown",
      "metadata": {
        "id": "ef8VNVejr6sm"
      },
      "source": [
        "##### **1.4.2.2** Dimensionality Reduction with PCA\n",
        "\n",
        "Use Principal component analysis to reduce number of dimensions of the dataset, as a first step fit a pca model on your train set and then plot the explained_variance_ratio against the number of components to decide the number of components you should keep. Remember that PCA is not scale invariant!"
      ]
    },
    {
      "cell_type": "code",
      "metadata": {
        "id": "NMKocLZusq-N",
        "colab": {
          "base_uri": "https://localhost:8080/",
          "height": 611
        },
        "outputId": "f8df9071-cd9b-4274-8fa4-317b547a3b0b"
      },
      "source": [
        "from sklearn.decomposition import PCA\n",
        "\n",
        "# scaling\n",
        "from sklearn.preprocessing import StandardScaler\n",
        "x = StandardScaler().fit_transform(x_train)\n",
        "\n",
        "# find num components to use\n",
        "pcamod=PCA(n_components=5)\n",
        "principalComponents = pcamod.fit_transform(x)\n",
        "\n",
        "# plot for explained variance\n",
        "plt.plot(pcamod.explained_variance_ratio_)"
      ],
      "execution_count": null,
      "outputs": [
        {
          "output_type": "execute_result",
          "data": {
            "text/plain": [
              "[<matplotlib.lines.Line2D at 0x7f2413e3c210>]"
            ]
          },
          "metadata": {},
          "execution_count": 107
        },
        {
          "output_type": "display_data",
          "data": {
            "image/png": "[encoded data removed]",
            "text/plain": [
              "<Figure size 1440x720 with 1 Axes>"
            ]
          },
          "metadata": {}
        }
      ]
    },
    {
      "cell_type": "markdown",
      "metadata": {
        "id": "5kboIF1ZZ2LR"
      },
      "source": [
        "Once you've made the plot, save the array of explained variances into the variable explained_variance and the components into the variable pca_components."
      ]
    },
    {
      "cell_type": "code",
      "metadata": {
        "id": "s9X1lla7tM5q",
        "colab": {
          "base_uri": "https://localhost:8080/"
        },
        "outputId": "b44bbbc2-2cd2-4df4-f29d-fd739a672c3b"
      },
      "source": [
        "explained_variance = pcamod.explained_variance_ratio_\n",
        "pca_components= pcamod.n_components_\n",
        "print(explained_variance)"
      ],
      "execution_count": null,
      "outputs": [
        {
          "output_type": "stream",
          "name": "stdout",
          "text": [
            "[0.38933658 0.13522987 0.12773174 0.12309461 0.11444692]\n"
          ]
        }
      ]
    },
    {
      "cell_type": "markdown",
      "metadata": {
        "id": "mk_DcFF7tOtt"
      },
      "source": [
        "Use the plot to decide the number of components to keep, choose a number that explains at least 99.95% of variance in the dataset. Then fit and transform your PCA on training set using the number of components you decided.\n",
        "\n",
        "Remember that your PCA should be trained on the training set (x_train) but only transformed on the test set (x_test). Overwrite those 2 variables with their transformed versions. "
      ]
    },
    {
      "cell_type": "code",
      "metadata": {
        "id": "pvJsodbxtRq0"
      },
      "source": [
        "pca = PCA(n_components=6)\n",
        "scale=StandardScaler()\n",
        "x_sctr= scale.fit_transform(x_train)\n",
        "x_scte= scale.transform(x_test)\n",
        "\n",
        "x_train =  pca.fit_transform(x_sctr)\n",
        "x_test =  pca.transform(x_scte)"
      ],
      "execution_count": null,
      "outputs": []
    },
    {
      "cell_type": "markdown",
      "metadata": {
        "id": "Mk93l4XTKe2d"
      },
      "source": [
        "Just to visualize what's going on (separate from what you just did), use PCA to reduce the number dimensions to 2 and plot the first 5000 rows."
      ]
    },
    {
      "cell_type": "code",
      "metadata": {
        "id": "rwEU-fkltjbY"
      },
      "source": [
        "x_train_pca=x_sctr"
      ],
      "execution_count": null,
      "outputs": []
    },
    {
      "cell_type": "code",
      "metadata": {
        "id": "WQKppJdMKdyy",
        "colab": {
          "base_uri": "https://localhost:8080/",
          "height": 611
        },
        "outputId": "eca85ef2-d6e7-4688-bea3-4b0b1a8850a1"
      },
      "source": [
        "# visualize 2 components of PCA\n",
        "pca_plot = PCA(n_components=2)\n",
        "comp = pca_plot.fit_transform(x_train_pca)\n",
        "data = np.transpose(np.array(comp))\n",
        "plt.scatter(data[0][0:5000], data[1][0:5000])"
      ],
      "execution_count": null,
      "outputs": [
        {
          "output_type": "execute_result",
          "data": {
            "text/plain": [
              "<matplotlib.collections.PathCollection at 0x7f2413c4c690>"
            ]
          },
          "metadata": {},
          "execution_count": 113
        },
        {
          "output_type": "display_data",
          "data": {
            "image/png": "[encoded data removed]",
            "text/plain": [
              "<Figure size 1440x720 with 1 Axes>"
            ]
          },
          "metadata": {}
        }
      ]
    },
    {
      "cell_type": "markdown",
      "metadata": {
        "id": "cOs55__gtbYK"
      },
      "source": [
        "##### **1.4.2.3** Random Forest\n",
        "\n",
        "Use grid search and train a random forest model on the transformed train dataset. Tune hyperparameters that are available like depth and number of estimators using grid search and select the best hyperparameters out of those.\n",
        "\n",
        "**Random Forest is a computationally expensive task. Please make sure you set aside sufficient time and are able to run this effectively.**"
      ]
    },
    {
      "cell_type": "code",
      "metadata": {
        "id": "aLr2AH5WiH3J"
      },
      "source": [
        "# print out best parameters\n",
        "def print_best_params(results):\n",
        "    print('best_params: {}\\n'.format(results.best_params_))"
      ],
      "execution_count": null,
      "outputs": []
    },
    {
      "cell_type": "code",
      "metadata": {
        "id": "gSj-nfOeSUzg"
      },
      "source": [
        "param_grid = { \n",
        "    'n_estimators': [10,20,30],\n",
        "    'max_depth' : [5,10,15],\n",
        "}"
      ],
      "execution_count": null,
      "outputs": []
    },
    {
      "cell_type": "code",
      "metadata": {
        "colab": {
          "base_uri": "https://localhost:8080/"
        },
        "id": "CO7YmrQFtkYi",
        "outputId": "38155346-30ab-4b40-c568-0de4d4b6a611"
      },
      "source": [
        "from sklearn.ensemble import RandomForestClassifier\n",
        "from sklearn.model_selection import GridSearchCV\n",
        "\n",
        "rf=RandomForestClassifier()\n",
        "rf_cv = GridSearchCV(estimator=rf, param_grid=param_grid, cv= 5)\n",
        "rf_cv.fit(x_train, y_train)"
      ],
      "execution_count": null,
      "outputs": [
        {
          "output_type": "execute_result",
          "data": {
            "text/plain": [
              "GridSearchCV(cv=5, error_score=nan,\n",
              "             estimator=RandomForestClassifier(bootstrap=True, ccp_alpha=0.0,\n",
              "                                              class_weight=None,\n",
              "                                              criterion='gini', max_depth=None,\n",
              "                                              max_features='auto',\n",
              "                                              max_leaf_nodes=None,\n",
              "                                              max_samples=None,\n",
              "                                              min_impurity_decrease=0.0,\n",
              "                                              min_impurity_split=None,\n",
              "                                              min_samples_leaf=1,\n",
              "                                              min_samples_split=2,\n",
              "                                              min_weight_fraction_leaf=0.0,\n",
              "                                              n_estimators=100, n_jobs=None,\n",
              "                                              oob_score=False,\n",
              "                                              random_state=None, verbose=0,\n",
              "                                              warm_start=False),\n",
              "             iid='deprecated', n_jobs=None,\n",
              "             param_grid={'max_depth': [5, 10, 15],\n",
              "                         'n_estimators': [10, 20, 30]},\n",
              "             pre_dispatch='2*n_jobs', refit=True, return_train_score=False,\n",
              "             scoring=None, verbose=0)"
            ]
          },
          "metadata": {},
          "execution_count": 48
        }
      ]
    },
    {
      "cell_type": "code",
      "metadata": {
        "colab": {
          "base_uri": "https://localhost:8080/"
        },
        "id": "UgZSmoIiiLkh",
        "outputId": "2269863c-71d9-47ed-eabb-f36562a76ae1"
      },
      "source": [
        "print_best_params(rf_cv)"
      ],
      "execution_count": null,
      "outputs": [
        {
          "output_type": "stream",
          "name": "stdout",
          "text": [
            "best_params: {'max_depth': 15, 'n_estimators': 20}\n",
            "\n"
          ]
        }
      ]
    },
    {
      "cell_type": "markdown",
      "metadata": {
        "id": "CaCksJmst15d"
      },
      "source": [
        "Fit the random forest on the training data using the parameters you computed above. Then make predictions on the test set, report the root mean squared error for the test set."
      ]
    },
    {
      "cell_type": "code",
      "metadata": {
        "id": "jLgxhJgvTord"
      },
      "source": [
        "rf=RandomForestClassifier(max_features='auto', max_depth= 15, n_estimators= 20)\n",
        "rf.fit(x_train, y_train)\n",
        "y_pred=rf.predict(x_test).reshape(-1,1)"
      ],
      "execution_count": null,
      "outputs": []
    },
    {
      "cell_type": "code",
      "metadata": {
        "colab": {
          "base_uri": "https://localhost:8080/"
        },
        "id": "NALTXcpDt4sZ",
        "outputId": "272ebf4e-bdff-4390-9d8d-0d152a1fc5c4"
      },
      "source": [
        "test_accuracy = accuracy_score(y_test, y_pred)*100\n",
        "print(test_accuracy)"
      ],
      "execution_count": null,
      "outputs": [
        {
          "output_type": "stream",
          "name": "stdout",
          "text": [
            "97.8368358224027\n"
          ]
        }
      ]
    },
    {
      "cell_type": "markdown",
      "metadata": {
        "id": "FA_egdOquG9l"
      },
      "source": [
        "## **2** Distributed Machine learning with Spark\n",
        "\n",
        "Apache Spark ML is the machine learning library consisting of common learning algorithms and utilities, including classification, regression, clustering, collaborative filtering, dimensionality reduction, and underlying optimization primitives.\n",
        "\n",
        "Why Spark ML?\n",
        "\n",
        "Moving to the Big Data Era requires heavy iterative computations on very big datasets. Standard implementations of machine learning algorithms require very powerful machines to be able to run. Depending on high-end machines is not advantageous due to their high price and improper costs of scaling up. The idea of using distributed computing engines is to distribute the calculations to multiple low-end machines (commodity hardware) instead of a single high-end one. *This definitely speeds up the learning phase and allows us to create better models.*\n",
        "\n",
        "Read more about it with the python documentation **[here](https://spark.apache.org/docs/latest/ml-guide.html)**.\n",
        "\n",
        "Run the code below to set up Spark (you should have already installed it in the Libraries and Setup Jargon section above)."
      ]
    },
    {
      "cell_type": "code",
      "metadata": {
        "colab": {
          "base_uri": "https://localhost:8080/"
        },
        "id": "DvmlpQ5elQt5",
        "outputId": "74a1cf11-9dd0-4ea5-e5a2-337d959c2792"
      },
      "source": [
        "!apt install libkrb5-dev\n",
        "!wget https://downloads.apache.org/spark/spark-3.1.2/spark-3.1.2-bin-hadoop3.2.tgz\n",
        "!tar xf spark-3.1.2-bin-hadoop3.2.tgz\n",
        "!pip install findspark\n",
        "!pip install sparkmagic\n",
        "!pip install pyspark\n",
        "! pip install pyspark --user\n",
        "! pip install seaborn --user\n",
        "! pip install plotly --user\n",
        "! pip install imageio --user\n",
        "! pip install folium --user"
      ],
      "execution_count": null,
      "outputs": [
        {
          "output_type": "stream",
          "name": "stdout",
          "text": [
            "Reading package lists... Done\n",
            "Building dependency tree       \n",
            "Reading state information... Done\n",
            "libkrb5-dev is already the newest version (1.16-2ubuntu0.2).\n",
            "0 upgraded, 0 newly installed, 0 to remove and 61 not upgraded.\n",
            "--2021-11-12 09:50:05--  https://downloads.apache.org/spark/spark-3.1.2/spark-3.1.2-bin-hadoop3.2.tgz\n",
            "Resolving downloads.apache.org (downloads.apache.org)... 135.181.214.104, 88.99.95.219, 2a01:4f9:3a:2c57::2, ...\n",
            "Connecting to downloads.apache.org (downloads.apache.org)|135.181.214.104|:443... connected.\n",
            "HTTP request sent, awaiting response... 200 OK\n",
            "Length: 228834641 (218M) [application/x-gzip]\n",
            "Saving to: ‘spark-3.1.2-bin-hadoop3.2.tgz’\n",
            "\n",
            "spark-3.1.2-bin-had 100%[===================>] 218.23M  26.6MB/s    in 8.6s    \n",
            "\n",
            "2021-11-12 09:50:14 (25.4 MB/s) - ‘spark-3.1.2-bin-hadoop3.2.tgz’ saved [228834641/228834641]\n",
            "\n",
            "Collecting findspark\n",
            "  Downloading findspark-1.4.2-py2.py3-none-any.whl (4.2 kB)\n",
            "Installing collected packages: findspark\n",
            "Successfully installed findspark-1.4.2\n",
            "Collecting sparkmagic\n",
            "  Downloading sparkmagic-0.19.1.tar.gz (43 kB)\n",
            "\u001b[K     |████████████████████████████████| 43 kB 1.8 MB/s \n",
            "\u001b[?25hCollecting hdijupyterutils>=0.6\n",
            "  Downloading hdijupyterutils-0.19.1.tar.gz (5.0 kB)\n",
            "Collecting autovizwidget>=0.6\n",
            "  Downloading autovizwidget-0.19.1.tar.gz (8.7 kB)\n",
            "Requirement already satisfied: ipython>=4.0.2 in /usr/local/lib/python3.7/dist-packages (from sparkmagic) (5.5.0)\n",
            "Collecting nose\n",
            "  Downloading nose-1.3.7-py3-none-any.whl (154 kB)\n",
            "\u001b[K     |████████████████████████████████| 154 kB 46.8 MB/s \n",
            "\u001b[?25hCollecting mock\n",
            "  Downloading mock-4.0.3-py3-none-any.whl (28 kB)\n",
            "Requirement already satisfied: pandas>=0.17.1 in /usr/local/lib/python3.7/dist-packages (from sparkmagic) (1.1.5)\n",
            "Requirement already satisfied: numpy in /usr/local/lib/python3.7/dist-packages (from sparkmagic) (1.19.5)\n",
            "Requirement already satisfied: requests in /usr/local/lib/python3.7/dist-packages (from sparkmagic) (2.23.0)\n",
            "Requirement already satisfied: ipykernel<6.0.0 in /usr/local/lib/python3.7/dist-packages (from sparkmagic) (4.10.1)\n",
            "Requirement already satisfied: ipywidgets>5.0.0 in /usr/local/lib/python3.7/dist-packages (from sparkmagic) (7.6.5)\n",
            "Requirement already satisfied: notebook>=4.2 in /usr/local/lib/python3.7/dist-packages (from sparkmagic) (5.3.1)\n",
            "Requirement already satisfied: tornado>=4 in /usr/local/lib/python3.7/dist-packages (from sparkmagic) (5.1.1)\n",
            "Collecting requests_kerberos>=0.8.0\n",
            "  Downloading requests_kerberos-0.13.0-py2.py3-none-any.whl (11 kB)\n",
            "Requirement already satisfied: plotly>=3 in /usr/local/lib/python3.7/dist-packages (from autovizwidget>=0.6->sparkmagic) (4.4.1)\n",
            "Requirement already satisfied: jupyter>=1 in /usr/local/lib/python3.7/dist-packages (from hdijupyterutils>=0.6->sparkmagic) (1.0.0)\n",
            "Requirement already satisfied: traitlets>=4.1.0 in /usr/local/lib/python3.7/dist-packages (from ipykernel<6.0.0->sparkmagic) (5.1.1)\n",
            "Requirement already satisfied: jupyter-client in /usr/local/lib/python3.7/dist-packages (from ipykernel<6.0.0->sparkmagic) (5.3.5)\n",
            "Requirement already satisfied: pickleshare in /usr/local/lib/python3.7/dist-packages (from ipython>=4.0.2->sparkmagic) (0.7.5)\n",
            "Requirement already satisfied: prompt-toolkit<2.0.0,>=1.0.4 in /usr/local/lib/python3.7/dist-packages (from ipython>=4.0.2->sparkmagic) (1.0.18)\n",
            "Requirement already satisfied: pexpect in /usr/local/lib/python3.7/dist-packages (from ipython>=4.0.2->sparkmagic) (4.8.0)\n",
            "Requirement already satisfied: simplegeneric>0.8 in /usr/local/lib/python3.7/dist-packages (from ipython>=4.0.2->sparkmagic) (0.8.1)\n",
            "Requirement already satisfied: decorator in /usr/local/lib/python3.7/dist-packages (from ipython>=4.0.2->sparkmagic) (4.4.2)\n",
            "Requirement already satisfied: pygments in /usr/local/lib/python3.7/dist-packages (from ipython>=4.0.2->sparkmagic) (2.6.1)\n",
            "Requirement already satisfied: setuptools>=18.5 in /usr/local/lib/python3.7/dist-packages (from ipython>=4.0.2->sparkmagic) (57.4.0)\n",
            "Requirement already satisfied: widgetsnbextension~=3.5.0 in /usr/local/lib/python3.7/dist-packages (from ipywidgets>5.0.0->sparkmagic) (3.5.2)\n",
            "Requirement already satisfied: nbformat>=4.2.0 in /usr/local/lib/python3.7/dist-packages (from ipywidgets>5.0.0->sparkmagic) (5.1.3)\n",
            "Requirement already satisfied: ipython-genutils~=0.2.0 in /usr/local/lib/python3.7/dist-packages (from ipywidgets>5.0.0->sparkmagic) (0.2.0)\n",
            "Requirement already satisfied: jupyterlab-widgets>=1.0.0 in /usr/local/lib/python3.7/dist-packages (from ipywidgets>5.0.0->sparkmagic) (1.0.2)\n",
            "Requirement already satisfied: nbconvert in /usr/local/lib/python3.7/dist-packages (from jupyter>=1->hdijupyterutils>=0.6->sparkmagic) (5.6.1)\n",
            "Requirement already satisfied: jupyter-console in /usr/local/lib/python3.7/dist-packages (from jupyter>=1->hdijupyterutils>=0.6->sparkmagic) (5.2.0)\n",
            "Requirement already satisfied: qtconsole in /usr/local/lib/python3.7/dist-packages (from jupyter>=1->hdijupyterutils>=0.6->sparkmagic) (5.2.0)\n",
            "Requirement already satisfied: jsonschema!=2.5.0,>=2.4 in /usr/local/lib/python3.7/dist-packages (from nbformat>=4.2.0->ipywidgets>5.0.0->sparkmagic) (2.6.0)\n",
            "Requirement already satisfied: jupyter-core in /usr/local/lib/python3.7/dist-packages (from nbformat>=4.2.0->ipywidgets>5.0.0->sparkmagic) (4.9.1)\n",
            "Requirement already satisfied: terminado>=0.8.1 in /usr/local/lib/python3.7/dist-packages (from notebook>=4.2->sparkmagic) (0.12.1)\n",
            "Requirement already satisfied: jinja2 in /usr/local/lib/python3.7/dist-packages (from notebook>=4.2->sparkmagic) (2.11.3)\n",
            "Requirement already satisfied: Send2Trash in /usr/local/lib/python3.7/dist-packages (from notebook>=4.2->sparkmagic) (1.8.0)\n",
            "Requirement already satisfied: pyzmq>=13 in /usr/local/lib/python3.7/dist-packages (from jupyter-client->ipykernel<6.0.0->sparkmagic) (22.3.0)\n",
            "Requirement already satisfied: python-dateutil>=2.1 in /usr/local/lib/python3.7/dist-packages (from jupyter-client->ipykernel<6.0.0->sparkmagic) (2.8.2)\n",
            "Requirement already satisfied: pytz>=2017.2 in /usr/local/lib/python3.7/dist-packages (from pandas>=0.17.1->sparkmagic) (2018.9)\n",
            "Requirement already satisfied: six in /usr/local/lib/python3.7/dist-packages (from plotly>=3->autovizwidget>=0.6->sparkmagic) (1.15.0)\n",
            "Requirement already satisfied: retrying>=1.3.3 in /usr/local/lib/python3.7/dist-packages (from plotly>=3->autovizwidget>=0.6->sparkmagic) (1.3.3)\n",
            "Requirement already satisfied: wcwidth in /usr/local/lib/python3.7/dist-packages (from prompt-toolkit<2.0.0,>=1.0.4->ipython>=4.0.2->sparkmagic) (0.2.5)\n",
            "Collecting pyspnego[kerberos]\n",
            "  Downloading pyspnego-0.3.1-py2.py3-none-any.whl (110 kB)\n",
            "\u001b[K     |████████████████████████████████| 110 kB 80.2 MB/s \n",
            "\u001b[?25hCollecting cryptography>=1.3\n",
            "  Downloading cryptography-35.0.0-cp36-abi3-manylinux_2_24_x86_64.whl (3.5 MB)\n",
            "\u001b[K     |████████████████████████████████| 3.5 MB 28.7 MB/s \n",
            "\u001b[?25hRequirement already satisfied: cffi>=1.12 in /usr/local/lib/python3.7/dist-packages (from cryptography>=1.3->requests_kerberos>=0.8.0->sparkmagic) (1.15.0)\n",
            "Requirement already satisfied: pycparser in /usr/local/lib/python3.7/dist-packages (from cffi>=1.12->cryptography>=1.3->requests_kerberos>=0.8.0->sparkmagic) (2.21)\n",
            "Requirement already satisfied: idna<3,>=2.5 in /usr/local/lib/python3.7/dist-packages (from requests->sparkmagic) (2.10)\n",
            "Requirement already satisfied: chardet<4,>=3.0.2 in /usr/local/lib/python3.7/dist-packages (from requests->sparkmagic) (3.0.4)\n",
            "Requirement already satisfied: urllib3!=1.25.0,!=1.25.1,<1.26,>=1.21.1 in /usr/local/lib/python3.7/dist-packages (from requests->sparkmagic) (1.24.3)\n",
            "Requirement already satisfied: certifi>=2017.4.17 in /usr/local/lib/python3.7/dist-packages (from requests->sparkmagic) (2021.10.8)\n",
            "Requirement already satisfied: ptyprocess in /usr/local/lib/python3.7/dist-packages (from terminado>=0.8.1->notebook>=4.2->sparkmagic) (0.7.0)\n",
            "Requirement already satisfied: MarkupSafe>=0.23 in /usr/local/lib/python3.7/dist-packages (from jinja2->notebook>=4.2->sparkmagic) (2.0.1)\n",
            "Requirement already satisfied: entrypoints>=0.2.2 in /usr/local/lib/python3.7/dist-packages (from nbconvert->jupyter>=1->hdijupyterutils>=0.6->sparkmagic) (0.3)\n",
            "Requirement already satisfied: testpath in /usr/local/lib/python3.7/dist-packages (from nbconvert->jupyter>=1->hdijupyterutils>=0.6->sparkmagic) (0.5.0)\n",
            "Requirement already satisfied: defusedxml in /usr/local/lib/python3.7/dist-packages (from nbconvert->jupyter>=1->hdijupyterutils>=0.6->sparkmagic) (0.7.1)\n",
            "Requirement already satisfied: mistune<2,>=0.8.1 in /usr/local/lib/python3.7/dist-packages (from nbconvert->jupyter>=1->hdijupyterutils>=0.6->sparkmagic) (0.8.4)\n",
            "Requirement already satisfied: pandocfilters>=1.4.1 in /usr/local/lib/python3.7/dist-packages (from nbconvert->jupyter>=1->hdijupyterutils>=0.6->sparkmagic) (1.5.0)\n",
            "Requirement already satisfied: bleach in /usr/local/lib/python3.7/dist-packages (from nbconvert->jupyter>=1->hdijupyterutils>=0.6->sparkmagic) (4.1.0)\n",
            "Requirement already satisfied: webencodings in /usr/local/lib/python3.7/dist-packages (from bleach->nbconvert->jupyter>=1->hdijupyterutils>=0.6->sparkmagic) (0.5.1)\n",
            "Requirement already satisfied: packaging in /usr/local/lib/python3.7/dist-packages (from bleach->nbconvert->jupyter>=1->hdijupyterutils>=0.6->sparkmagic) (21.2)\n",
            "Requirement already satisfied: pyparsing<3,>=2.0.2 in /usr/local/lib/python3.7/dist-packages (from packaging->bleach->nbconvert->jupyter>=1->hdijupyterutils>=0.6->sparkmagic) (2.4.7)\n",
            "Collecting gssapi>=1.5.0\n",
            "  Downloading gssapi-1.7.2.tar.gz (1.2 MB)\n",
            "\u001b[K     |████████████████████████████████| 1.2 MB 44.9 MB/s \n",
            "\u001b[?25hCollecting krb5\n",
            "  Downloading krb5-0.2.0.tar.gz (1.1 MB)\n",
            "\u001b[K     |████████████████████████████████| 1.1 MB 33.2 MB/s \n",
            "\u001b[?25h  Installing build dependencies ... \u001b[?25l\u001b[?25hdone\n",
            "  Getting requirements to build wheel ... \u001b[?25l\u001b[?25hdone\n",
            "    Preparing wheel metadata ... \u001b[?25l\u001b[?25hdone\n",
            "Requirement already satisfied: qtpy in /usr/local/lib/python3.7/dist-packages (from qtconsole->jupyter>=1->hdijupyterutils>=0.6->sparkmagic) (1.11.2)\n",
            "Building wheels for collected packages: sparkmagic, autovizwidget, hdijupyterutils, gssapi, krb5\n",
            "  Building wheel for sparkmagic (setup.py) ... \u001b[?25l\u001b[?25hdone\n",
            "  Created wheel for sparkmagic: filename=sparkmagic-0.19.1-py3-none-any.whl size=64701 sha256=8b3e9881274930cc090453cc6d7a3798706affd518a4dfc29be9f651bec12f2c\n",
            "  Stored in directory: /root/.cache/pip/wheels/77/00/d5/153197547803fa423ee3d0a7a1ff19f138cbcc385a5d11e0dd\n",
            "  Building wheel for autovizwidget (setup.py) ... \u001b[?25l\u001b[?25hdone\n",
            "  Created wheel for autovizwidget: filename=autovizwidget-0.19.1-py3-none-any.whl size=14544 sha256=e5c6069efdfa0a617b5f85f1daf20d195fb6d4ed43e2d41c0ecaf4ccf04c4d04\n",
            "  Stored in directory: /root/.cache/pip/wheels/09/76/d9/ff313b7bd4ff55b1ff8c299f31889f525dc5129556853e1330\n",
            "  Building wheel for hdijupyterutils (setup.py) ... \u001b[?25l\u001b[?25hdone\n",
            "  Created wheel for hdijupyterutils: filename=hdijupyterutils-0.19.1-py3-none-any.whl size=7675 sha256=3e0533c1c119725b1e545e70ee0c11795ca904fc12c7403037e129f2616f494d\n",
            "  Stored in directory: /root/.cache/pip/wheels/18/64/eb/292698b4780fb4eed0d7521f8e8acac011eda244f368b88aa0\n",
            "  Building wheel for gssapi (setup.py) ... \u001b[?25l\u001b[?25hdone\n",
            "  Created wheel for gssapi: filename=gssapi-1.7.2-cp37-cp37m-linux_x86_64.whl size=2742918 sha256=141fb021b5942184e4bbda6267763e3d68c97b84fe1b311fdffbe08b24bff502\n",
            "  Stored in directory: /root/.cache/pip/wheels/7d/4a/6e/8842dfec4065ade6e79c0bd2c27217fec1d7f14d0b32452a8f\n",
            "  Building wheel for krb5 (PEP 517) ... \u001b[?25l\u001b[?25hdone\n",
            "  Created wheel for krb5: filename=krb5-0.2.0-cp37-cp37m-linux_x86_64.whl size=1708020 sha256=14176874ac564fbac1a702a22af6ca9d938096aeca09a2c92fa156ee84844ad5\n",
            "  Stored in directory: /root/.cache/pip/wheels/09/f9/57/67fd688ebb69ae46210f945dbe258cc694c7697e698267d461\n",
            "Successfully built sparkmagic autovizwidget hdijupyterutils gssapi krb5\n",
            "Installing collected packages: cryptography, pyspnego, nose, mock, krb5, gssapi, hdijupyterutils, requests-kerberos, autovizwidget, sparkmagic\n",
            "Successfully installed autovizwidget-0.19.1 cryptography-35.0.0 gssapi-1.7.2 hdijupyterutils-0.19.1 krb5-0.2.0 mock-4.0.3 nose-1.3.7 pyspnego-0.3.1 requests-kerberos-0.13.0 sparkmagic-0.19.1\n",
            "Collecting pyspark\n",
            "  Downloading pyspark-3.2.0.tar.gz (281.3 MB)\n",
            "\u001b[K     |████████████████████████████████| 281.3 MB 37 kB/s \n",
            "\u001b[?25hCollecting py4j==0.10.9.2\n",
            "  Downloading py4j-0.10.9.2-py2.py3-none-any.whl (198 kB)\n",
            "\u001b[K     |████████████████████████████████| 198 kB 50.6 MB/s \n",
            "\u001b[?25hBuilding wheels for collected packages: pyspark\n",
            "  Building wheel for pyspark (setup.py) ... \u001b[?25l\u001b[?25hdone\n",
            "  Created wheel for pyspark: filename=pyspark-3.2.0-py2.py3-none-any.whl size=281805912 sha256=d1e565e9919ea314761d1e5da05349ab33859ef22292b47bcefc655e9c07240a\n",
            "  Stored in directory: /root/.cache/pip/wheels/0b/de/d2/9be5d59d7331c6c2a7c1b6d1a4f463ce107332b1ecd4e80718\n",
            "Successfully built pyspark\n",
            "Installing collected packages: py4j, pyspark\n",
            "Successfully installed py4j-0.10.9.2 pyspark-3.2.0\n",
            "Requirement already satisfied: pyspark in /usr/local/lib/python3.7/dist-packages (3.2.0)\n",
            "Requirement already satisfied: py4j==0.10.9.2 in /usr/local/lib/python3.7/dist-packages (from pyspark) (0.10.9.2)\n",
            "Requirement already satisfied: seaborn in /usr/local/lib/python3.7/dist-packages (0.11.2)\n",
            "Requirement already satisfied: numpy>=1.15 in /usr/local/lib/python3.7/dist-packages (from seaborn) (1.19.5)\n",
            "Requirement already satisfied: scipy>=1.0 in /usr/local/lib/python3.7/dist-packages (from seaborn) (1.4.1)\n",
            "Requirement already satisfied: pandas>=0.23 in /usr/local/lib/python3.7/dist-packages (from seaborn) (1.1.5)\n",
            "Requirement already satisfied: matplotlib>=2.2 in /usr/local/lib/python3.7/dist-packages (from seaborn) (3.2.2)\n",
            "Requirement already satisfied: python-dateutil>=2.1 in /usr/local/lib/python3.7/dist-packages (from matplotlib>=2.2->seaborn) (2.8.2)\n",
            "Requirement already satisfied: kiwisolver>=1.0.1 in /usr/local/lib/python3.7/dist-packages (from matplotlib>=2.2->seaborn) (1.3.2)\n",
            "Requirement already satisfied: pyparsing!=2.0.4,!=2.1.2,!=2.1.6,>=2.0.1 in /usr/local/lib/python3.7/dist-packages (from matplotlib>=2.2->seaborn) (2.4.7)\n",
            "Requirement already satisfied: cycler>=0.10 in /usr/local/lib/python3.7/dist-packages (from matplotlib>=2.2->seaborn) (0.11.0)\n",
            "Requirement already satisfied: pytz>=2017.2 in /usr/local/lib/python3.7/dist-packages (from pandas>=0.23->seaborn) (2018.9)\n",
            "Requirement already satisfied: six>=1.5 in /usr/local/lib/python3.7/dist-packages (from python-dateutil>=2.1->matplotlib>=2.2->seaborn) (1.15.0)\n",
            "Requirement already satisfied: plotly in /usr/local/lib/python3.7/dist-packages (4.4.1)\n",
            "Requirement already satisfied: retrying>=1.3.3 in /usr/local/lib/python3.7/dist-packages (from plotly) (1.3.3)\n",
            "Requirement already satisfied: six in /usr/local/lib/python3.7/dist-packages (from plotly) (1.15.0)\n",
            "Requirement already satisfied: imageio in /usr/local/lib/python3.7/dist-packages (2.4.1)\n",
            "Requirement already satisfied: pillow in /usr/local/lib/python3.7/dist-packages (from imageio) (7.1.2)\n",
            "Requirement already satisfied: numpy in /usr/local/lib/python3.7/dist-packages (from imageio) (1.19.5)\n",
            "Requirement already satisfied: folium in /usr/local/lib/python3.7/dist-packages (0.8.3)\n",
            "Requirement already satisfied: six in /usr/local/lib/python3.7/dist-packages (from folium) (1.15.0)\n",
            "Requirement already satisfied: requests in /usr/local/lib/python3.7/dist-packages (from folium) (2.23.0)\n",
            "Requirement already satisfied: jinja2 in /usr/local/lib/python3.7/dist-packages (from folium) (2.11.3)\n",
            "Requirement already satisfied: branca>=0.3.0 in /usr/local/lib/python3.7/dist-packages (from folium) (0.4.2)\n",
            "Requirement already satisfied: numpy in /usr/local/lib/python3.7/dist-packages (from folium) (1.19.5)\n",
            "Requirement already satisfied: MarkupSafe>=0.23 in /usr/local/lib/python3.7/dist-packages (from jinja2->folium) (2.0.1)\n",
            "Requirement already satisfied: certifi>=2017.4.17 in /usr/local/lib/python3.7/dist-packages (from requests->folium) (2021.10.8)\n",
            "Requirement already satisfied: chardet<4,>=3.0.2 in /usr/local/lib/python3.7/dist-packages (from requests->folium) (3.0.4)\n",
            "Requirement already satisfied: urllib3!=1.25.0,!=1.25.1,<1.26,>=1.21.1 in /usr/local/lib/python3.7/dist-packages (from requests->folium) (1.24.3)\n",
            "Requirement already satisfied: idna<3,>=2.5 in /usr/local/lib/python3.7/dist-packages (from requests->folium) (2.10)\n"
          ]
        }
      ]
    },
    {
      "cell_type": "code",
      "metadata": {
        "id": "mFIWnhpyQRGV"
      },
      "source": [
        "from pyspark.sql import SparkSession\n",
        "from pyspark.sql.types import *\n",
        "import pyspark.sql.functions as F\n",
        "\n",
        "import os\n",
        "\n",
        "spark = SparkSession.builder.appName('ml-hw4').getOrCreate()"
      ],
      "execution_count": null,
      "outputs": []
    },
    {
      "cell_type": "code",
      "metadata": {
        "id": "eCHCHta912Ha"
      },
      "source": [
        "%load_ext sparkmagic.magics"
      ],
      "execution_count": null,
      "outputs": []
    },
    {
      "cell_type": "code",
      "metadata": {
        "id": "iiKlXI3FRpsO"
      },
      "source": [
        "#graph section\n",
        "import networkx as nx\n",
        "# SQLite RDBMS\n",
        "import sqlite3\n",
        "# Parallel processing\n",
        "# import swifter\n",
        "import pandas as pd\n",
        "# NoSQL DB\n",
        "from pymongo import MongoClient\n",
        "from pymongo.errors import DuplicateKeyError, OperationFailure\n",
        "\n",
        "import os\n",
        "os.environ['SPARK_HOME'] = '/content/spark-3.1.2-bin-hadoop3.2'\n",
        "os.environ[\"JAVA_HOME\"] = \"/usr/lib/jvm/java-8-openjdk-amd64\"\n",
        "import pyspark\n",
        "from pyspark.sql import SQLContext"
      ],
      "execution_count": null,
      "outputs": []
    },
    {
      "cell_type": "code",
      "metadata": {
        "id": "YwtmhNjHRqXP"
      },
      "source": [
        "try:\n",
        "    if(spark == None):\n",
        "        spark = SparkSession.builder.appName('Initial').getOrCreate()\n",
        "        sqlContext=SQLContext(spark)\n",
        "except NameError:\n",
        "    spark = SparkSession.builder.appName('Initial').getOrCreate()\n",
        "    sqlContext=SQLContext(spark)\n"
      ],
      "execution_count": null,
      "outputs": []
    },
    {
      "cell_type": "markdown",
      "metadata": {
        "id": "RYoNCk5dR_bW"
      },
      "source": [
        "## **2.1** Initializing Spark Data\n",
        "\n",
        "We have the spark setup ready. Now we need the data for our ML algorithms. We will use the data you processed in Section 1 but in Spark. \n",
        "\n",
        "Read in the CSV that you created into a Spark dataframe (`sdf`). Make sure to set the inferSchema flag to True when you do this so that the columns are the correct datatypes and not all strings."
      ]
    },
    {
      "cell_type": "markdown",
      "metadata": {
        "id": "Ib0zdqV-T_0A"
      },
      "source": [
        "### **2.1.1** Loading Spark Schema and Creating VectorAssembler"
      ]
    },
    {
      "cell_type": "code",
      "metadata": {
        "id": "e0Esj9PZSEvl"
      },
      "source": [
        "train_sdf = spark.read.option(\"quote\", \"\\\"\").option('escape', \"\\\"\").csv(\"/content/combined_anime.csv\",header=True , inferSchema='True')"
      ],
      "execution_count": null,
      "outputs": []
    },
    {
      "cell_type": "code",
      "metadata": {
        "colab": {
          "base_uri": "https://localhost:8080/"
        },
        "id": "KxgCAQKNS3ht",
        "outputId": "8145b14a-bf2c-4136-c8f6-749fd4eea1cc"
      },
      "source": [
        "train_sdf.show()"
      ],
      "execution_count": null,
      "outputs": [
        {
          "output_type": "stream",
          "name": "stdout",
          "text": [
            "+---+--------+---------------+--------------------+-----+---------+------+----------+-------+------------+---------+------------------+--------------+------------+-------------+-------------+------------+-------------+\n",
            "|_c0|anime_id|       username|               title|score|scored_by|  rank|popularity|members|      source|favorites|            studio|         genre|genre_labels|studio_labels|source_labels|title_labels|above_average|\n",
            "+---+--------+---------------+--------------------+-----+---------+------+----------+-------+------------+---------+------------------+--------------+------------+-------------+-------------+------------+-------------+\n",
            "|  0|   10020|      Zukin-Man|Ore no Imouto ga ...| 7.57|    83849|1435.0|       658| 127176| Light novel|      176|         AIC Build| Slice of Life|          69|           14|            5|        3724|            0|\n",
            "|  0|   10020|      Zukin-Man|Ore no Imouto ga ...| 7.57|    83849|1435.0|       658| 127176| Light novel|      176|         AIC Build|        Comedy|           2|           14|            5|        3724|            0|\n",
            "|  1|   19111|       AluPachi|Love Live! School...| 7.99|    79740| 570.0|       599| 138715|       Other|     2475|           Sunrise|         Music|          57|          480|           10|        2864|            1|\n",
            "|  1|   19111|       AluPachi|Love Live! School...| 7.99|    79740| 570.0|       599| 138715|       Other|     2475|           Sunrise|        School|          25|          480|           10|        2864|            1|\n",
            "|  1|   19111|       AluPachi|Love Live! School...| 7.99|    79740| 570.0|       599| 138715|       Other|     2475|           Sunrise| Slice of Life|          32|          480|           10|        2864|            1|\n",
            "|  2|   30484|           huop|       Steins;Gate 0| 9.15|    26739|   4.0|       323| 223989|Visual novel|     1882|         White Fox|        Sci-Fi|          65|          561|           13|        4685|            1|\n",
            "|  2|   30484|           huop|       Steins;Gate 0| 9.15|    26739|   4.0|       323| 223989|Visual novel|     1882|         White Fox|      Thriller|          37|          561|           13|        4685|            1|\n",
            "|  3|    8888|          aL1v3|Code Geass: Bouko...| 7.56|    57690|1459.0|       756| 114530|    Original|      483|           Sunrise|        Action|          39|          480|            9|         806|            0|\n",
            "|  3|    8888|          aL1v3|Code Geass: Bouko...| 7.56|    57690|1459.0|       756| 114530|    Original|      483|           Sunrise|         Mecha|          16|          480|            9|         806|            0|\n",
            "|  3|    8888|          aL1v3|Code Geass: Bouko...| 7.56|    57690|1459.0|       756| 114530|    Original|      483|           Sunrise|      Military|          17|          480|            9|         806|            0|\n",
            "|  3|    8888|          aL1v3|Code Geass: Bouko...| 7.56|    57690|1459.0|       756| 114530|    Original|      483|           Sunrise|        Sci-Fi|          26|          480|            9|         806|            0|\n",
            "|  4|   15225|     LNA_Ichiro|Hentai Ouji to Wa...| 7.39|   148188|2068.0|       255| 268962| Light novel|     1464|         J.C.Staff|         Harem|          49|          204|            5|        1915|            0|\n",
            "|  4|   15225|     LNA_Ichiro|Hentai Ouji to Wa...| 7.39|   148188|2068.0|       255| 268962| Light novel|     1464|         J.C.Staff|        Comedy|           2|          204|            5|        1915|            0|\n",
            "|  4|   15225|     LNA_Ichiro|Hentai Ouji to Wa...| 7.39|   148188|2068.0|       255| 268962| Light novel|     1464|         J.C.Staff|  Supernatural|          36|          204|            5|        1915|            0|\n",
            "|  4|   15225|     LNA_Ichiro|Hentai Ouji to Wa...| 7.39|   148188|2068.0|       255| 268962| Light novel|     1464|         J.C.Staff|       Romance|          23|          204|            5|        1915|            0|\n",
            "|  4|   15225|     LNA_Ichiro|Hentai Ouji to Wa...| 7.39|   148188|2068.0|       255| 268962| Light novel|     1464|         J.C.Staff|        School|          25|          204|            5|        1915|            0|\n",
            "|  5|    1520|angelann_182000|          Black Jack| 7.84|     5763| 809.0|      2715|  19354|       Manga|      203|Tezuka Productions|         Drama|          45|          525|            6|         493|            1|\n",
            "|  6|   34933|     DelectaBit|           Kakegurui| 7.56|   132527|1463.0|       253| 271005|       Manga|     1688|             MAPPA|         Drama|          45|          256|            6|        2354|            0|\n",
            "|  6|   34933|     DelectaBit|           Kakegurui| 7.56|   132527|1463.0|       253| 271005|       Manga|     1688|             MAPPA|          Game|           8|          256|            6|        2354|            0|\n",
            "|  6|   34933|     DelectaBit|           Kakegurui| 7.56|   132527|1463.0|       253| 271005|       Manga|     1688|             MAPPA|       Mystery|          19|          256|            6|        2354|            0|\n",
            "+---+--------+---------------+--------------------+-----+---------+------+----------+-------+------------+---------+------------------+--------------+------------+-------------+-------------+------------+-------------+\n",
            "only showing top 20 rows\n",
            "\n"
          ]
        }
      ]
    },
    {
      "cell_type": "markdown",
      "metadata": {
        "id": "yBBmmJs4S46b"
      },
      "source": [
        "Print out the Dataframe Schema and verify the datatypes. \n"
      ]
    },
    {
      "cell_type": "code",
      "metadata": {
        "colab": {
          "base_uri": "https://localhost:8080/"
        },
        "id": "LQ6y2LXLS7H6",
        "outputId": "b445a12a-326d-49d5-f29d-4e15cf2efd0a"
      },
      "source": [
        "train_sdf.printSchema()"
      ],
      "execution_count": null,
      "outputs": [
        {
          "output_type": "stream",
          "name": "stdout",
          "text": [
            "root\n",
            " |-- _c0: integer (nullable = true)\n",
            " |-- anime_id: integer (nullable = true)\n",
            " |-- username: string (nullable = true)\n",
            " |-- title: string (nullable = true)\n",
            " |-- score: double (nullable = true)\n",
            " |-- scored_by: integer (nullable = true)\n",
            " |-- rank: double (nullable = true)\n",
            " |-- popularity: integer (nullable = true)\n",
            " |-- members: integer (nullable = true)\n",
            " |-- source: string (nullable = true)\n",
            " |-- favorites: integer (nullable = true)\n",
            " |-- studio: string (nullable = true)\n",
            " |-- genre: string (nullable = true)\n",
            " |-- genre_labels: integer (nullable = true)\n",
            " |-- studio_labels: integer (nullable = true)\n",
            " |-- source_labels: integer (nullable = true)\n",
            " |-- title_labels: integer (nullable = true)\n",
            " |-- above_average: integer (nullable = true)\n",
            "\n"
          ]
        }
      ]
    },
    {
      "cell_type": "markdown",
      "metadata": {
        "id": "lavRvEysS-lv"
      },
      "source": [
        "Great job, we have the processed data now. For Spark ML, we need to create a feature column which has all features concatenated and a single column for labels, which we already have!\n",
        "\n",
        "We will use VectorAssembler() to create a feature vector from all categorical and numerical features and we call the final vector as “features”.\n",
        "\n",
        "First list all columns in the data and store it in a list named all_columns."
      ]
    },
    {
      "cell_type": "code",
      "metadata": {
        "colab": {
          "base_uri": "https://localhost:8080/"
        },
        "id": "7zYIF4-1S-N8",
        "outputId": "ca32c41e-309c-4c35-bfb8-38251e2f1c20"
      },
      "source": [
        "from pyspark.ml.feature import StringIndexer, VectorAssembler\n",
        "\n",
        "all_columns = train_sdf.columns\n",
        "all_columns"
      ],
      "execution_count": null,
      "outputs": [
        {
          "output_type": "execute_result",
          "data": {
            "text/plain": [
              "['_c0',\n",
              " 'anime_id',\n",
              " 'username',\n",
              " 'title',\n",
              " 'score',\n",
              " 'scored_by',\n",
              " 'rank',\n",
              " 'popularity',\n",
              " 'members',\n",
              " 'source',\n",
              " 'favorites',\n",
              " 'studio',\n",
              " 'genre',\n",
              " 'genre_labels',\n",
              " 'studio_labels',\n",
              " 'source_labels',\n",
              " 'title_labels',\n",
              " 'above_average']"
            ]
          },
          "metadata": {},
          "execution_count": 61
        }
      ]
    },
    {
      "cell_type": "markdown",
      "metadata": {
        "id": "ZJGYsZUjTH-G"
      },
      "source": [
        "Create a list of columns which you don't want to include in your features (i.e. the original columns of labels and probably other columns which don't help the machine learning model). Name this list `drop_columns`."
      ]
    },
    {
      "cell_type": "code",
      "metadata": {
        "id": "nbRFgqJNTHpm"
      },
      "source": [
        "drop_columns = ['_c0','anime_id','title','username','source', 'studio', 'genre','rank','members']"
      ],
      "execution_count": null,
      "outputs": []
    },
    {
      "cell_type": "code",
      "metadata": {
        "colab": {
          "base_uri": "https://localhost:8080/"
        },
        "id": "6uZt79HlTEMg",
        "outputId": "e2bf49ac-324f-4758-b90e-7c3d25f3f97c"
      },
      "source": [
        "columns_to_use = ['score', 'scored_by','popularity', 'favorites', 'genre_labels', 'studio_labels', 'source_labels', 'title_labels', 'above_average']\n",
        "print(columns_to_use)"
      ],
      "execution_count": null,
      "outputs": [
        {
          "output_type": "stream",
          "name": "stdout",
          "text": [
            "['score', 'scored_by', 'popularity', 'favorites', 'genre_labels', 'studio_labels', 'source_labels', 'title_labels', 'above_average']\n"
          ]
        }
      ]
    },
    {
      "cell_type": "markdown",
      "metadata": {
        "id": "sgGOfZcUT2vX"
      },
      "source": [
        "Create a VectorAssembler object with columns you want to use. Name your output column as `features` (i.e. they are the features you wanna use later)."
      ]
    },
    {
      "cell_type": "code",
      "metadata": {
        "id": "kbfMrRbgT6nb"
      },
      "source": [
        "assembler = VectorAssembler(inputCols=columns_to_use, outputCol=\"features\")"
      ],
      "execution_count": null,
      "outputs": []
    },
    {
      "cell_type": "markdown",
      "metadata": {
        "id": "C3tZNd-4UOUL"
      },
      "source": [
        "### **2.1.2** Create Pipeline\n",
        "\n",
        "Now we will create a pipeline with many stages. For this data, we just need a single stage with the assembler, but you could have other stages before that where you perform operations on the data like converting categorical strings in the features to numeric values, or do feature scaling operations.\n",
        "\n",
        "In this step, we will create a pipeline with a single stage — the assembler. Fit the pipeline to your data and create the transformed dataframe and name it `modified_data_sdf`."
      ]
    },
    {
      "cell_type": "code",
      "metadata": {
        "id": "eT-ZzHdTUVbc"
      },
      "source": [
        "from pyspark.ml import Pipeline\n",
        "\n",
        "# Your code goes here\n",
        "pipeline = Pipeline(stages=[assembler])\n",
        "pipe = pipeline.fit(train_sdf)\n",
        "modified_data_sdf=pipe.transform(train_sdf)"
      ],
      "execution_count": null,
      "outputs": []
    },
    {
      "cell_type": "code",
      "metadata": {
        "colab": {
          "base_uri": "https://localhost:8080/"
        },
        "id": "jV-VcfHQF9rH",
        "outputId": "2f110250-39ac-4676-d655-0e5a2e77c719"
      },
      "source": [
        "modified_data_sdf.show()"
      ],
      "execution_count": null,
      "outputs": [
        {
          "output_type": "stream",
          "name": "stdout",
          "text": [
            "+---+--------+---------------+--------------------+-----+---------+------+----------+-------+------------+---------+------------------+--------------+------------+-------------+-------------+------------+-------------+--------------------+\n",
            "|_c0|anime_id|       username|               title|score|scored_by|  rank|popularity|members|      source|favorites|            studio|         genre|genre_labels|studio_labels|source_labels|title_labels|above_average|            features|\n",
            "+---+--------+---------------+--------------------+-----+---------+------+----------+-------+------------+---------+------------------+--------------+------------+-------------+-------------+------------+-------------+--------------------+\n",
            "|  0|   10020|      Zukin-Man|Ore no Imouto ga ...| 7.57|    83849|1435.0|       658| 127176| Light novel|      176|         AIC Build| Slice of Life|          69|           14|            5|        3724|            0|[7.57,83849.0,658...|\n",
            "|  0|   10020|      Zukin-Man|Ore no Imouto ga ...| 7.57|    83849|1435.0|       658| 127176| Light novel|      176|         AIC Build|        Comedy|           2|           14|            5|        3724|            0|[7.57,83849.0,658...|\n",
            "|  1|   19111|       AluPachi|Love Live! School...| 7.99|    79740| 570.0|       599| 138715|       Other|     2475|           Sunrise|         Music|          57|          480|           10|        2864|            1|[7.99,79740.0,599...|\n",
            "|  1|   19111|       AluPachi|Love Live! School...| 7.99|    79740| 570.0|       599| 138715|       Other|     2475|           Sunrise|        School|          25|          480|           10|        2864|            1|[7.99,79740.0,599...|\n",
            "|  1|   19111|       AluPachi|Love Live! School...| 7.99|    79740| 570.0|       599| 138715|       Other|     2475|           Sunrise| Slice of Life|          32|          480|           10|        2864|            1|[7.99,79740.0,599...|\n",
            "|  2|   30484|           huop|       Steins;Gate 0| 9.15|    26739|   4.0|       323| 223989|Visual novel|     1882|         White Fox|        Sci-Fi|          65|          561|           13|        4685|            1|[9.15,26739.0,323...|\n",
            "|  2|   30484|           huop|       Steins;Gate 0| 9.15|    26739|   4.0|       323| 223989|Visual novel|     1882|         White Fox|      Thriller|          37|          561|           13|        4685|            1|[9.15,26739.0,323...|\n",
            "|  3|    8888|          aL1v3|Code Geass: Bouko...| 7.56|    57690|1459.0|       756| 114530|    Original|      483|           Sunrise|        Action|          39|          480|            9|         806|            0|[7.56,57690.0,756...|\n",
            "|  3|    8888|          aL1v3|Code Geass: Bouko...| 7.56|    57690|1459.0|       756| 114530|    Original|      483|           Sunrise|         Mecha|          16|          480|            9|         806|            0|[7.56,57690.0,756...|\n",
            "|  3|    8888|          aL1v3|Code Geass: Bouko...| 7.56|    57690|1459.0|       756| 114530|    Original|      483|           Sunrise|      Military|          17|          480|            9|         806|            0|[7.56,57690.0,756...|\n",
            "|  3|    8888|          aL1v3|Code Geass: Bouko...| 7.56|    57690|1459.0|       756| 114530|    Original|      483|           Sunrise|        Sci-Fi|          26|          480|            9|         806|            0|[7.56,57690.0,756...|\n",
            "|  4|   15225|     LNA_Ichiro|Hentai Ouji to Wa...| 7.39|   148188|2068.0|       255| 268962| Light novel|     1464|         J.C.Staff|         Harem|          49|          204|            5|        1915|            0|[7.39,148188.0,25...|\n",
            "|  4|   15225|     LNA_Ichiro|Hentai Ouji to Wa...| 7.39|   148188|2068.0|       255| 268962| Light novel|     1464|         J.C.Staff|        Comedy|           2|          204|            5|        1915|            0|[7.39,148188.0,25...|\n",
            "|  4|   15225|     LNA_Ichiro|Hentai Ouji to Wa...| 7.39|   148188|2068.0|       255| 268962| Light novel|     1464|         J.C.Staff|  Supernatural|          36|          204|            5|        1915|            0|[7.39,148188.0,25...|\n",
            "|  4|   15225|     LNA_Ichiro|Hentai Ouji to Wa...| 7.39|   148188|2068.0|       255| 268962| Light novel|     1464|         J.C.Staff|       Romance|          23|          204|            5|        1915|            0|[7.39,148188.0,25...|\n",
            "|  4|   15225|     LNA_Ichiro|Hentai Ouji to Wa...| 7.39|   148188|2068.0|       255| 268962| Light novel|     1464|         J.C.Staff|        School|          25|          204|            5|        1915|            0|[7.39,148188.0,25...|\n",
            "|  5|    1520|angelann_182000|          Black Jack| 7.84|     5763| 809.0|      2715|  19354|       Manga|      203|Tezuka Productions|         Drama|          45|          525|            6|         493|            1|[7.84,5763.0,2715...|\n",
            "|  6|   34933|     DelectaBit|           Kakegurui| 7.56|   132527|1463.0|       253| 271005|       Manga|     1688|             MAPPA|         Drama|          45|          256|            6|        2354|            0|[7.56,132527.0,25...|\n",
            "|  6|   34933|     DelectaBit|           Kakegurui| 7.56|   132527|1463.0|       253| 271005|       Manga|     1688|             MAPPA|          Game|           8|          256|            6|        2354|            0|[7.56,132527.0,25...|\n",
            "|  6|   34933|     DelectaBit|           Kakegurui| 7.56|   132527|1463.0|       253| 271005|       Manga|     1688|             MAPPA|       Mystery|          19|          256|            6|        2354|            0|[7.56,132527.0,25...|\n",
            "+---+--------+---------------+--------------------+-----+---------+------+----------+-------+------------+---------+------------------+--------------+------------+-------------+-------------+------------+-------------+--------------------+\n",
            "only showing top 20 rows\n",
            "\n"
          ]
        }
      ]
    },
    {
      "cell_type": "markdown",
      "metadata": {
        "id": "9UBMweT-UfGy"
      },
      "source": [
        "Now that we have the data in the format we need, we will create out train and test sets. Split into an 80-20 ratio between the train and test sets. Name these `train_sdf` and `test_sdf`"
      ]
    },
    {
      "cell_type": "code",
      "metadata": {
        "colab": {
          "base_uri": "https://localhost:8080/"
        },
        "id": "NNp1XdQkUl4C",
        "outputId": "f353cc57-695f-4131-dae0-4aa720af3fe7"
      },
      "source": [
        "print(modified_data_sdf.count())"
      ],
      "execution_count": null,
      "outputs": [
        {
          "output_type": "stream",
          "name": "stdout",
          "text": [
            "1386393\n"
          ]
        }
      ]
    },
    {
      "cell_type": "code",
      "metadata": {
        "id": "m4K3pAg3Upco"
      },
      "source": [
        "train_sdf, test_sdf = modified_data_sdf.randomSplit([0.8, 0.2], seed=24)"
      ],
      "execution_count": null,
      "outputs": []
    },
    {
      "cell_type": "markdown",
      "metadata": {
        "id": "RXTc2WABUsHQ"
      },
      "source": [
        "## **2.2** Logistic Regression Using SparkML\n",
        "\n",
        "Time to do the cool stuff, let's train a logistic regression model to our data and try to predict the views again! This time, we will use \"Big\" data tools. We will be using Logistic Regression for classification.\n",
        "\n",
        "Look up the documentation online and try to understand how to implement this.\n",
        "\n",
        "Firstly, **train a model without any regularization.**"
      ]
    },
    {
      "cell_type": "code",
      "metadata": {
        "id": "q-tFMHV1U8sL"
      },
      "source": [
        "from pyspark.ml.classification import LogisticRegression\n",
        "\n",
        "# fit on training data\n",
        "lr=LogisticRegression(featuresCol=\"features\", labelCol='above_average')\n",
        "model=lr.fit(train_sdf)\n",
        "predict=model.transform(train_sdf)"
      ],
      "execution_count": null,
      "outputs": []
    },
    {
      "cell_type": "code",
      "metadata": {
        "id": "0-kFBe5SVEr6",
        "colab": {
          "base_uri": "https://localhost:8080/"
        },
        "outputId": "90d62145-ba66-49a0-c4e5-a3fc927e8632"
      },
      "source": [
        "#training accuracy\n",
        "from pyspark.ml.evaluation import BinaryClassificationEvaluator\n",
        "\n",
        "evaluator = BinaryClassificationEvaluator(labelCol=\"prediction\")\n",
        "evaluator.evaluate(predict)"
      ],
      "execution_count": null,
      "outputs": [
        {
          "output_type": "execute_result",
          "data": {
            "text/plain": [
              "0.9999999502907573"
            ]
          },
          "metadata": {},
          "execution_count": 72
        }
      ]
    },
    {
      "cell_type": "markdown",
      "metadata": {
        "id": "haMfuou_zcBo"
      },
      "source": [
        "Now, find out how good the model actually is and see if it overfits the training data. Predict the label for above average for your test data (hint: it is called 'transform' in spark ml) and evaluate the performance using the area under the ROC curve using 'BinaryClassificationEvaluator' object in the Spark ML Regression library."
      ]
    },
    {
      "cell_type": "code",
      "metadata": {
        "id": "NUc4Fv8szeEz"
      },
      "source": [
        "# prediction and evaluation\n",
        "predictions = model.transform(test_sdf)"
      ],
      "execution_count": null,
      "outputs": []
    },
    {
      "cell_type": "code",
      "metadata": {
        "id": "gcf6s4DXZXN1"
      },
      "source": [
        "# training accuracy \n",
        "training_accuracy = evaluator.evaluate(predictions)\n",
        "# performance on test data using area under roc metric\n",
        "roc_evaluator = BinaryClassificationEvaluator(labelCol=\"prediction\", metricName='areaUnderROC')\n",
        "test_predictions_log = roc_evaluator.evaluate(predictions)"
      ],
      "execution_count": null,
      "outputs": []
    },
    {
      "cell_type": "markdown",
      "metadata": {
        "id": "AdlWkpvRzwFJ"
      },
      "source": [
        "Now, we will add regularization to avoid overfitting. Play around with different regularization parameters - try out LASSO (L1), Ridge (L2) and elastic net (combination of L1 and L2) and different regularization hyperparameters when initializing 3 different regularized logistic regression models. Compare these with each other and the non regularized regression done above.\n",
        "\n",
        "Make sure to evaluate the performance on test data using the same metric as above(area under ROC curve)"
      ]
    },
    {
      "cell_type": "code",
      "metadata": {
        "id": "N4bcMO5lzx5r"
      },
      "source": [
        "# LASSO L1 \n",
        "lr_lasso=LogisticRegression(featuresCol=\"features\", labelCol='above_average',elasticNetParam=1)\n",
        "model=lr_lasso.fit(train_sdf)\n",
        "predictionsla = model.transform(test_sdf)\n",
        "test_area_l1 = roc_evaluator.evaluate(predictionsla)\n",
        "\n",
        "# RIDGE L2 \n",
        "lr_ridge=LogisticRegression(featuresCol=\"features\", labelCol='above_average',elasticNetParam=0)\n",
        "model=lr_ridge.fit(train_sdf)\n",
        "predictionsri = model.transform(test_sdf)\n",
        "test_area_l2 = roc_evaluator.evaluate(predictionsri)\n",
        "\n",
        "# Some variant of elastic net\n",
        "lr_elastic=LogisticRegression(featuresCol=\"features\", labelCol='above_average',elasticNetParam=0.5)\n",
        "model=lr_elastic.fit(train_sdf)\n",
        "predictionsel = model.transform(test_sdf)\n",
        "test_area_elastic = roc_evaluator.evaluate(predictionsel)"
      ],
      "execution_count": null,
      "outputs": []
    },
    {
      "cell_type": "code",
      "metadata": {
        "id": "Pm2khIoDv6-H",
        "colab": {
          "base_uri": "https://localhost:8080/"
        },
        "outputId": "69725e9c-f37f-400d-feee-2f0db2d2a8f2"
      },
      "source": [
        "print(test_area_l1, test_area_l2, test_area_elastic)"
      ],
      "execution_count": null,
      "outputs": [
        {
          "output_type": "stream",
          "name": "stdout",
          "text": [
            "0.9999999139982345 0.9999999139982345 0.9999999139982345\n"
          ]
        }
      ]
    },
    {
      "cell_type": "markdown",
      "metadata": {
        "id": "3L-YMt6PVw_j"
      },
      "source": [
        "## **2.3** Random Forest Classification\n",
        "\n",
        "As a data scientist, if you are looking to win competitions, you definitely must know about random forests, boosted trees etc. These esemble methods generalize well and work surprisingly well for a lot of classification problems and sometimes for regression problems. So let's give it a go with our problem. Just like the logistic regression model, create a random forest classifier model, fit the training data and evaluate using the area under the ROC curve metric."
      ]
    },
    {
      "cell_type": "code",
      "metadata": {
        "id": "NbfAcnpbVzQi"
      },
      "source": [
        "from pyspark.ml.classification import RandomForestClassifier\n",
        "#define model\n",
        "rfc=RandomForestClassifier(featuresCol=\"features\", labelCol='above_average')"
      ],
      "execution_count": null,
      "outputs": []
    },
    {
      "cell_type": "code",
      "metadata": {
        "id": "xgUEE8pa0iZv"
      },
      "source": [
        "#fit on training data\n",
        "model=rfc.fit(train_sdf)"
      ],
      "execution_count": null,
      "outputs": []
    },
    {
      "cell_type": "code",
      "metadata": {
        "id": "ZAfh_8Lr0drA"
      },
      "source": [
        "#predictions\n",
        "predict=model.transform(train_sdf)\n",
        "predictions = model.transform(test_sdf)"
      ],
      "execution_count": null,
      "outputs": []
    },
    {
      "cell_type": "code",
      "metadata": {
        "id": "7XAVz3c00frT"
      },
      "source": [
        "#evaluate predictions\n",
        "train_area = roc_evaluator.evaluate(predict)\n",
        "test_area =  roc_evaluator.evaluate(predictions)"
      ],
      "execution_count": null,
      "outputs": []
    },
    {
      "cell_type": "markdown",
      "metadata": {
        "id": "60F4gyLsV0ez"
      },
      "source": [
        "## **2.4** Dimensionality Reduction Using PCA\n",
        "\n",
        "We will again use the powerful PCA to reduce the dimensions and project the data onto a lower dimensional space and so logistic regression on the new projected data. Choose an appropriate value for the number of dimensions - you already found out this number in section 1!\n",
        "\n",
        "\n",
        "Steps for this section\n",
        "1.   Initialize a PCA model\n",
        "2.   Fit the model using the training data\n",
        "3.   Get the PCA feature from the trained model\n",
        "4.   Train a logistic regression model using the PCA features\n",
        "5.   Evaluate the performance on the test set using the area under ROC curve metric \n",
        "\n"
      ]
    },
    {
      "cell_type": "code",
      "metadata": {
        "id": "yNdAs86HV3L0"
      },
      "source": [
        "from pyspark.ml.feature import PCA as PCAml\n",
        "pca=PCAml(k=6, inputCol=\"features\")\n",
        "model = pca.fit(train_sdf)\n",
        "train_sdf = model.transform(train_sdf)\n",
        "test_sdf = model.transform(test_sdf)"
      ],
      "execution_count": null,
      "outputs": []
    },
    {
      "cell_type": "code",
      "metadata": {
        "id": "thU4OPlzCWsu"
      },
      "source": [
        "model=lr.fit(train_sdf)\n",
        "predict=model.transform(train_sdf)\n",
        "predictions=model.transform(test_sdf)"
      ],
      "execution_count": null,
      "outputs": []
    },
    {
      "cell_type": "code",
      "metadata": {
        "id": "2tfeUIuU5S4H"
      },
      "source": [
        "#evaluate predictions\n",
        "training_ROC_area_pca = roc_evaluator.evaluate(predict)\n",
        "test_ROC_area_pca = roc_evaluator.evaluate(predictions)"
      ],
      "execution_count": null,
      "outputs": []
    }
  ]
}